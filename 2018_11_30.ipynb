{
 "cells": [
  {
   "cell_type": "code",
   "execution_count": 25,
   "metadata": {},
   "outputs": [
    {
     "data": {
      "text/plain": [
       "(100, 36)"
      ]
     },
     "execution_count": 25,
     "metadata": {},
     "output_type": "execute_result"
    }
   ],
   "source": [
    "import pandas as pd\n",
    "\n",
    "import numpy as np\n",
    "\n",
    "# problems for Nov 16\n",
    "\n",
    "# import the data set\n",
    "\n",
    "data = pd.read_csv(\"Brapa_cpm.csv\")\n",
    "\n",
    "data = np.array(data)\n",
    "\n",
    "data.shape"
   ]
  },
  {
   "cell_type": "markdown",
   "metadata": {},
   "source": [
    "### Q1: make a new array where the values are converted to log2 cpm\n"
   ]
  },
  {
   "cell_type": "code",
   "execution_count": 26,
   "metadata": {},
   "outputs": [
    {
     "name": "stderr",
     "output_type": "stream",
     "text": [
      "C:\\ProgramData\\Anaconda3\\lib\\site-packages\\ipykernel_launcher.py:1: RuntimeWarning: divide by zero encountered in log2\n",
      "  \"\"\"Entry point for launching an IPython kernel.\n",
      "C:\\ProgramData\\Anaconda3\\lib\\site-packages\\ipykernel_launcher.py:1: RuntimeWarning: invalid value encountered in log2\n",
      "  \"\"\"Entry point for launching an IPython kernel.\n"
     ]
    }
   ],
   "source": [
    "data2 = np.log2(data)"
   ]
  },
  {
   "cell_type": "code",
   "execution_count": 27,
   "metadata": {},
   "outputs": [
    {
     "data": {
      "text/plain": [
       "-0.432131681"
      ]
     },
     "execution_count": 27,
     "metadata": {},
     "output_type": "execute_result"
    }
   ],
   "source": [
    "np.min(data)"
   ]
  },
  {
   "cell_type": "code",
   "execution_count": 28,
   "metadata": {},
   "outputs": [
    {
     "data": {
      "text/plain": [
       "array([26, 29, 23, 25, 27, 24, 27, 28, 26, 26, 26, 26, 26, 25, 26, 28, 30,\n",
       "       27, 28, 27, 26, 23, 26, 26, 26, 24, 24, 24, 26, 26, 24, 28, 25, 25,\n",
       "       26, 23])"
      ]
     },
     "execution_count": 28,
     "metadata": {},
     "output_type": "execute_result"
    }
   ],
   "source": [
    "sum(data == 0)"
   ]
  },
  {
   "cell_type": "code",
   "execution_count": 29,
   "metadata": {},
   "outputs": [
    {
     "data": {
      "text/plain": [
       "array([[  0.26290953,  -0.40310075,  -0.23202226, ...,  -4.14646913,\n",
       "         -5.14644355, -19.93156857],\n",
       "       [  3.99495792,   3.70990132,   3.66301636, ...,   4.27982777,\n",
       "          4.16607155,   4.01665663],\n",
       "       [  0.2665089 ,   0.50041072,   0.22147064, ...,   3.08029112,\n",
       "          2.61892812,   3.11072121],\n",
       "       ...,\n",
       "       [  3.79368713,   3.68132562,   3.86629219, ...,   4.0464744 ,\n",
       "          3.75526413,   4.08196019],\n",
       "       [  3.73666535,   3.76108546,   3.97229504, ...,   4.76246184,\n",
       "          5.23221033,   4.98177781],\n",
       "       [  2.64780606,   0.64752399,   0.92577942, ...,   3.07437482,\n",
       "          2.55805246,   2.85147923]])"
      ]
     },
     "execution_count": 29,
     "metadata": {},
     "output_type": "execute_result"
    }
   ],
   "source": [
    "# Data set has negative numbers and zeroes. Need to adjust for both\n",
    "data2 = np.log2(data - np.min(data) + 0.000001)\n",
    "data2"
   ]
  },
  {
   "cell_type": "markdown",
   "metadata": {},
   "source": [
    "### Q2: Which gene has the highest expression?"
   ]
  },
  {
   "cell_type": "code",
   "execution_count": 30,
   "metadata": {},
   "outputs": [
    {
     "data": {
      "text/plain": [
       "430.28902095555554"
      ]
     },
     "execution_count": 30,
     "metadata": {},
     "output_type": "execute_result"
    }
   ],
   "source": [
    "data.mean(1).max()"
   ]
  },
  {
   "cell_type": "code",
   "execution_count": 31,
   "metadata": {},
   "outputs": [
    {
     "data": {
      "text/plain": [
       "array([False, False, False, False, False, False, False, False, False,\n",
       "       False, False, False, False, False, False, False, False, False,\n",
       "       False, False, False, False, False, False, False, False, False,\n",
       "       False, False, False, False, False, False, False,  True, False,\n",
       "       False, False, False, False, False, False, False, False, False,\n",
       "       False, False, False, False, False, False, False, False, False,\n",
       "       False, False, False, False, False, False, False, False, False,\n",
       "       False, False, False, False, False, False, False, False, False,\n",
       "       False, False, False, False, False, False, False, False, False,\n",
       "       False, False, False, False, False, False, False, False, False,\n",
       "       False, False, False, False, False, False, False, False, False,\n",
       "       False])"
      ]
     },
     "execution_count": 31,
     "metadata": {},
     "output_type": "execute_result"
    }
   ],
   "source": [
    "data.mean(1) == data.mean(1).max()"
   ]
  },
  {
   "cell_type": "code",
   "execution_count": 32,
   "metadata": {},
   "outputs": [
    {
     "data": {
      "text/plain": [
       "array([[581.811147 , 583.8634533, 431.2581622, 462.7393055, 471.8619072,\n",
       "        469.7565652, 549.513914 , 606.2141607, 565.0840259, 444.6698221,\n",
       "        446.5692411, 328.7638287, 444.5217237, 418.2273167, 392.2905498,\n",
       "        318.4005983, 392.4310666, 282.6760644, 606.537572 , 318.9623725,\n",
       "        477.8861611, 417.4379432, 496.4035916, 542.2109051, 446.3818842,\n",
       "        315.6319588, 349.2641623, 250.4791826, 524.4849891, 419.0291297,\n",
       "        356.4675526, 338.4061775, 410.535286 , 248.3810475, 448.7738845,\n",
       "        332.4781017]])"
      ]
     },
     "execution_count": 32,
     "metadata": {},
     "output_type": "execute_result"
    }
   ],
   "source": [
    "data[data.mean(1) == data.mean(1).max()]"
   ]
  },
  {
   "cell_type": "code",
   "execution_count": 33,
   "metadata": {},
   "outputs": [
    {
     "data": {
      "text/plain": [
       "array([34])"
      ]
     },
     "execution_count": 33,
     "metadata": {},
     "output_type": "execute_result"
    }
   ],
   "source": [
    "data_index = np.array(range(100))\n",
    "data_index[data.mean(1) == data.mean(1).max()]\n",
    "# Gene 34"
   ]
  },
  {
   "cell_type": "code",
   "execution_count": 34,
   "metadata": {},
   "outputs": [
    {
     "data": {
      "text/plain": [
       "34"
      ]
     },
     "execution_count": 34,
     "metadata": {},
     "output_type": "execute_result"
    }
   ],
   "source": [
    "# Better\n",
    "data.mean(1).argmax()"
   ]
  },
  {
   "cell_type": "markdown",
   "metadata": {},
   "source": [
    "### Q3: Make a new array in which each row is sorted by expression"
   ]
  },
  {
   "cell_type": "code",
   "execution_count": 35,
   "metadata": {},
   "outputs": [
    {
     "data": {
      "text/plain": [
       "array([[-0.43213168, -0.40389909, -0.3756665 , ...,  0.76776346,\n",
       "         0.87295335,  1.13099691],\n",
       "       [11.92401959, 12.23498485, 12.65340514, ..., 18.99266642,\n",
       "        19.66686149, 20.51381257],\n",
       "       [ 0.30546685,  0.30684473,  0.33741222, ...,  8.32558841,\n",
       "         8.64074316,  8.66235422],\n",
       "       ...,\n",
       "       [10.90717911, 11.23966575, 11.45910452, ..., 16.64082744,\n",
       "        16.77508967, 16.97016381],\n",
       "       [12.89842606, 13.12598937, 13.23893816, ..., 37.83620322,\n",
       "        41.03030768, 44.25919551],\n",
       "       [ 1.13434476,  1.46757761,  2.4235648 , ...,  8.27388054,\n",
       "         9.65093666,  9.73393883]])"
      ]
     },
     "execution_count": 35,
     "metadata": {},
     "output_type": "execute_result"
    }
   ],
   "source": [
    "data3 = np.sort(data, axis = 1)\n",
    "data3"
   ]
  },
  {
   "cell_type": "markdown",
   "metadata": {},
   "source": [
    "### Q4: Make a new array in which the samples are sorted according to average expression.  NOTE this is different than sorting each row...explain how"
   ]
  },
  {
   "cell_type": "code",
   "execution_count": 36,
   "metadata": {},
   "outputs": [
    {
     "data": {
      "text/plain": [
       "array([33, 26, 35, 27, 30, 31, 17, 32, 25, 34, 29, 12, 20, 15, 11, 13, 22,\n",
       "       24, 18, 21, 19, 28,  8, 16, 14, 23,  9, 10,  5,  6,  0,  3,  2,  1,\n",
       "        7,  4], dtype=int64)"
      ]
     },
     "execution_count": 36,
     "metadata": {},
     "output_type": "execute_result"
    }
   ],
   "source": [
    "np.argsort(data.mean(0))"
   ]
  },
  {
   "cell_type": "code",
   "execution_count": 37,
   "metadata": {},
   "outputs": [
    {
     "data": {
      "text/plain": [
       "array([[-0.3756665 , -0.17803837, -0.43213168, ...,  0.3240985 ,\n",
       "         0.        ,  0.        ],\n",
       "       [18.99266642, 17.12584781, 15.75366579, ..., 12.65340514,\n",
       "        12.65996741, 16.02532604],\n",
       "       [ 8.02571818,  5.21656039,  8.20601037, ...,  0.98248355,\n",
       "         0.47489179,  0.49033104],\n",
       "       ...,\n",
       "       [16.0916765 , 14.75318162, 16.50315033, ..., 12.39676774,\n",
       "        13.1588698 , 15.77231522],\n",
       "       [26.70999365, 41.03030768, 31.16622814, ..., 13.12598937,\n",
       "        17.65022058, 13.23893816],\n",
       "       [ 7.99110466,  6.71174786,  6.78526738, ...,  1.13434476,\n",
       "         3.46700761,  2.94198626]])"
      ]
     },
     "execution_count": 37,
     "metadata": {},
     "output_type": "execute_result"
    }
   ],
   "source": [
    "data4 = data[:,np.argsort(data.mean(0))].copy()\n",
    "data4"
   ]
  },
  {
   "cell_type": "markdown",
   "metadata": {},
   "source": [
    "### Q5: what is the total number of unique values in the table?"
   ]
  },
  {
   "cell_type": "code",
   "execution_count": 38,
   "metadata": {},
   "outputs": [
    {
     "data": {
      "text/plain": [
       "array([-4.32131681e-01, -4.03899090e-01, -3.75666500e-01, ...,\n",
       "        6.15132081e+02,  6.47440730e+02,  7.85020000e+02])"
      ]
     },
     "execution_count": 38,
     "metadata": {},
     "output_type": "execute_result"
    }
   ],
   "source": [
    "np.unique(data)"
   ]
  },
  {
   "cell_type": "code",
   "execution_count": 39,
   "metadata": {},
   "outputs": [
    {
     "data": {
      "text/plain": [
       "2212"
      ]
     },
     "execution_count": 39,
     "metadata": {},
     "output_type": "execute_result"
    }
   ],
   "source": [
    "np.unique(data).shape[0]"
   ]
  },
  {
   "cell_type": "markdown",
   "metadata": {},
   "source": [
    "### Q6: Make a new array in which any cell that has less than 10 cpm is replaced with 0"
   ]
  },
  {
   "cell_type": "code",
   "execution_count": 40,
   "metadata": {},
   "outputs": [],
   "source": [
    "data5 = np.where(data < 10, 0, data)"
   ]
  },
  {
   "cell_type": "markdown",
   "metadata": {},
   "source": [
    "### Q7: Make a new array that only retains genes that are expressed at > 10 cpm in at least half the samples.  (I haven't checked, maybe all genes will pass)"
   ]
  },
  {
   "cell_type": "code",
   "execution_count": 41,
   "metadata": {},
   "outputs": [
    {
     "data": {
      "text/plain": [
       "33"
      ]
     },
     "execution_count": 41,
     "metadata": {},
     "output_type": "execute_result"
    }
   ],
   "source": [
    "# all non-zero\n",
    "index = np.where(np.count_nonzero(data5,1) >= data.shape[1]/2, True, False)\n",
    "index\n",
    "sum(index)"
   ]
  },
  {
   "cell_type": "code",
   "execution_count": 42,
   "metadata": {},
   "outputs": [
    {
     "data": {
      "text/plain": [
       "(33, 36)"
      ]
     },
     "execution_count": 42,
     "metadata": {},
     "output_type": "execute_result"
    }
   ],
   "source": [
    "data6 = data[index]\n",
    "data6.shape"
   ]
  },
  {
   "cell_type": "markdown",
   "metadata": {},
   "source": [
    "### Q8 calculate the standard deviation for each gene using the builtin function"
   ]
  },
  {
   "cell_type": "code",
   "execution_count": 43,
   "metadata": {},
   "outputs": [],
   "source": [
    "data_std = np.std(data,1)"
   ]
  },
  {
   "cell_type": "markdown",
   "metadata": {},
   "source": [
    "### Q9 calcualte the standard deviation for each gene WITHOUT using the builtin function"
   ]
  },
  {
   "cell_type": "code",
   "execution_count": 44,
   "metadata": {},
   "outputs": [],
   "source": [
    "means = data.mean(1)\n",
    "squares = ((data - means.reshape(100,1)) ** 2).sum(1)\n",
    "data_std_2 = (squares/(data.shape[1])) ** 0.5"
   ]
  },
  {
   "cell_type": "code",
   "execution_count": 45,
   "metadata": {},
   "outputs": [
    {
     "data": {
      "text/plain": [
       "True"
      ]
     },
     "execution_count": 45,
     "metadata": {},
     "output_type": "execute_result"
    }
   ],
   "source": [
    "all(data_std == data_std_2)\n",
    "# Likely due to rounding and other small difference"
   ]
  },
  {
   "cell_type": "markdown",
   "metadata": {},
   "source": [
    "### Q10 create a slice that contains the first 10 samples"
   ]
  },
  {
   "cell_type": "code",
   "execution_count": 46,
   "metadata": {},
   "outputs": [
    {
     "data": {
      "text/plain": [
       "(100, 10)"
      ]
     },
     "execution_count": 46,
     "metadata": {},
     "output_type": "execute_result"
    }
   ],
   "source": [
    "data7 = data[:,:10]\n",
    "data7.shape"
   ]
  },
  {
   "cell_type": "markdown",
   "metadata": {},
   "source": [
    "### Q11 Changing topics...generate and plot a 2D random walk (see Chapter 4.7)"
   ]
  },
  {
   "cell_type": "code",
   "execution_count": 49,
   "metadata": {},
   "outputs": [
    {
     "data": {
      "text/plain": [
       "<matplotlib.collections.PathCollection at 0x1fdfd003748>"
      ]
     },
     "execution_count": 49,
     "metadata": {},
     "output_type": "execute_result"
    },
    {
     "data": {
      "image/png": "[encoded data removed]",
      "text/plain": [
       "<Figure size 432x288 with 1 Axes>"
      ]
     },
     "metadata": {
      "needs_background": "light"
     },
     "output_type": "display_data"
    }
   ],
   "source": [
    "import random\n",
    "import matplotlib.pyplot as plt\n",
    "position = (0,0)\n",
    "walk = [position]\n",
    "steps = 100\n",
    "for i in range(steps):\n",
    "    x_step = 1 if random.randint(0,1) else -1\n",
    "    y_step = 1 if random.randint(0,1) else -1\n",
    "    position = (position[0] + x_step,\n",
    "                position[1] + y_step)\n",
    "    walk.append(position)\n",
    "colors = np.arange(101)\n",
    "plt.scatter(*zip(*walk), c = colors, cmap='jet')"
   ]
  },
  {
   "cell_type": "code",
   "execution_count": 55,
   "metadata": {},
   "outputs": [
    {
     "data": {
      "text/plain": [
       "<matplotlib.collections.PathCollection at 0x1fdff4eb588>"
      ]
     },
     "execution_count": 55,
     "metadata": {},
     "output_type": "execute_result"
    },
    {
     "data": {
      "image/png": "[encoded data removed]",
      "text/plain": [
       "<Figure size 432x288 with 1 Axes>"
      ]
     },
     "metadata": {
      "needs_background": "light"
     },
     "output_type": "display_data"
    }
   ],
   "source": [
    "position = (0,0)\n",
    "walk = [position]\n",
    "steps = 100\n",
    "for i in range(steps):\n",
    "    x_step = 1 if random.randint(0,1) else -1\n",
    "    y_step = 1 if random.randint(0,1) else -1\n",
    "    position = (position[0] + x_step + .1,\n",
    "                position[1] + y_step + .1)\n",
    "    walk.append(position)\n",
    "colors = np.arange(101)\n",
    "plt.scatter(*zip(*walk), c = colors, cmap='jet')"
   ]
  }
 ],
 "metadata": {
  "kernelspec": {
   "display_name": "Python 3",
   "language": "python",
   "name": "python3"
  },
  "language_info": {
   "codemirror_mode": {
    "name": "ipython",
    "version": 3
   },
   "file_extension": ".py",
   "mimetype": "text/x-python",
   "name": "python",
   "nbconvert_exporter": "python",
   "pygments_lexer": "ipython3",
   "version": "3.7.0"
  }
 },
 "nbformat": 4,
 "nbformat_minor": 2
}
