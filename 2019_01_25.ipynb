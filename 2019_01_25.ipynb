{
 "cells": [
  {
   "cell_type": "markdown",
   "metadata": {},
   "source": [
    "### 7.1 Handling Missing Data"
   ]
  },
  {
   "cell_type": "code",
   "execution_count": 1,
   "metadata": {},
   "outputs": [],
   "source": [
    "import pandas as pd\n",
    "import numpy as np\n",
    "string_data = pd.Series(['aardvark', 'artichoke', np.nan, 'avocado'])"
   ]
  },
  {
   "cell_type": "code",
   "execution_count": 2,
   "metadata": {},
   "outputs": [
    {
     "data": {
      "text/plain": [
       "0     aardvark\n",
       "1    artichoke\n",
       "2          NaN\n",
       "3      avocado\n",
       "dtype: object"
      ]
     },
     "execution_count": 2,
     "metadata": {},
     "output_type": "execute_result"
    }
   ],
   "source": [
    "string_data"
   ]
  },
  {
   "cell_type": "code",
   "execution_count": 3,
   "metadata": {},
   "outputs": [
    {
     "data": {
      "text/plain": [
       "0    False\n",
       "1    False\n",
       "2     True\n",
       "3    False\n",
       "dtype: bool"
      ]
     },
     "execution_count": 3,
     "metadata": {},
     "output_type": "execute_result"
    }
   ],
   "source": [
    "string_data.isnull()"
   ]
  },
  {
   "cell_type": "code",
   "execution_count": 4,
   "metadata": {},
   "outputs": [
    {
     "data": {
      "text/plain": [
       "0     True\n",
       "1    False\n",
       "2     True\n",
       "3    False\n",
       "dtype: bool"
      ]
     },
     "execution_count": 4,
     "metadata": {},
     "output_type": "execute_result"
    }
   ],
   "source": [
    "string_data[0] = None\n",
    "string_data.isnull()"
   ]
  },
  {
   "cell_type": "code",
   "execution_count": 5,
   "metadata": {},
   "outputs": [
    {
     "data": {
      "text/plain": [
       "1    artichoke\n",
       "3      avocado\n",
       "dtype: object"
      ]
     },
     "execution_count": 5,
     "metadata": {},
     "output_type": "execute_result"
    }
   ],
   "source": [
    "string_data.dropna()"
   ]
  },
  {
   "cell_type": "code",
   "execution_count": 6,
   "metadata": {},
   "outputs": [
    {
     "data": {
      "text/plain": [
       "0      YHATZEE\n",
       "1    artichoke\n",
       "2      YHATZEE\n",
       "3      avocado\n",
       "dtype: object"
      ]
     },
     "execution_count": 6,
     "metadata": {},
     "output_type": "execute_result"
    }
   ],
   "source": [
    "string_data.fillna('YHATZEE')"
   ]
  },
  {
   "cell_type": "code",
   "execution_count": 7,
   "metadata": {},
   "outputs": [
    {
     "data": {
      "text/plain": [
       "0         None\n",
       "1    artichoke\n",
       "2          NaN\n",
       "3      avocado\n",
       "dtype: object"
      ]
     },
     "execution_count": 7,
     "metadata": {},
     "output_type": "execute_result"
    }
   ],
   "source": [
    "string_data"
   ]
  },
  {
   "cell_type": "code",
   "execution_count": 8,
   "metadata": {},
   "outputs": [
    {
     "data": {
      "text/plain": [
       "0    1.0\n",
       "1    NaN\n",
       "2    3.5\n",
       "3    NaN\n",
       "4    7.0\n",
       "dtype: float64"
      ]
     },
     "execution_count": 8,
     "metadata": {},
     "output_type": "execute_result"
    }
   ],
   "source": [
    "from numpy import nan as NA\n",
    "data = pd.Series([1, NA, 3.5, NA, 7])\n",
    "data"
   ]
  },
  {
   "cell_type": "code",
   "execution_count": 9,
   "metadata": {},
   "outputs": [
    {
     "data": {
      "text/plain": [
       "0    1.0\n",
       "2    3.5\n",
       "4    7.0\n",
       "dtype: float64"
      ]
     },
     "execution_count": 9,
     "metadata": {},
     "output_type": "execute_result"
    }
   ],
   "source": [
    "data.dropna()"
   ]
  },
  {
   "cell_type": "code",
   "execution_count": 10,
   "metadata": {},
   "outputs": [
    {
     "data": {
      "text/plain": [
       "0    1.0\n",
       "2    3.5\n",
       "4    7.0\n",
       "dtype: float64"
      ]
     },
     "execution_count": 10,
     "metadata": {},
     "output_type": "execute_result"
    }
   ],
   "source": [
    "data[data.notnull()]"
   ]
  },
  {
   "cell_type": "code",
   "execution_count": 11,
   "metadata": {},
   "outputs": [
    {
     "data": {
      "text/html": [
       "<div>\n",
       "<style scoped>\n",
       "    .dataframe tbody tr th:only-of-type {\n",
       "        vertical-align: middle;\n",
       "    }\n",
       "\n",
       "    .dataframe tbody tr th {\n",
       "        vertical-align: top;\n",
       "    }\n",
       "\n",
       "    .dataframe thead th {\n",
       "        text-align: right;\n",
       "    }\n",
       "</style>\n",
       "<table border=\"1\" class=\"dataframe\">\n",
       "  <thead>\n",
       "    <tr style=\"text-align: right;\">\n",
       "      <th></th>\n",
       "      <th>0</th>\n",
       "      <th>1</th>\n",
       "      <th>2</th>\n",
       "    </tr>\n",
       "  </thead>\n",
       "  <tbody>\n",
       "    <tr>\n",
       "      <th>0</th>\n",
       "      <td>1.0</td>\n",
       "      <td>6.5</td>\n",
       "      <td>3.0</td>\n",
       "    </tr>\n",
       "    <tr>\n",
       "      <th>1</th>\n",
       "      <td>1.0</td>\n",
       "      <td>NaN</td>\n",
       "      <td>NaN</td>\n",
       "    </tr>\n",
       "    <tr>\n",
       "      <th>2</th>\n",
       "      <td>NaN</td>\n",
       "      <td>NaN</td>\n",
       "      <td>NaN</td>\n",
       "    </tr>\n",
       "    <tr>\n",
       "      <th>3</th>\n",
       "      <td>NaN</td>\n",
       "      <td>6.5</td>\n",
       "      <td>3.0</td>\n",
       "    </tr>\n",
       "  </tbody>\n",
       "</table>\n",
       "</div>"
      ],
      "text/plain": [
       "     0    1    2\n",
       "0  1.0  6.5  3.0\n",
       "1  1.0  NaN  NaN\n",
       "2  NaN  NaN  NaN\n",
       "3  NaN  6.5  3.0"
      ]
     },
     "execution_count": 11,
     "metadata": {},
     "output_type": "execute_result"
    }
   ],
   "source": [
    "data = pd.DataFrame([[1., 6.5, 3.], [1., NA, NA],\n",
    "                     [NA, NA, NA], [NA, 6.5, 3.]])\n",
    "cleaned = data.dropna()\n",
    "data"
   ]
  },
  {
   "cell_type": "code",
   "execution_count": 12,
   "metadata": {},
   "outputs": [
    {
     "data": {
      "text/html": [
       "<div>\n",
       "<style scoped>\n",
       "    .dataframe tbody tr th:only-of-type {\n",
       "        vertical-align: middle;\n",
       "    }\n",
       "\n",
       "    .dataframe tbody tr th {\n",
       "        vertical-align: top;\n",
       "    }\n",
       "\n",
       "    .dataframe thead th {\n",
       "        text-align: right;\n",
       "    }\n",
       "</style>\n",
       "<table border=\"1\" class=\"dataframe\">\n",
       "  <thead>\n",
       "    <tr style=\"text-align: right;\">\n",
       "      <th></th>\n",
       "      <th>0</th>\n",
       "      <th>1</th>\n",
       "      <th>2</th>\n",
       "    </tr>\n",
       "  </thead>\n",
       "  <tbody>\n",
       "    <tr>\n",
       "      <th>0</th>\n",
       "      <td>1.0</td>\n",
       "      <td>6.5</td>\n",
       "      <td>3.0</td>\n",
       "    </tr>\n",
       "  </tbody>\n",
       "</table>\n",
       "</div>"
      ],
      "text/plain": [
       "     0    1    2\n",
       "0  1.0  6.5  3.0"
      ]
     },
     "execution_count": 12,
     "metadata": {},
     "output_type": "execute_result"
    }
   ],
   "source": [
    "cleaned"
   ]
  },
  {
   "cell_type": "code",
   "execution_count": 13,
   "metadata": {},
   "outputs": [
    {
     "data": {
      "text/html": [
       "<div>\n",
       "<style scoped>\n",
       "    .dataframe tbody tr th:only-of-type {\n",
       "        vertical-align: middle;\n",
       "    }\n",
       "\n",
       "    .dataframe tbody tr th {\n",
       "        vertical-align: top;\n",
       "    }\n",
       "\n",
       "    .dataframe thead th {\n",
       "        text-align: right;\n",
       "    }\n",
       "</style>\n",
       "<table border=\"1\" class=\"dataframe\">\n",
       "  <thead>\n",
       "    <tr style=\"text-align: right;\">\n",
       "      <th></th>\n",
       "      <th>0</th>\n",
       "      <th>1</th>\n",
       "      <th>2</th>\n",
       "    </tr>\n",
       "  </thead>\n",
       "  <tbody>\n",
       "    <tr>\n",
       "      <th>0</th>\n",
       "      <td>1.0</td>\n",
       "      <td>6.5</td>\n",
       "      <td>3.0</td>\n",
       "    </tr>\n",
       "    <tr>\n",
       "      <th>1</th>\n",
       "      <td>1.0</td>\n",
       "      <td>NaN</td>\n",
       "      <td>NaN</td>\n",
       "    </tr>\n",
       "    <tr>\n",
       "      <th>3</th>\n",
       "      <td>NaN</td>\n",
       "      <td>6.5</td>\n",
       "      <td>3.0</td>\n",
       "    </tr>\n",
       "  </tbody>\n",
       "</table>\n",
       "</div>"
      ],
      "text/plain": [
       "     0    1    2\n",
       "0  1.0  6.5  3.0\n",
       "1  1.0  NaN  NaN\n",
       "3  NaN  6.5  3.0"
      ]
     },
     "execution_count": 13,
     "metadata": {},
     "output_type": "execute_result"
    }
   ],
   "source": [
    "data.dropna(how='all')"
   ]
  },
  {
   "cell_type": "code",
   "execution_count": 14,
   "metadata": {},
   "outputs": [
    {
     "data": {
      "text/html": [
       "<div>\n",
       "<style scoped>\n",
       "    .dataframe tbody tr th:only-of-type {\n",
       "        vertical-align: middle;\n",
       "    }\n",
       "\n",
       "    .dataframe tbody tr th {\n",
       "        vertical-align: top;\n",
       "    }\n",
       "\n",
       "    .dataframe thead th {\n",
       "        text-align: right;\n",
       "    }\n",
       "</style>\n",
       "<table border=\"1\" class=\"dataframe\">\n",
       "  <thead>\n",
       "    <tr style=\"text-align: right;\">\n",
       "      <th></th>\n",
       "      <th>0</th>\n",
       "      <th>1</th>\n",
       "      <th>2</th>\n",
       "      <th>4</th>\n",
       "    </tr>\n",
       "  </thead>\n",
       "  <tbody>\n",
       "    <tr>\n",
       "      <th>0</th>\n",
       "      <td>1.0</td>\n",
       "      <td>6.5</td>\n",
       "      <td>3.0</td>\n",
       "      <td>NaN</td>\n",
       "    </tr>\n",
       "    <tr>\n",
       "      <th>1</th>\n",
       "      <td>1.0</td>\n",
       "      <td>NaN</td>\n",
       "      <td>NaN</td>\n",
       "      <td>NaN</td>\n",
       "    </tr>\n",
       "    <tr>\n",
       "      <th>2</th>\n",
       "      <td>NaN</td>\n",
       "      <td>NaN</td>\n",
       "      <td>NaN</td>\n",
       "      <td>NaN</td>\n",
       "    </tr>\n",
       "    <tr>\n",
       "      <th>3</th>\n",
       "      <td>NaN</td>\n",
       "      <td>6.5</td>\n",
       "      <td>3.0</td>\n",
       "      <td>NaN</td>\n",
       "    </tr>\n",
       "  </tbody>\n",
       "</table>\n",
       "</div>"
      ],
      "text/plain": [
       "     0    1    2   4\n",
       "0  1.0  6.5  3.0 NaN\n",
       "1  1.0  NaN  NaN NaN\n",
       "2  NaN  NaN  NaN NaN\n",
       "3  NaN  6.5  3.0 NaN"
      ]
     },
     "execution_count": 14,
     "metadata": {},
     "output_type": "execute_result"
    }
   ],
   "source": [
    "data[4] = NA\n",
    "data"
   ]
  },
  {
   "cell_type": "code",
   "execution_count": 15,
   "metadata": {},
   "outputs": [
    {
     "data": {
      "text/html": [
       "<div>\n",
       "<style scoped>\n",
       "    .dataframe tbody tr th:only-of-type {\n",
       "        vertical-align: middle;\n",
       "    }\n",
       "\n",
       "    .dataframe tbody tr th {\n",
       "        vertical-align: top;\n",
       "    }\n",
       "\n",
       "    .dataframe thead th {\n",
       "        text-align: right;\n",
       "    }\n",
       "</style>\n",
       "<table border=\"1\" class=\"dataframe\">\n",
       "  <thead>\n",
       "    <tr style=\"text-align: right;\">\n",
       "      <th></th>\n",
       "      <th>0</th>\n",
       "      <th>1</th>\n",
       "      <th>2</th>\n",
       "    </tr>\n",
       "  </thead>\n",
       "  <tbody>\n",
       "    <tr>\n",
       "      <th>0</th>\n",
       "      <td>1.0</td>\n",
       "      <td>6.5</td>\n",
       "      <td>3.0</td>\n",
       "    </tr>\n",
       "    <tr>\n",
       "      <th>1</th>\n",
       "      <td>1.0</td>\n",
       "      <td>NaN</td>\n",
       "      <td>NaN</td>\n",
       "    </tr>\n",
       "    <tr>\n",
       "      <th>2</th>\n",
       "      <td>NaN</td>\n",
       "      <td>NaN</td>\n",
       "      <td>NaN</td>\n",
       "    </tr>\n",
       "    <tr>\n",
       "      <th>3</th>\n",
       "      <td>NaN</td>\n",
       "      <td>6.5</td>\n",
       "      <td>3.0</td>\n",
       "    </tr>\n",
       "  </tbody>\n",
       "</table>\n",
       "</div>"
      ],
      "text/plain": [
       "     0    1    2\n",
       "0  1.0  6.5  3.0\n",
       "1  1.0  NaN  NaN\n",
       "2  NaN  NaN  NaN\n",
       "3  NaN  6.5  3.0"
      ]
     },
     "execution_count": 15,
     "metadata": {},
     "output_type": "execute_result"
    }
   ],
   "source": [
    "data.dropna(axis=1, how='all')"
   ]
  },
  {
   "cell_type": "code",
   "execution_count": 16,
   "metadata": {},
   "outputs": [
    {
     "data": {
      "text/html": [
       "<div>\n",
       "<style scoped>\n",
       "    .dataframe tbody tr th:only-of-type {\n",
       "        vertical-align: middle;\n",
       "    }\n",
       "\n",
       "    .dataframe tbody tr th {\n",
       "        vertical-align: top;\n",
       "    }\n",
       "\n",
       "    .dataframe thead th {\n",
       "        text-align: right;\n",
       "    }\n",
       "</style>\n",
       "<table border=\"1\" class=\"dataframe\">\n",
       "  <thead>\n",
       "    <tr style=\"text-align: right;\">\n",
       "      <th></th>\n",
       "      <th>0</th>\n",
       "      <th>1</th>\n",
       "      <th>2</th>\n",
       "    </tr>\n",
       "  </thead>\n",
       "  <tbody>\n",
       "    <tr>\n",
       "      <th>0</th>\n",
       "      <td>1.367243</td>\n",
       "      <td>-1.168160</td>\n",
       "      <td>0.018488</td>\n",
       "    </tr>\n",
       "    <tr>\n",
       "      <th>1</th>\n",
       "      <td>0.306206</td>\n",
       "      <td>-1.082106</td>\n",
       "      <td>0.140235</td>\n",
       "    </tr>\n",
       "    <tr>\n",
       "      <th>2</th>\n",
       "      <td>-0.744698</td>\n",
       "      <td>1.135118</td>\n",
       "      <td>-2.613327</td>\n",
       "    </tr>\n",
       "    <tr>\n",
       "      <th>3</th>\n",
       "      <td>0.030054</td>\n",
       "      <td>0.246910</td>\n",
       "      <td>-0.831251</td>\n",
       "    </tr>\n",
       "    <tr>\n",
       "      <th>4</th>\n",
       "      <td>1.371924</td>\n",
       "      <td>0.075609</td>\n",
       "      <td>-0.529438</td>\n",
       "    </tr>\n",
       "    <tr>\n",
       "      <th>5</th>\n",
       "      <td>2.332816</td>\n",
       "      <td>-0.108371</td>\n",
       "      <td>-0.033417</td>\n",
       "    </tr>\n",
       "    <tr>\n",
       "      <th>6</th>\n",
       "      <td>-0.829454</td>\n",
       "      <td>0.978140</td>\n",
       "      <td>1.165417</td>\n",
       "    </tr>\n",
       "  </tbody>\n",
       "</table>\n",
       "</div>"
      ],
      "text/plain": [
       "          0         1         2\n",
       "0  1.367243 -1.168160  0.018488\n",
       "1  0.306206 -1.082106  0.140235\n",
       "2 -0.744698  1.135118 -2.613327\n",
       "3  0.030054  0.246910 -0.831251\n",
       "4  1.371924  0.075609 -0.529438\n",
       "5  2.332816 -0.108371 -0.033417\n",
       "6 -0.829454  0.978140  1.165417"
      ]
     },
     "execution_count": 16,
     "metadata": {},
     "output_type": "execute_result"
    }
   ],
   "source": [
    "df = pd.DataFrame(np.random.randn(7, 3))\n",
    "df"
   ]
  },
  {
   "cell_type": "code",
   "execution_count": 17,
   "metadata": {},
   "outputs": [
    {
     "data": {
      "text/html": [
       "<div>\n",
       "<style scoped>\n",
       "    .dataframe tbody tr th:only-of-type {\n",
       "        vertical-align: middle;\n",
       "    }\n",
       "\n",
       "    .dataframe tbody tr th {\n",
       "        vertical-align: top;\n",
       "    }\n",
       "\n",
       "    .dataframe thead th {\n",
       "        text-align: right;\n",
       "    }\n",
       "</style>\n",
       "<table border=\"1\" class=\"dataframe\">\n",
       "  <thead>\n",
       "    <tr style=\"text-align: right;\">\n",
       "      <th></th>\n",
       "      <th>0</th>\n",
       "      <th>1</th>\n",
       "      <th>2</th>\n",
       "    </tr>\n",
       "  </thead>\n",
       "  <tbody>\n",
       "    <tr>\n",
       "      <th>0</th>\n",
       "      <td>1.367243</td>\n",
       "      <td>NaN</td>\n",
       "      <td>0.018488</td>\n",
       "    </tr>\n",
       "    <tr>\n",
       "      <th>1</th>\n",
       "      <td>0.306206</td>\n",
       "      <td>NaN</td>\n",
       "      <td>0.140235</td>\n",
       "    </tr>\n",
       "    <tr>\n",
       "      <th>2</th>\n",
       "      <td>-0.744698</td>\n",
       "      <td>NaN</td>\n",
       "      <td>-2.613327</td>\n",
       "    </tr>\n",
       "    <tr>\n",
       "      <th>3</th>\n",
       "      <td>0.030054</td>\n",
       "      <td>NaN</td>\n",
       "      <td>-0.831251</td>\n",
       "    </tr>\n",
       "    <tr>\n",
       "      <th>4</th>\n",
       "      <td>1.371924</td>\n",
       "      <td>0.075609</td>\n",
       "      <td>-0.529438</td>\n",
       "    </tr>\n",
       "    <tr>\n",
       "      <th>5</th>\n",
       "      <td>2.332816</td>\n",
       "      <td>-0.108371</td>\n",
       "      <td>-0.033417</td>\n",
       "    </tr>\n",
       "    <tr>\n",
       "      <th>6</th>\n",
       "      <td>-0.829454</td>\n",
       "      <td>0.978140</td>\n",
       "      <td>1.165417</td>\n",
       "    </tr>\n",
       "  </tbody>\n",
       "</table>\n",
       "</div>"
      ],
      "text/plain": [
       "          0         1         2\n",
       "0  1.367243       NaN  0.018488\n",
       "1  0.306206       NaN  0.140235\n",
       "2 -0.744698       NaN -2.613327\n",
       "3  0.030054       NaN -0.831251\n",
       "4  1.371924  0.075609 -0.529438\n",
       "5  2.332816 -0.108371 -0.033417\n",
       "6 -0.829454  0.978140  1.165417"
      ]
     },
     "execution_count": 17,
     "metadata": {},
     "output_type": "execute_result"
    }
   ],
   "source": [
    "df.iloc[:4, 1] = NA\n",
    "df"
   ]
  },
  {
   "cell_type": "code",
   "execution_count": 18,
   "metadata": {},
   "outputs": [
    {
     "data": {
      "text/html": [
       "<div>\n",
       "<style scoped>\n",
       "    .dataframe tbody tr th:only-of-type {\n",
       "        vertical-align: middle;\n",
       "    }\n",
       "\n",
       "    .dataframe tbody tr th {\n",
       "        vertical-align: top;\n",
       "    }\n",
       "\n",
       "    .dataframe thead th {\n",
       "        text-align: right;\n",
       "    }\n",
       "</style>\n",
       "<table border=\"1\" class=\"dataframe\">\n",
       "  <thead>\n",
       "    <tr style=\"text-align: right;\">\n",
       "      <th></th>\n",
       "      <th>0</th>\n",
       "      <th>1</th>\n",
       "      <th>2</th>\n",
       "    </tr>\n",
       "  </thead>\n",
       "  <tbody>\n",
       "    <tr>\n",
       "      <th>0</th>\n",
       "      <td>1.367243</td>\n",
       "      <td>NaN</td>\n",
       "      <td>NaN</td>\n",
       "    </tr>\n",
       "    <tr>\n",
       "      <th>1</th>\n",
       "      <td>0.306206</td>\n",
       "      <td>NaN</td>\n",
       "      <td>NaN</td>\n",
       "    </tr>\n",
       "    <tr>\n",
       "      <th>2</th>\n",
       "      <td>-0.744698</td>\n",
       "      <td>NaN</td>\n",
       "      <td>-2.613327</td>\n",
       "    </tr>\n",
       "    <tr>\n",
       "      <th>3</th>\n",
       "      <td>0.030054</td>\n",
       "      <td>NaN</td>\n",
       "      <td>-0.831251</td>\n",
       "    </tr>\n",
       "    <tr>\n",
       "      <th>4</th>\n",
       "      <td>1.371924</td>\n",
       "      <td>0.075609</td>\n",
       "      <td>-0.529438</td>\n",
       "    </tr>\n",
       "    <tr>\n",
       "      <th>5</th>\n",
       "      <td>2.332816</td>\n",
       "      <td>-0.108371</td>\n",
       "      <td>-0.033417</td>\n",
       "    </tr>\n",
       "    <tr>\n",
       "      <th>6</th>\n",
       "      <td>-0.829454</td>\n",
       "      <td>0.978140</td>\n",
       "      <td>1.165417</td>\n",
       "    </tr>\n",
       "  </tbody>\n",
       "</table>\n",
       "</div>"
      ],
      "text/plain": [
       "          0         1         2\n",
       "0  1.367243       NaN       NaN\n",
       "1  0.306206       NaN       NaN\n",
       "2 -0.744698       NaN -2.613327\n",
       "3  0.030054       NaN -0.831251\n",
       "4  1.371924  0.075609 -0.529438\n",
       "5  2.332816 -0.108371 -0.033417\n",
       "6 -0.829454  0.978140  1.165417"
      ]
     },
     "execution_count": 18,
     "metadata": {},
     "output_type": "execute_result"
    }
   ],
   "source": [
    "df.iloc[:2, 2] = NA\n",
    "df"
   ]
  },
  {
   "cell_type": "code",
   "execution_count": 19,
   "metadata": {},
   "outputs": [
    {
     "data": {
      "text/html": [
       "<div>\n",
       "<style scoped>\n",
       "    .dataframe tbody tr th:only-of-type {\n",
       "        vertical-align: middle;\n",
       "    }\n",
       "\n",
       "    .dataframe tbody tr th {\n",
       "        vertical-align: top;\n",
       "    }\n",
       "\n",
       "    .dataframe thead th {\n",
       "        text-align: right;\n",
       "    }\n",
       "</style>\n",
       "<table border=\"1\" class=\"dataframe\">\n",
       "  <thead>\n",
       "    <tr style=\"text-align: right;\">\n",
       "      <th></th>\n",
       "      <th>0</th>\n",
       "      <th>1</th>\n",
       "      <th>2</th>\n",
       "    </tr>\n",
       "  </thead>\n",
       "  <tbody>\n",
       "    <tr>\n",
       "      <th>4</th>\n",
       "      <td>1.371924</td>\n",
       "      <td>0.075609</td>\n",
       "      <td>-0.529438</td>\n",
       "    </tr>\n",
       "    <tr>\n",
       "      <th>5</th>\n",
       "      <td>2.332816</td>\n",
       "      <td>-0.108371</td>\n",
       "      <td>-0.033417</td>\n",
       "    </tr>\n",
       "    <tr>\n",
       "      <th>6</th>\n",
       "      <td>-0.829454</td>\n",
       "      <td>0.978140</td>\n",
       "      <td>1.165417</td>\n",
       "    </tr>\n",
       "  </tbody>\n",
       "</table>\n",
       "</div>"
      ],
      "text/plain": [
       "          0         1         2\n",
       "4  1.371924  0.075609 -0.529438\n",
       "5  2.332816 -0.108371 -0.033417\n",
       "6 -0.829454  0.978140  1.165417"
      ]
     },
     "execution_count": 19,
     "metadata": {},
     "output_type": "execute_result"
    }
   ],
   "source": [
    "df.dropna()"
   ]
  },
  {
   "cell_type": "code",
   "execution_count": 20,
   "metadata": {},
   "outputs": [
    {
     "data": {
      "text/html": [
       "<div>\n",
       "<style scoped>\n",
       "    .dataframe tbody tr th:only-of-type {\n",
       "        vertical-align: middle;\n",
       "    }\n",
       "\n",
       "    .dataframe tbody tr th {\n",
       "        vertical-align: top;\n",
       "    }\n",
       "\n",
       "    .dataframe thead th {\n",
       "        text-align: right;\n",
       "    }\n",
       "</style>\n",
       "<table border=\"1\" class=\"dataframe\">\n",
       "  <thead>\n",
       "    <tr style=\"text-align: right;\">\n",
       "      <th></th>\n",
       "      <th>0</th>\n",
       "      <th>1</th>\n",
       "      <th>2</th>\n",
       "    </tr>\n",
       "  </thead>\n",
       "  <tbody>\n",
       "    <tr>\n",
       "      <th>2</th>\n",
       "      <td>-0.744698</td>\n",
       "      <td>NaN</td>\n",
       "      <td>-2.613327</td>\n",
       "    </tr>\n",
       "    <tr>\n",
       "      <th>3</th>\n",
       "      <td>0.030054</td>\n",
       "      <td>NaN</td>\n",
       "      <td>-0.831251</td>\n",
       "    </tr>\n",
       "    <tr>\n",
       "      <th>4</th>\n",
       "      <td>1.371924</td>\n",
       "      <td>0.075609</td>\n",
       "      <td>-0.529438</td>\n",
       "    </tr>\n",
       "    <tr>\n",
       "      <th>5</th>\n",
       "      <td>2.332816</td>\n",
       "      <td>-0.108371</td>\n",
       "      <td>-0.033417</td>\n",
       "    </tr>\n",
       "    <tr>\n",
       "      <th>6</th>\n",
       "      <td>-0.829454</td>\n",
       "      <td>0.978140</td>\n",
       "      <td>1.165417</td>\n",
       "    </tr>\n",
       "  </tbody>\n",
       "</table>\n",
       "</div>"
      ],
      "text/plain": [
       "          0         1         2\n",
       "2 -0.744698       NaN -2.613327\n",
       "3  0.030054       NaN -0.831251\n",
       "4  1.371924  0.075609 -0.529438\n",
       "5  2.332816 -0.108371 -0.033417\n",
       "6 -0.829454  0.978140  1.165417"
      ]
     },
     "execution_count": 20,
     "metadata": {},
     "output_type": "execute_result"
    }
   ],
   "source": [
    "df.dropna(thresh=2)"
   ]
  },
  {
   "cell_type": "code",
   "execution_count": 21,
   "metadata": {},
   "outputs": [
    {
     "data": {
      "text/html": [
       "<div>\n",
       "<style scoped>\n",
       "    .dataframe tbody tr th:only-of-type {\n",
       "        vertical-align: middle;\n",
       "    }\n",
       "\n",
       "    .dataframe tbody tr th {\n",
       "        vertical-align: top;\n",
       "    }\n",
       "\n",
       "    .dataframe thead th {\n",
       "        text-align: right;\n",
       "    }\n",
       "</style>\n",
       "<table border=\"1\" class=\"dataframe\">\n",
       "  <thead>\n",
       "    <tr style=\"text-align: right;\">\n",
       "      <th></th>\n",
       "      <th>0</th>\n",
       "      <th>1</th>\n",
       "      <th>2</th>\n",
       "    </tr>\n",
       "  </thead>\n",
       "  <tbody>\n",
       "    <tr>\n",
       "      <th>0</th>\n",
       "      <td>1.367243</td>\n",
       "      <td>NaN</td>\n",
       "      <td>NaN</td>\n",
       "    </tr>\n",
       "    <tr>\n",
       "      <th>1</th>\n",
       "      <td>0.306206</td>\n",
       "      <td>NaN</td>\n",
       "      <td>NaN</td>\n",
       "    </tr>\n",
       "    <tr>\n",
       "      <th>2</th>\n",
       "      <td>-0.744698</td>\n",
       "      <td>NaN</td>\n",
       "      <td>-2.613327</td>\n",
       "    </tr>\n",
       "    <tr>\n",
       "      <th>3</th>\n",
       "      <td>0.030054</td>\n",
       "      <td>NaN</td>\n",
       "      <td>-0.831251</td>\n",
       "    </tr>\n",
       "    <tr>\n",
       "      <th>4</th>\n",
       "      <td>1.371924</td>\n",
       "      <td>0.075609</td>\n",
       "      <td>-0.529438</td>\n",
       "    </tr>\n",
       "    <tr>\n",
       "      <th>5</th>\n",
       "      <td>2.332816</td>\n",
       "      <td>-0.108371</td>\n",
       "      <td>-0.033417</td>\n",
       "    </tr>\n",
       "    <tr>\n",
       "      <th>6</th>\n",
       "      <td>-0.829454</td>\n",
       "      <td>0.978140</td>\n",
       "      <td>1.165417</td>\n",
       "    </tr>\n",
       "  </tbody>\n",
       "</table>\n",
       "</div>"
      ],
      "text/plain": [
       "          0         1         2\n",
       "0  1.367243       NaN       NaN\n",
       "1  0.306206       NaN       NaN\n",
       "2 -0.744698       NaN -2.613327\n",
       "3  0.030054       NaN -0.831251\n",
       "4  1.371924  0.075609 -0.529438\n",
       "5  2.332816 -0.108371 -0.033417\n",
       "6 -0.829454  0.978140  1.165417"
      ]
     },
     "execution_count": 21,
     "metadata": {},
     "output_type": "execute_result"
    }
   ],
   "source": [
    "df.dropna(thresh=3, axis = 1) # Expected it drop column 1"
   ]
  },
  {
   "cell_type": "code",
   "execution_count": 22,
   "metadata": {},
   "outputs": [
    {
     "data": {
      "text/html": [
       "<div>\n",
       "<style scoped>\n",
       "    .dataframe tbody tr th:only-of-type {\n",
       "        vertical-align: middle;\n",
       "    }\n",
       "\n",
       "    .dataframe tbody tr th {\n",
       "        vertical-align: top;\n",
       "    }\n",
       "\n",
       "    .dataframe thead th {\n",
       "        text-align: right;\n",
       "    }\n",
       "</style>\n",
       "<table border=\"1\" class=\"dataframe\">\n",
       "  <thead>\n",
       "    <tr style=\"text-align: right;\">\n",
       "      <th></th>\n",
       "      <th>0</th>\n",
       "      <th>1</th>\n",
       "      <th>2</th>\n",
       "    </tr>\n",
       "  </thead>\n",
       "  <tbody>\n",
       "    <tr>\n",
       "      <th>0</th>\n",
       "      <td>1.367243</td>\n",
       "      <td>0.000000</td>\n",
       "      <td>0.000000</td>\n",
       "    </tr>\n",
       "    <tr>\n",
       "      <th>1</th>\n",
       "      <td>0.306206</td>\n",
       "      <td>0.000000</td>\n",
       "      <td>0.000000</td>\n",
       "    </tr>\n",
       "    <tr>\n",
       "      <th>2</th>\n",
       "      <td>-0.744698</td>\n",
       "      <td>0.000000</td>\n",
       "      <td>-2.613327</td>\n",
       "    </tr>\n",
       "    <tr>\n",
       "      <th>3</th>\n",
       "      <td>0.030054</td>\n",
       "      <td>0.000000</td>\n",
       "      <td>-0.831251</td>\n",
       "    </tr>\n",
       "    <tr>\n",
       "      <th>4</th>\n",
       "      <td>1.371924</td>\n",
       "      <td>0.075609</td>\n",
       "      <td>-0.529438</td>\n",
       "    </tr>\n",
       "    <tr>\n",
       "      <th>5</th>\n",
       "      <td>2.332816</td>\n",
       "      <td>-0.108371</td>\n",
       "      <td>-0.033417</td>\n",
       "    </tr>\n",
       "    <tr>\n",
       "      <th>6</th>\n",
       "      <td>-0.829454</td>\n",
       "      <td>0.978140</td>\n",
       "      <td>1.165417</td>\n",
       "    </tr>\n",
       "  </tbody>\n",
       "</table>\n",
       "</div>"
      ],
      "text/plain": [
       "          0         1         2\n",
       "0  1.367243  0.000000  0.000000\n",
       "1  0.306206  0.000000  0.000000\n",
       "2 -0.744698  0.000000 -2.613327\n",
       "3  0.030054  0.000000 -0.831251\n",
       "4  1.371924  0.075609 -0.529438\n",
       "5  2.332816 -0.108371 -0.033417\n",
       "6 -0.829454  0.978140  1.165417"
      ]
     },
     "execution_count": 22,
     "metadata": {},
     "output_type": "execute_result"
    }
   ],
   "source": [
    "df.fillna(0)"
   ]
  },
  {
   "cell_type": "code",
   "execution_count": 23,
   "metadata": {},
   "outputs": [
    {
     "data": {
      "text/html": [
       "<div>\n",
       "<style scoped>\n",
       "    .dataframe tbody tr th:only-of-type {\n",
       "        vertical-align: middle;\n",
       "    }\n",
       "\n",
       "    .dataframe tbody tr th {\n",
       "        vertical-align: top;\n",
       "    }\n",
       "\n",
       "    .dataframe thead th {\n",
       "        text-align: right;\n",
       "    }\n",
       "</style>\n",
       "<table border=\"1\" class=\"dataframe\">\n",
       "  <thead>\n",
       "    <tr style=\"text-align: right;\">\n",
       "      <th></th>\n",
       "      <th>0</th>\n",
       "      <th>1</th>\n",
       "      <th>2</th>\n",
       "    </tr>\n",
       "  </thead>\n",
       "  <tbody>\n",
       "    <tr>\n",
       "      <th>0</th>\n",
       "      <td>1.367243</td>\n",
       "      <td>0.500000</td>\n",
       "      <td>0.000000</td>\n",
       "    </tr>\n",
       "    <tr>\n",
       "      <th>1</th>\n",
       "      <td>0.306206</td>\n",
       "      <td>0.500000</td>\n",
       "      <td>0.000000</td>\n",
       "    </tr>\n",
       "    <tr>\n",
       "      <th>2</th>\n",
       "      <td>-0.744698</td>\n",
       "      <td>0.500000</td>\n",
       "      <td>-2.613327</td>\n",
       "    </tr>\n",
       "    <tr>\n",
       "      <th>3</th>\n",
       "      <td>0.030054</td>\n",
       "      <td>0.500000</td>\n",
       "      <td>-0.831251</td>\n",
       "    </tr>\n",
       "    <tr>\n",
       "      <th>4</th>\n",
       "      <td>1.371924</td>\n",
       "      <td>0.075609</td>\n",
       "      <td>-0.529438</td>\n",
       "    </tr>\n",
       "    <tr>\n",
       "      <th>5</th>\n",
       "      <td>2.332816</td>\n",
       "      <td>-0.108371</td>\n",
       "      <td>-0.033417</td>\n",
       "    </tr>\n",
       "    <tr>\n",
       "      <th>6</th>\n",
       "      <td>-0.829454</td>\n",
       "      <td>0.978140</td>\n",
       "      <td>1.165417</td>\n",
       "    </tr>\n",
       "  </tbody>\n",
       "</table>\n",
       "</div>"
      ],
      "text/plain": [
       "          0         1         2\n",
       "0  1.367243  0.500000  0.000000\n",
       "1  0.306206  0.500000  0.000000\n",
       "2 -0.744698  0.500000 -2.613327\n",
       "3  0.030054  0.500000 -0.831251\n",
       "4  1.371924  0.075609 -0.529438\n",
       "5  2.332816 -0.108371 -0.033417\n",
       "6 -0.829454  0.978140  1.165417"
      ]
     },
     "execution_count": 23,
     "metadata": {},
     "output_type": "execute_result"
    }
   ],
   "source": [
    "df.fillna({1: 0.5, 2: 0})"
   ]
  },
  {
   "cell_type": "code",
   "execution_count": 24,
   "metadata": {},
   "outputs": [
    {
     "data": {
      "text/html": [
       "<div>\n",
       "<style scoped>\n",
       "    .dataframe tbody tr th:only-of-type {\n",
       "        vertical-align: middle;\n",
       "    }\n",
       "\n",
       "    .dataframe tbody tr th {\n",
       "        vertical-align: top;\n",
       "    }\n",
       "\n",
       "    .dataframe thead th {\n",
       "        text-align: right;\n",
       "    }\n",
       "</style>\n",
       "<table border=\"1\" class=\"dataframe\">\n",
       "  <thead>\n",
       "    <tr style=\"text-align: right;\">\n",
       "      <th></th>\n",
       "      <th>0</th>\n",
       "      <th>1</th>\n",
       "      <th>2</th>\n",
       "    </tr>\n",
       "  </thead>\n",
       "  <tbody>\n",
       "    <tr>\n",
       "      <th>0</th>\n",
       "      <td>1.367243</td>\n",
       "      <td>0.000000</td>\n",
       "      <td>0.000000</td>\n",
       "    </tr>\n",
       "    <tr>\n",
       "      <th>1</th>\n",
       "      <td>0.306206</td>\n",
       "      <td>0.000000</td>\n",
       "      <td>0.000000</td>\n",
       "    </tr>\n",
       "    <tr>\n",
       "      <th>2</th>\n",
       "      <td>-0.744698</td>\n",
       "      <td>0.000000</td>\n",
       "      <td>-2.613327</td>\n",
       "    </tr>\n",
       "    <tr>\n",
       "      <th>3</th>\n",
       "      <td>0.030054</td>\n",
       "      <td>0.000000</td>\n",
       "      <td>-0.831251</td>\n",
       "    </tr>\n",
       "    <tr>\n",
       "      <th>4</th>\n",
       "      <td>1.371924</td>\n",
       "      <td>0.075609</td>\n",
       "      <td>-0.529438</td>\n",
       "    </tr>\n",
       "    <tr>\n",
       "      <th>5</th>\n",
       "      <td>2.332816</td>\n",
       "      <td>-0.108371</td>\n",
       "      <td>-0.033417</td>\n",
       "    </tr>\n",
       "    <tr>\n",
       "      <th>6</th>\n",
       "      <td>-0.829454</td>\n",
       "      <td>0.978140</td>\n",
       "      <td>1.165417</td>\n",
       "    </tr>\n",
       "  </tbody>\n",
       "</table>\n",
       "</div>"
      ],
      "text/plain": [
       "          0         1         2\n",
       "0  1.367243  0.000000  0.000000\n",
       "1  0.306206  0.000000  0.000000\n",
       "2 -0.744698  0.000000 -2.613327\n",
       "3  0.030054  0.000000 -0.831251\n",
       "4  1.371924  0.075609 -0.529438\n",
       "5  2.332816 -0.108371 -0.033417\n",
       "6 -0.829454  0.978140  1.165417"
      ]
     },
     "execution_count": 24,
     "metadata": {},
     "output_type": "execute_result"
    }
   ],
   "source": [
    "df.fillna(0, inplace=True)\n",
    "df"
   ]
  },
  {
   "cell_type": "code",
   "execution_count": 25,
   "metadata": {},
   "outputs": [
    {
     "data": {
      "text/html": [
       "<div>\n",
       "<style scoped>\n",
       "    .dataframe tbody tr th:only-of-type {\n",
       "        vertical-align: middle;\n",
       "    }\n",
       "\n",
       "    .dataframe tbody tr th {\n",
       "        vertical-align: top;\n",
       "    }\n",
       "\n",
       "    .dataframe thead th {\n",
       "        text-align: right;\n",
       "    }\n",
       "</style>\n",
       "<table border=\"1\" class=\"dataframe\">\n",
       "  <thead>\n",
       "    <tr style=\"text-align: right;\">\n",
       "      <th></th>\n",
       "      <th>0</th>\n",
       "      <th>1</th>\n",
       "      <th>2</th>\n",
       "    </tr>\n",
       "  </thead>\n",
       "  <tbody>\n",
       "    <tr>\n",
       "      <th>0</th>\n",
       "      <td>-0.947046</td>\n",
       "      <td>0.101161</td>\n",
       "      <td>0.595884</td>\n",
       "    </tr>\n",
       "    <tr>\n",
       "      <th>1</th>\n",
       "      <td>-0.387724</td>\n",
       "      <td>-1.661954</td>\n",
       "      <td>0.047848</td>\n",
       "    </tr>\n",
       "    <tr>\n",
       "      <th>2</th>\n",
       "      <td>-0.125111</td>\n",
       "      <td>0.072455</td>\n",
       "      <td>-1.493539</td>\n",
       "    </tr>\n",
       "    <tr>\n",
       "      <th>3</th>\n",
       "      <td>-0.363850</td>\n",
       "      <td>1.052333</td>\n",
       "      <td>0.531574</td>\n",
       "    </tr>\n",
       "    <tr>\n",
       "      <th>4</th>\n",
       "      <td>2.472778</td>\n",
       "      <td>-0.413855</td>\n",
       "      <td>1.494256</td>\n",
       "    </tr>\n",
       "    <tr>\n",
       "      <th>5</th>\n",
       "      <td>-1.248623</td>\n",
       "      <td>-0.587160</td>\n",
       "      <td>0.211174</td>\n",
       "    </tr>\n",
       "  </tbody>\n",
       "</table>\n",
       "</div>"
      ],
      "text/plain": [
       "          0         1         2\n",
       "0 -0.947046  0.101161  0.595884\n",
       "1 -0.387724 -1.661954  0.047848\n",
       "2 -0.125111  0.072455 -1.493539\n",
       "3 -0.363850  1.052333  0.531574\n",
       "4  2.472778 -0.413855  1.494256\n",
       "5 -1.248623 -0.587160  0.211174"
      ]
     },
     "execution_count": 25,
     "metadata": {},
     "output_type": "execute_result"
    }
   ],
   "source": [
    "df = pd.DataFrame(np.random.randn(6, 3))\n",
    "df"
   ]
  },
  {
   "cell_type": "code",
   "execution_count": 26,
   "metadata": {},
   "outputs": [
    {
     "data": {
      "text/html": [
       "<div>\n",
       "<style scoped>\n",
       "    .dataframe tbody tr th:only-of-type {\n",
       "        vertical-align: middle;\n",
       "    }\n",
       "\n",
       "    .dataframe tbody tr th {\n",
       "        vertical-align: top;\n",
       "    }\n",
       "\n",
       "    .dataframe thead th {\n",
       "        text-align: right;\n",
       "    }\n",
       "</style>\n",
       "<table border=\"1\" class=\"dataframe\">\n",
       "  <thead>\n",
       "    <tr style=\"text-align: right;\">\n",
       "      <th></th>\n",
       "      <th>0</th>\n",
       "      <th>1</th>\n",
       "      <th>2</th>\n",
       "    </tr>\n",
       "  </thead>\n",
       "  <tbody>\n",
       "    <tr>\n",
       "      <th>0</th>\n",
       "      <td>-0.947046</td>\n",
       "      <td>0.101161</td>\n",
       "      <td>0.595884</td>\n",
       "    </tr>\n",
       "    <tr>\n",
       "      <th>1</th>\n",
       "      <td>-0.387724</td>\n",
       "      <td>-1.661954</td>\n",
       "      <td>0.047848</td>\n",
       "    </tr>\n",
       "    <tr>\n",
       "      <th>2</th>\n",
       "      <td>-0.125111</td>\n",
       "      <td>NaN</td>\n",
       "      <td>-1.493539</td>\n",
       "    </tr>\n",
       "    <tr>\n",
       "      <th>3</th>\n",
       "      <td>-0.363850</td>\n",
       "      <td>NaN</td>\n",
       "      <td>0.531574</td>\n",
       "    </tr>\n",
       "    <tr>\n",
       "      <th>4</th>\n",
       "      <td>2.472778</td>\n",
       "      <td>NaN</td>\n",
       "      <td>1.494256</td>\n",
       "    </tr>\n",
       "    <tr>\n",
       "      <th>5</th>\n",
       "      <td>-1.248623</td>\n",
       "      <td>NaN</td>\n",
       "      <td>0.211174</td>\n",
       "    </tr>\n",
       "  </tbody>\n",
       "</table>\n",
       "</div>"
      ],
      "text/plain": [
       "          0         1         2\n",
       "0 -0.947046  0.101161  0.595884\n",
       "1 -0.387724 -1.661954  0.047848\n",
       "2 -0.125111       NaN -1.493539\n",
       "3 -0.363850       NaN  0.531574\n",
       "4  2.472778       NaN  1.494256\n",
       "5 -1.248623       NaN  0.211174"
      ]
     },
     "execution_count": 26,
     "metadata": {},
     "output_type": "execute_result"
    }
   ],
   "source": [
    "df.iloc[2:, 1] = NA\n",
    "df"
   ]
  },
  {
   "cell_type": "code",
   "execution_count": 27,
   "metadata": {},
   "outputs": [
    {
     "data": {
      "text/html": [
       "<div>\n",
       "<style scoped>\n",
       "    .dataframe tbody tr th:only-of-type {\n",
       "        vertical-align: middle;\n",
       "    }\n",
       "\n",
       "    .dataframe tbody tr th {\n",
       "        vertical-align: top;\n",
       "    }\n",
       "\n",
       "    .dataframe thead th {\n",
       "        text-align: right;\n",
       "    }\n",
       "</style>\n",
       "<table border=\"1\" class=\"dataframe\">\n",
       "  <thead>\n",
       "    <tr style=\"text-align: right;\">\n",
       "      <th></th>\n",
       "      <th>0</th>\n",
       "      <th>1</th>\n",
       "      <th>2</th>\n",
       "    </tr>\n",
       "  </thead>\n",
       "  <tbody>\n",
       "    <tr>\n",
       "      <th>0</th>\n",
       "      <td>-0.947046</td>\n",
       "      <td>0.101161</td>\n",
       "      <td>0.595884</td>\n",
       "    </tr>\n",
       "    <tr>\n",
       "      <th>1</th>\n",
       "      <td>-0.387724</td>\n",
       "      <td>-1.661954</td>\n",
       "      <td>0.047848</td>\n",
       "    </tr>\n",
       "    <tr>\n",
       "      <th>2</th>\n",
       "      <td>-0.125111</td>\n",
       "      <td>NaN</td>\n",
       "      <td>-1.493539</td>\n",
       "    </tr>\n",
       "    <tr>\n",
       "      <th>3</th>\n",
       "      <td>-0.363850</td>\n",
       "      <td>NaN</td>\n",
       "      <td>0.531574</td>\n",
       "    </tr>\n",
       "    <tr>\n",
       "      <th>4</th>\n",
       "      <td>2.472778</td>\n",
       "      <td>NaN</td>\n",
       "      <td>NaN</td>\n",
       "    </tr>\n",
       "    <tr>\n",
       "      <th>5</th>\n",
       "      <td>-1.248623</td>\n",
       "      <td>NaN</td>\n",
       "      <td>NaN</td>\n",
       "    </tr>\n",
       "  </tbody>\n",
       "</table>\n",
       "</div>"
      ],
      "text/plain": [
       "          0         1         2\n",
       "0 -0.947046  0.101161  0.595884\n",
       "1 -0.387724 -1.661954  0.047848\n",
       "2 -0.125111       NaN -1.493539\n",
       "3 -0.363850       NaN  0.531574\n",
       "4  2.472778       NaN       NaN\n",
       "5 -1.248623       NaN       NaN"
      ]
     },
     "execution_count": 27,
     "metadata": {},
     "output_type": "execute_result"
    }
   ],
   "source": [
    "df.iloc[4:, 2] = NA\n",
    "df"
   ]
  },
  {
   "cell_type": "code",
   "execution_count": 28,
   "metadata": {},
   "outputs": [
    {
     "data": {
      "text/html": [
       "<div>\n",
       "<style scoped>\n",
       "    .dataframe tbody tr th:only-of-type {\n",
       "        vertical-align: middle;\n",
       "    }\n",
       "\n",
       "    .dataframe tbody tr th {\n",
       "        vertical-align: top;\n",
       "    }\n",
       "\n",
       "    .dataframe thead th {\n",
       "        text-align: right;\n",
       "    }\n",
       "</style>\n",
       "<table border=\"1\" class=\"dataframe\">\n",
       "  <thead>\n",
       "    <tr style=\"text-align: right;\">\n",
       "      <th></th>\n",
       "      <th>0</th>\n",
       "      <th>1</th>\n",
       "      <th>2</th>\n",
       "    </tr>\n",
       "  </thead>\n",
       "  <tbody>\n",
       "    <tr>\n",
       "      <th>0</th>\n",
       "      <td>-0.947046</td>\n",
       "      <td>0.101161</td>\n",
       "      <td>0.595884</td>\n",
       "    </tr>\n",
       "    <tr>\n",
       "      <th>1</th>\n",
       "      <td>-0.387724</td>\n",
       "      <td>-1.661954</td>\n",
       "      <td>0.047848</td>\n",
       "    </tr>\n",
       "    <tr>\n",
       "      <th>2</th>\n",
       "      <td>-0.125111</td>\n",
       "      <td>-1.661954</td>\n",
       "      <td>-1.493539</td>\n",
       "    </tr>\n",
       "    <tr>\n",
       "      <th>3</th>\n",
       "      <td>-0.363850</td>\n",
       "      <td>-1.661954</td>\n",
       "      <td>0.531574</td>\n",
       "    </tr>\n",
       "    <tr>\n",
       "      <th>4</th>\n",
       "      <td>2.472778</td>\n",
       "      <td>-1.661954</td>\n",
       "      <td>0.531574</td>\n",
       "    </tr>\n",
       "    <tr>\n",
       "      <th>5</th>\n",
       "      <td>-1.248623</td>\n",
       "      <td>-1.661954</td>\n",
       "      <td>0.531574</td>\n",
       "    </tr>\n",
       "  </tbody>\n",
       "</table>\n",
       "</div>"
      ],
      "text/plain": [
       "          0         1         2\n",
       "0 -0.947046  0.101161  0.595884\n",
       "1 -0.387724 -1.661954  0.047848\n",
       "2 -0.125111 -1.661954 -1.493539\n",
       "3 -0.363850 -1.661954  0.531574\n",
       "4  2.472778 -1.661954  0.531574\n",
       "5 -1.248623 -1.661954  0.531574"
      ]
     },
     "execution_count": 28,
     "metadata": {},
     "output_type": "execute_result"
    }
   ],
   "source": [
    "df.fillna(method='ffill')"
   ]
  },
  {
   "cell_type": "code",
   "execution_count": 29,
   "metadata": {},
   "outputs": [
    {
     "data": {
      "text/html": [
       "<div>\n",
       "<style scoped>\n",
       "    .dataframe tbody tr th:only-of-type {\n",
       "        vertical-align: middle;\n",
       "    }\n",
       "\n",
       "    .dataframe tbody tr th {\n",
       "        vertical-align: top;\n",
       "    }\n",
       "\n",
       "    .dataframe thead th {\n",
       "        text-align: right;\n",
       "    }\n",
       "</style>\n",
       "<table border=\"1\" class=\"dataframe\">\n",
       "  <thead>\n",
       "    <tr style=\"text-align: right;\">\n",
       "      <th></th>\n",
       "      <th>0</th>\n",
       "      <th>1</th>\n",
       "      <th>2</th>\n",
       "    </tr>\n",
       "  </thead>\n",
       "  <tbody>\n",
       "    <tr>\n",
       "      <th>0</th>\n",
       "      <td>-0.947046</td>\n",
       "      <td>0.101161</td>\n",
       "      <td>0.595884</td>\n",
       "    </tr>\n",
       "    <tr>\n",
       "      <th>1</th>\n",
       "      <td>-0.387724</td>\n",
       "      <td>-1.661954</td>\n",
       "      <td>0.047848</td>\n",
       "    </tr>\n",
       "    <tr>\n",
       "      <th>2</th>\n",
       "      <td>-0.125111</td>\n",
       "      <td>-1.661954</td>\n",
       "      <td>-1.493539</td>\n",
       "    </tr>\n",
       "    <tr>\n",
       "      <th>3</th>\n",
       "      <td>-0.363850</td>\n",
       "      <td>-1.661954</td>\n",
       "      <td>0.531574</td>\n",
       "    </tr>\n",
       "    <tr>\n",
       "      <th>4</th>\n",
       "      <td>2.472778</td>\n",
       "      <td>NaN</td>\n",
       "      <td>0.531574</td>\n",
       "    </tr>\n",
       "    <tr>\n",
       "      <th>5</th>\n",
       "      <td>-1.248623</td>\n",
       "      <td>NaN</td>\n",
       "      <td>0.531574</td>\n",
       "    </tr>\n",
       "  </tbody>\n",
       "</table>\n",
       "</div>"
      ],
      "text/plain": [
       "          0         1         2\n",
       "0 -0.947046  0.101161  0.595884\n",
       "1 -0.387724 -1.661954  0.047848\n",
       "2 -0.125111 -1.661954 -1.493539\n",
       "3 -0.363850 -1.661954  0.531574\n",
       "4  2.472778       NaN  0.531574\n",
       "5 -1.248623       NaN  0.531574"
      ]
     },
     "execution_count": 29,
     "metadata": {},
     "output_type": "execute_result"
    }
   ],
   "source": [
    "df.fillna(method='ffill', limit=2)"
   ]
  },
  {
   "cell_type": "code",
   "execution_count": 30,
   "metadata": {},
   "outputs": [
    {
     "data": {
      "text/plain": [
       "0    1.0\n",
       "1    NaN\n",
       "2    3.5\n",
       "3    NaN\n",
       "4    7.0\n",
       "dtype: float64"
      ]
     },
     "execution_count": 30,
     "metadata": {},
     "output_type": "execute_result"
    }
   ],
   "source": [
    "data = pd.Series([1., NA, 3.5, NA, 7])\n",
    "data"
   ]
  },
  {
   "cell_type": "code",
   "execution_count": 31,
   "metadata": {},
   "outputs": [
    {
     "data": {
      "text/plain": [
       "0    1.000000\n",
       "1    3.833333\n",
       "2    3.500000\n",
       "3    3.833333\n",
       "4    7.000000\n",
       "dtype: float64"
      ]
     },
     "execution_count": 31,
     "metadata": {},
     "output_type": "execute_result"
    }
   ],
   "source": [
    "data.fillna(data.mean())"
   ]
  },
  {
   "cell_type": "code",
   "execution_count": 32,
   "metadata": {},
   "outputs": [
    {
     "data": {
      "text/html": [
       "<div>\n",
       "<style scoped>\n",
       "    .dataframe tbody tr th:only-of-type {\n",
       "        vertical-align: middle;\n",
       "    }\n",
       "\n",
       "    .dataframe tbody tr th {\n",
       "        vertical-align: top;\n",
       "    }\n",
       "\n",
       "    .dataframe thead th {\n",
       "        text-align: right;\n",
       "    }\n",
       "</style>\n",
       "<table border=\"1\" class=\"dataframe\">\n",
       "  <thead>\n",
       "    <tr style=\"text-align: right;\">\n",
       "      <th></th>\n",
       "      <th>0</th>\n",
       "      <th>1</th>\n",
       "      <th>2</th>\n",
       "    </tr>\n",
       "  </thead>\n",
       "  <tbody>\n",
       "    <tr>\n",
       "      <th>0</th>\n",
       "      <td>-0.947046</td>\n",
       "      <td>0.101161</td>\n",
       "      <td>0.595884</td>\n",
       "    </tr>\n",
       "    <tr>\n",
       "      <th>1</th>\n",
       "      <td>-0.387724</td>\n",
       "      <td>-1.661954</td>\n",
       "      <td>0.047848</td>\n",
       "    </tr>\n",
       "    <tr>\n",
       "      <th>2</th>\n",
       "      <td>-0.125111</td>\n",
       "      <td>NaN</td>\n",
       "      <td>-1.493539</td>\n",
       "    </tr>\n",
       "    <tr>\n",
       "      <th>3</th>\n",
       "      <td>-0.363850</td>\n",
       "      <td>NaN</td>\n",
       "      <td>0.531574</td>\n",
       "    </tr>\n",
       "    <tr>\n",
       "      <th>4</th>\n",
       "      <td>2.472778</td>\n",
       "      <td>NaN</td>\n",
       "      <td>NaN</td>\n",
       "    </tr>\n",
       "    <tr>\n",
       "      <th>5</th>\n",
       "      <td>-1.248623</td>\n",
       "      <td>NaN</td>\n",
       "      <td>NaN</td>\n",
       "    </tr>\n",
       "  </tbody>\n",
       "</table>\n",
       "</div>"
      ],
      "text/plain": [
       "          0         1         2\n",
       "0 -0.947046  0.101161  0.595884\n",
       "1 -0.387724 -1.661954  0.047848\n",
       "2 -0.125111       NaN -1.493539\n",
       "3 -0.363850       NaN  0.531574\n",
       "4  2.472778       NaN       NaN\n",
       "5 -1.248623       NaN       NaN"
      ]
     },
     "execution_count": 32,
     "metadata": {},
     "output_type": "execute_result"
    }
   ],
   "source": [
    "df"
   ]
  },
  {
   "cell_type": "code",
   "execution_count": 33,
   "metadata": {},
   "outputs": [
    {
     "data": {
      "text/html": [
       "<div>\n",
       "<style scoped>\n",
       "    .dataframe tbody tr th:only-of-type {\n",
       "        vertical-align: middle;\n",
       "    }\n",
       "\n",
       "    .dataframe tbody tr th {\n",
       "        vertical-align: top;\n",
       "    }\n",
       "\n",
       "    .dataframe thead th {\n",
       "        text-align: right;\n",
       "    }\n",
       "</style>\n",
       "<table border=\"1\" class=\"dataframe\">\n",
       "  <thead>\n",
       "    <tr style=\"text-align: right;\">\n",
       "      <th></th>\n",
       "      <th>0</th>\n",
       "      <th>1</th>\n",
       "      <th>2</th>\n",
       "    </tr>\n",
       "  </thead>\n",
       "  <tbody>\n",
       "    <tr>\n",
       "      <th>0</th>\n",
       "      <td>-0.947046</td>\n",
       "      <td>0.101161</td>\n",
       "      <td>0.595884</td>\n",
       "    </tr>\n",
       "    <tr>\n",
       "      <th>1</th>\n",
       "      <td>-0.387724</td>\n",
       "      <td>-1.661954</td>\n",
       "      <td>0.047848</td>\n",
       "    </tr>\n",
       "    <tr>\n",
       "      <th>2</th>\n",
       "      <td>-0.125111</td>\n",
       "      <td>NaN</td>\n",
       "      <td>-1.493539</td>\n",
       "    </tr>\n",
       "    <tr>\n",
       "      <th>3</th>\n",
       "      <td>-0.363850</td>\n",
       "      <td>NaN</td>\n",
       "      <td>0.531574</td>\n",
       "    </tr>\n",
       "    <tr>\n",
       "      <th>4</th>\n",
       "      <td>2.472778</td>\n",
       "      <td>NaN</td>\n",
       "      <td>NaN</td>\n",
       "    </tr>\n",
       "    <tr>\n",
       "      <th>5</th>\n",
       "      <td>-1.248623</td>\n",
       "      <td>7.500000</td>\n",
       "      <td>NaN</td>\n",
       "    </tr>\n",
       "  </tbody>\n",
       "</table>\n",
       "</div>"
      ],
      "text/plain": [
       "          0         1         2\n",
       "0 -0.947046  0.101161  0.595884\n",
       "1 -0.387724 -1.661954  0.047848\n",
       "2 -0.125111       NaN -1.493539\n",
       "3 -0.363850       NaN  0.531574\n",
       "4  2.472778       NaN       NaN\n",
       "5 -1.248623  7.500000       NaN"
      ]
     },
     "execution_count": 33,
     "metadata": {},
     "output_type": "execute_result"
    }
   ],
   "source": [
    "df.iloc[5,1] = 7.5\n",
    "df"
   ]
  },
  {
   "cell_type": "code",
   "execution_count": 34,
   "metadata": {},
   "outputs": [
    {
     "data": {
      "text/html": [
       "<div>\n",
       "<style scoped>\n",
       "    .dataframe tbody tr th:only-of-type {\n",
       "        vertical-align: middle;\n",
       "    }\n",
       "\n",
       "    .dataframe tbody tr th {\n",
       "        vertical-align: top;\n",
       "    }\n",
       "\n",
       "    .dataframe thead th {\n",
       "        text-align: right;\n",
       "    }\n",
       "</style>\n",
       "<table border=\"1\" class=\"dataframe\">\n",
       "  <thead>\n",
       "    <tr style=\"text-align: right;\">\n",
       "      <th></th>\n",
       "      <th>0</th>\n",
       "      <th>1</th>\n",
       "      <th>2</th>\n",
       "    </tr>\n",
       "  </thead>\n",
       "  <tbody>\n",
       "    <tr>\n",
       "      <th>0</th>\n",
       "      <td>-0.947046</td>\n",
       "      <td>0.101161</td>\n",
       "      <td>0.595884</td>\n",
       "    </tr>\n",
       "    <tr>\n",
       "      <th>1</th>\n",
       "      <td>-0.387724</td>\n",
       "      <td>-1.661954</td>\n",
       "      <td>0.047848</td>\n",
       "    </tr>\n",
       "    <tr>\n",
       "      <th>2</th>\n",
       "      <td>-0.125111</td>\n",
       "      <td>7.500000</td>\n",
       "      <td>-1.493539</td>\n",
       "    </tr>\n",
       "    <tr>\n",
       "      <th>3</th>\n",
       "      <td>-0.363850</td>\n",
       "      <td>7.500000</td>\n",
       "      <td>0.531574</td>\n",
       "    </tr>\n",
       "    <tr>\n",
       "      <th>4</th>\n",
       "      <td>2.472778</td>\n",
       "      <td>7.500000</td>\n",
       "      <td>NaN</td>\n",
       "    </tr>\n",
       "    <tr>\n",
       "      <th>5</th>\n",
       "      <td>-1.248623</td>\n",
       "      <td>7.500000</td>\n",
       "      <td>NaN</td>\n",
       "    </tr>\n",
       "  </tbody>\n",
       "</table>\n",
       "</div>"
      ],
      "text/plain": [
       "          0         1         2\n",
       "0 -0.947046  0.101161  0.595884\n",
       "1 -0.387724 -1.661954  0.047848\n",
       "2 -0.125111  7.500000 -1.493539\n",
       "3 -0.363850  7.500000  0.531574\n",
       "4  2.472778  7.500000       NaN\n",
       "5 -1.248623  7.500000       NaN"
      ]
     },
     "execution_count": 34,
     "metadata": {},
     "output_type": "execute_result"
    }
   ],
   "source": [
    "df.bfill()"
   ]
  },
  {
   "cell_type": "code",
   "execution_count": 35,
   "metadata": {},
   "outputs": [
    {
     "data": {
      "text/html": [
       "<div>\n",
       "<style scoped>\n",
       "    .dataframe tbody tr th:only-of-type {\n",
       "        vertical-align: middle;\n",
       "    }\n",
       "\n",
       "    .dataframe tbody tr th {\n",
       "        vertical-align: top;\n",
       "    }\n",
       "\n",
       "    .dataframe thead th {\n",
       "        text-align: right;\n",
       "    }\n",
       "</style>\n",
       "<table border=\"1\" class=\"dataframe\">\n",
       "  <thead>\n",
       "    <tr style=\"text-align: right;\">\n",
       "      <th></th>\n",
       "      <th>0</th>\n",
       "      <th>1</th>\n",
       "      <th>2</th>\n",
       "    </tr>\n",
       "  </thead>\n",
       "  <tbody>\n",
       "    <tr>\n",
       "      <th>0</th>\n",
       "      <td>-0.947046</td>\n",
       "      <td>0.101161</td>\n",
       "      <td>0.595884</td>\n",
       "    </tr>\n",
       "    <tr>\n",
       "      <th>1</th>\n",
       "      <td>-0.387724</td>\n",
       "      <td>-1.661954</td>\n",
       "      <td>0.047848</td>\n",
       "    </tr>\n",
       "    <tr>\n",
       "      <th>2</th>\n",
       "      <td>-0.125111</td>\n",
       "      <td>NaN</td>\n",
       "      <td>-1.493539</td>\n",
       "    </tr>\n",
       "    <tr>\n",
       "      <th>3</th>\n",
       "      <td>-0.363850</td>\n",
       "      <td>7.500000</td>\n",
       "      <td>0.531574</td>\n",
       "    </tr>\n",
       "    <tr>\n",
       "      <th>4</th>\n",
       "      <td>2.472778</td>\n",
       "      <td>7.500000</td>\n",
       "      <td>NaN</td>\n",
       "    </tr>\n",
       "    <tr>\n",
       "      <th>5</th>\n",
       "      <td>-1.248623</td>\n",
       "      <td>7.500000</td>\n",
       "      <td>NaN</td>\n",
       "    </tr>\n",
       "  </tbody>\n",
       "</table>\n",
       "</div>"
      ],
      "text/plain": [
       "          0         1         2\n",
       "0 -0.947046  0.101161  0.595884\n",
       "1 -0.387724 -1.661954  0.047848\n",
       "2 -0.125111       NaN -1.493539\n",
       "3 -0.363850  7.500000  0.531574\n",
       "4  2.472778  7.500000       NaN\n",
       "5 -1.248623  7.500000       NaN"
      ]
     },
     "execution_count": 35,
     "metadata": {},
     "output_type": "execute_result"
    }
   ],
   "source": [
    "df.bfill(limit=2)"
   ]
  },
  {
   "cell_type": "code",
   "execution_count": 36,
   "metadata": {},
   "outputs": [
    {
     "data": {
      "text/html": [
       "<div>\n",
       "<style scoped>\n",
       "    .dataframe tbody tr th:only-of-type {\n",
       "        vertical-align: middle;\n",
       "    }\n",
       "\n",
       "    .dataframe tbody tr th {\n",
       "        vertical-align: top;\n",
       "    }\n",
       "\n",
       "    .dataframe thead th {\n",
       "        text-align: right;\n",
       "    }\n",
       "</style>\n",
       "<table border=\"1\" class=\"dataframe\">\n",
       "  <thead>\n",
       "    <tr style=\"text-align: right;\">\n",
       "      <th></th>\n",
       "      <th>0</th>\n",
       "      <th>1</th>\n",
       "      <th>2</th>\n",
       "    </tr>\n",
       "  </thead>\n",
       "  <tbody>\n",
       "    <tr>\n",
       "      <th>0</th>\n",
       "      <td>-0.947046</td>\n",
       "      <td>0.101161</td>\n",
       "      <td>0.595884</td>\n",
       "    </tr>\n",
       "    <tr>\n",
       "      <th>1</th>\n",
       "      <td>-0.387724</td>\n",
       "      <td>-1.661954</td>\n",
       "      <td>0.047848</td>\n",
       "    </tr>\n",
       "    <tr>\n",
       "      <th>2</th>\n",
       "      <td>-0.125111</td>\n",
       "      <td>-1.661954</td>\n",
       "      <td>-1.493539</td>\n",
       "    </tr>\n",
       "    <tr>\n",
       "      <th>3</th>\n",
       "      <td>-0.363850</td>\n",
       "      <td>NaN</td>\n",
       "      <td>0.531574</td>\n",
       "    </tr>\n",
       "    <tr>\n",
       "      <th>4</th>\n",
       "      <td>2.472778</td>\n",
       "      <td>7.500000</td>\n",
       "      <td>0.531574</td>\n",
       "    </tr>\n",
       "    <tr>\n",
       "      <th>5</th>\n",
       "      <td>-1.248623</td>\n",
       "      <td>7.500000</td>\n",
       "      <td>NaN</td>\n",
       "    </tr>\n",
       "  </tbody>\n",
       "</table>\n",
       "</div>"
      ],
      "text/plain": [
       "          0         1         2\n",
       "0 -0.947046  0.101161  0.595884\n",
       "1 -0.387724 -1.661954  0.047848\n",
       "2 -0.125111 -1.661954 -1.493539\n",
       "3 -0.363850       NaN  0.531574\n",
       "4  2.472778  7.500000  0.531574\n",
       "5 -1.248623  7.500000       NaN"
      ]
     },
     "execution_count": 36,
     "metadata": {},
     "output_type": "execute_result"
    }
   ],
   "source": [
    "df.ffill(limit=1).bfill(limit=1)"
   ]
  },
  {
   "cell_type": "markdown",
   "metadata": {},
   "source": [
    "### 7.2 Data Transformation"
   ]
  },
  {
   "cell_type": "code",
   "execution_count": 37,
   "metadata": {},
   "outputs": [
    {
     "data": {
      "text/html": [
       "<div>\n",
       "<style scoped>\n",
       "    .dataframe tbody tr th:only-of-type {\n",
       "        vertical-align: middle;\n",
       "    }\n",
       "\n",
       "    .dataframe tbody tr th {\n",
       "        vertical-align: top;\n",
       "    }\n",
       "\n",
       "    .dataframe thead th {\n",
       "        text-align: right;\n",
       "    }\n",
       "</style>\n",
       "<table border=\"1\" class=\"dataframe\">\n",
       "  <thead>\n",
       "    <tr style=\"text-align: right;\">\n",
       "      <th></th>\n",
       "      <th>k1</th>\n",
       "      <th>k2</th>\n",
       "    </tr>\n",
       "  </thead>\n",
       "  <tbody>\n",
       "    <tr>\n",
       "      <th>0</th>\n",
       "      <td>one</td>\n",
       "      <td>1</td>\n",
       "    </tr>\n",
       "    <tr>\n",
       "      <th>1</th>\n",
       "      <td>two</td>\n",
       "      <td>1</td>\n",
       "    </tr>\n",
       "    <tr>\n",
       "      <th>2</th>\n",
       "      <td>one</td>\n",
       "      <td>2</td>\n",
       "    </tr>\n",
       "    <tr>\n",
       "      <th>3</th>\n",
       "      <td>two</td>\n",
       "      <td>3</td>\n",
       "    </tr>\n",
       "    <tr>\n",
       "      <th>4</th>\n",
       "      <td>one</td>\n",
       "      <td>3</td>\n",
       "    </tr>\n",
       "    <tr>\n",
       "      <th>5</th>\n",
       "      <td>two</td>\n",
       "      <td>4</td>\n",
       "    </tr>\n",
       "    <tr>\n",
       "      <th>6</th>\n",
       "      <td>two</td>\n",
       "      <td>4</td>\n",
       "    </tr>\n",
       "  </tbody>\n",
       "</table>\n",
       "</div>"
      ],
      "text/plain": [
       "    k1  k2\n",
       "0  one   1\n",
       "1  two   1\n",
       "2  one   2\n",
       "3  two   3\n",
       "4  one   3\n",
       "5  two   4\n",
       "6  two   4"
      ]
     },
     "execution_count": 37,
     "metadata": {},
     "output_type": "execute_result"
    }
   ],
   "source": [
    "data = pd.DataFrame({'k1': ['one', 'two'] * 3 + ['two'],\n",
    "                     'k2': [1, 1, 2, 3, 3, 4, 4]})\n",
    "data"
   ]
  },
  {
   "cell_type": "code",
   "execution_count": 38,
   "metadata": {},
   "outputs": [
    {
     "data": {
      "text/plain": [
       "0    False\n",
       "1    False\n",
       "2    False\n",
       "3    False\n",
       "4    False\n",
       "5    False\n",
       "6     True\n",
       "dtype: bool"
      ]
     },
     "execution_count": 38,
     "metadata": {},
     "output_type": "execute_result"
    }
   ],
   "source": [
    "data.duplicated()"
   ]
  },
  {
   "cell_type": "code",
   "execution_count": 39,
   "metadata": {},
   "outputs": [
    {
     "data": {
      "text/html": [
       "<div>\n",
       "<style scoped>\n",
       "    .dataframe tbody tr th:only-of-type {\n",
       "        vertical-align: middle;\n",
       "    }\n",
       "\n",
       "    .dataframe tbody tr th {\n",
       "        vertical-align: top;\n",
       "    }\n",
       "\n",
       "    .dataframe thead th {\n",
       "        text-align: right;\n",
       "    }\n",
       "</style>\n",
       "<table border=\"1\" class=\"dataframe\">\n",
       "  <thead>\n",
       "    <tr style=\"text-align: right;\">\n",
       "      <th></th>\n",
       "      <th>k1</th>\n",
       "      <th>k2</th>\n",
       "    </tr>\n",
       "  </thead>\n",
       "  <tbody>\n",
       "    <tr>\n",
       "      <th>0</th>\n",
       "      <td>one</td>\n",
       "      <td>1</td>\n",
       "    </tr>\n",
       "    <tr>\n",
       "      <th>1</th>\n",
       "      <td>two</td>\n",
       "      <td>1</td>\n",
       "    </tr>\n",
       "    <tr>\n",
       "      <th>2</th>\n",
       "      <td>one</td>\n",
       "      <td>2</td>\n",
       "    </tr>\n",
       "    <tr>\n",
       "      <th>3</th>\n",
       "      <td>two</td>\n",
       "      <td>3</td>\n",
       "    </tr>\n",
       "    <tr>\n",
       "      <th>4</th>\n",
       "      <td>one</td>\n",
       "      <td>3</td>\n",
       "    </tr>\n",
       "    <tr>\n",
       "      <th>5</th>\n",
       "      <td>two</td>\n",
       "      <td>4</td>\n",
       "    </tr>\n",
       "  </tbody>\n",
       "</table>\n",
       "</div>"
      ],
      "text/plain": [
       "    k1  k2\n",
       "0  one   1\n",
       "1  two   1\n",
       "2  one   2\n",
       "3  two   3\n",
       "4  one   3\n",
       "5  two   4"
      ]
     },
     "execution_count": 39,
     "metadata": {},
     "output_type": "execute_result"
    }
   ],
   "source": [
    "data.drop_duplicates()"
   ]
  },
  {
   "cell_type": "code",
   "execution_count": 40,
   "metadata": {},
   "outputs": [
    {
     "data": {
      "text/html": [
       "<div>\n",
       "<style scoped>\n",
       "    .dataframe tbody tr th:only-of-type {\n",
       "        vertical-align: middle;\n",
       "    }\n",
       "\n",
       "    .dataframe tbody tr th {\n",
       "        vertical-align: top;\n",
       "    }\n",
       "\n",
       "    .dataframe thead th {\n",
       "        text-align: right;\n",
       "    }\n",
       "</style>\n",
       "<table border=\"1\" class=\"dataframe\">\n",
       "  <thead>\n",
       "    <tr style=\"text-align: right;\">\n",
       "      <th></th>\n",
       "      <th>k1</th>\n",
       "      <th>k2</th>\n",
       "      <th>v1</th>\n",
       "    </tr>\n",
       "  </thead>\n",
       "  <tbody>\n",
       "    <tr>\n",
       "      <th>0</th>\n",
       "      <td>one</td>\n",
       "      <td>1</td>\n",
       "      <td>0</td>\n",
       "    </tr>\n",
       "    <tr>\n",
       "      <th>1</th>\n",
       "      <td>two</td>\n",
       "      <td>1</td>\n",
       "      <td>1</td>\n",
       "    </tr>\n",
       "    <tr>\n",
       "      <th>2</th>\n",
       "      <td>one</td>\n",
       "      <td>2</td>\n",
       "      <td>2</td>\n",
       "    </tr>\n",
       "    <tr>\n",
       "      <th>3</th>\n",
       "      <td>two</td>\n",
       "      <td>3</td>\n",
       "      <td>3</td>\n",
       "    </tr>\n",
       "    <tr>\n",
       "      <th>4</th>\n",
       "      <td>one</td>\n",
       "      <td>3</td>\n",
       "      <td>4</td>\n",
       "    </tr>\n",
       "    <tr>\n",
       "      <th>5</th>\n",
       "      <td>two</td>\n",
       "      <td>4</td>\n",
       "      <td>5</td>\n",
       "    </tr>\n",
       "    <tr>\n",
       "      <th>6</th>\n",
       "      <td>two</td>\n",
       "      <td>4</td>\n",
       "      <td>6</td>\n",
       "    </tr>\n",
       "  </tbody>\n",
       "</table>\n",
       "</div>"
      ],
      "text/plain": [
       "    k1  k2  v1\n",
       "0  one   1   0\n",
       "1  two   1   1\n",
       "2  one   2   2\n",
       "3  two   3   3\n",
       "4  one   3   4\n",
       "5  two   4   5\n",
       "6  two   4   6"
      ]
     },
     "execution_count": 40,
     "metadata": {},
     "output_type": "execute_result"
    }
   ],
   "source": [
    "data['v1'] = range(7)\n",
    "data"
   ]
  },
  {
   "cell_type": "code",
   "execution_count": 41,
   "metadata": {},
   "outputs": [
    {
     "data": {
      "text/html": [
       "<div>\n",
       "<style scoped>\n",
       "    .dataframe tbody tr th:only-of-type {\n",
       "        vertical-align: middle;\n",
       "    }\n",
       "\n",
       "    .dataframe tbody tr th {\n",
       "        vertical-align: top;\n",
       "    }\n",
       "\n",
       "    .dataframe thead th {\n",
       "        text-align: right;\n",
       "    }\n",
       "</style>\n",
       "<table border=\"1\" class=\"dataframe\">\n",
       "  <thead>\n",
       "    <tr style=\"text-align: right;\">\n",
       "      <th></th>\n",
       "      <th>k1</th>\n",
       "      <th>k2</th>\n",
       "      <th>v1</th>\n",
       "    </tr>\n",
       "  </thead>\n",
       "  <tbody>\n",
       "    <tr>\n",
       "      <th>0</th>\n",
       "      <td>one</td>\n",
       "      <td>1</td>\n",
       "      <td>0</td>\n",
       "    </tr>\n",
       "    <tr>\n",
       "      <th>1</th>\n",
       "      <td>two</td>\n",
       "      <td>1</td>\n",
       "      <td>1</td>\n",
       "    </tr>\n",
       "  </tbody>\n",
       "</table>\n",
       "</div>"
      ],
      "text/plain": [
       "    k1  k2  v1\n",
       "0  one   1   0\n",
       "1  two   1   1"
      ]
     },
     "execution_count": 41,
     "metadata": {},
     "output_type": "execute_result"
    }
   ],
   "source": [
    "data.drop_duplicates(['k1'])"
   ]
  },
  {
   "cell_type": "code",
   "execution_count": 42,
   "metadata": {},
   "outputs": [
    {
     "data": {
      "text/html": [
       "<div>\n",
       "<style scoped>\n",
       "    .dataframe tbody tr th:only-of-type {\n",
       "        vertical-align: middle;\n",
       "    }\n",
       "\n",
       "    .dataframe tbody tr th {\n",
       "        vertical-align: top;\n",
       "    }\n",
       "\n",
       "    .dataframe thead th {\n",
       "        text-align: right;\n",
       "    }\n",
       "</style>\n",
       "<table border=\"1\" class=\"dataframe\">\n",
       "  <thead>\n",
       "    <tr style=\"text-align: right;\">\n",
       "      <th></th>\n",
       "      <th>k1</th>\n",
       "      <th>k2</th>\n",
       "      <th>v1</th>\n",
       "    </tr>\n",
       "  </thead>\n",
       "  <tbody>\n",
       "    <tr>\n",
       "      <th>0</th>\n",
       "      <td>one</td>\n",
       "      <td>1</td>\n",
       "      <td>0</td>\n",
       "    </tr>\n",
       "    <tr>\n",
       "      <th>1</th>\n",
       "      <td>two</td>\n",
       "      <td>1</td>\n",
       "      <td>1</td>\n",
       "    </tr>\n",
       "    <tr>\n",
       "      <th>2</th>\n",
       "      <td>one</td>\n",
       "      <td>2</td>\n",
       "      <td>2</td>\n",
       "    </tr>\n",
       "    <tr>\n",
       "      <th>3</th>\n",
       "      <td>two</td>\n",
       "      <td>3</td>\n",
       "      <td>3</td>\n",
       "    </tr>\n",
       "    <tr>\n",
       "      <th>4</th>\n",
       "      <td>one</td>\n",
       "      <td>3</td>\n",
       "      <td>4</td>\n",
       "    </tr>\n",
       "    <tr>\n",
       "      <th>6</th>\n",
       "      <td>two</td>\n",
       "      <td>4</td>\n",
       "      <td>6</td>\n",
       "    </tr>\n",
       "  </tbody>\n",
       "</table>\n",
       "</div>"
      ],
      "text/plain": [
       "    k1  k2  v1\n",
       "0  one   1   0\n",
       "1  two   1   1\n",
       "2  one   2   2\n",
       "3  two   3   3\n",
       "4  one   3   4\n",
       "6  two   4   6"
      ]
     },
     "execution_count": 42,
     "metadata": {},
     "output_type": "execute_result"
    }
   ],
   "source": [
    "data.drop_duplicates(['k1', 'k2'], keep='last')"
   ]
  },
  {
   "cell_type": "code",
   "execution_count": 43,
   "metadata": {},
   "outputs": [
    {
     "data": {
      "text/html": [
       "<div>\n",
       "<style scoped>\n",
       "    .dataframe tbody tr th:only-of-type {\n",
       "        vertical-align: middle;\n",
       "    }\n",
       "\n",
       "    .dataframe tbody tr th {\n",
       "        vertical-align: top;\n",
       "    }\n",
       "\n",
       "    .dataframe thead th {\n",
       "        text-align: right;\n",
       "    }\n",
       "</style>\n",
       "<table border=\"1\" class=\"dataframe\">\n",
       "  <thead>\n",
       "    <tr style=\"text-align: right;\">\n",
       "      <th></th>\n",
       "      <th>food</th>\n",
       "      <th>ounces</th>\n",
       "    </tr>\n",
       "  </thead>\n",
       "  <tbody>\n",
       "    <tr>\n",
       "      <th>0</th>\n",
       "      <td>bacon</td>\n",
       "      <td>4.0</td>\n",
       "    </tr>\n",
       "    <tr>\n",
       "      <th>1</th>\n",
       "      <td>pulled pork</td>\n",
       "      <td>3.0</td>\n",
       "    </tr>\n",
       "    <tr>\n",
       "      <th>2</th>\n",
       "      <td>bacon</td>\n",
       "      <td>12.0</td>\n",
       "    </tr>\n",
       "    <tr>\n",
       "      <th>3</th>\n",
       "      <td>Pastrami</td>\n",
       "      <td>6.0</td>\n",
       "    </tr>\n",
       "    <tr>\n",
       "      <th>4</th>\n",
       "      <td>corned beef</td>\n",
       "      <td>7.5</td>\n",
       "    </tr>\n",
       "    <tr>\n",
       "      <th>5</th>\n",
       "      <td>Bacon</td>\n",
       "      <td>8.0</td>\n",
       "    </tr>\n",
       "    <tr>\n",
       "      <th>6</th>\n",
       "      <td>pastrami</td>\n",
       "      <td>3.0</td>\n",
       "    </tr>\n",
       "    <tr>\n",
       "      <th>7</th>\n",
       "      <td>honey ham</td>\n",
       "      <td>5.0</td>\n",
       "    </tr>\n",
       "    <tr>\n",
       "      <th>8</th>\n",
       "      <td>nova lox</td>\n",
       "      <td>6.0</td>\n",
       "    </tr>\n",
       "  </tbody>\n",
       "</table>\n",
       "</div>"
      ],
      "text/plain": [
       "          food  ounces\n",
       "0        bacon     4.0\n",
       "1  pulled pork     3.0\n",
       "2        bacon    12.0\n",
       "3     Pastrami     6.0\n",
       "4  corned beef     7.5\n",
       "5        Bacon     8.0\n",
       "6     pastrami     3.0\n",
       "7    honey ham     5.0\n",
       "8     nova lox     6.0"
      ]
     },
     "execution_count": 43,
     "metadata": {},
     "output_type": "execute_result"
    }
   ],
   "source": [
    "data = pd.DataFrame({'food': ['bacon', 'pulled pork', 'bacon',\n",
    "                              'Pastrami', 'corned beef', 'Bacon',\n",
    "                              'pastrami', 'honey ham', 'nova lox'],\n",
    "                     'ounces': [4, 3, 12, 6, 7.5, 8, 3, 5, 6]})\n",
    "data\n",
    "                              "
   ]
  },
  {
   "cell_type": "code",
   "execution_count": 44,
   "metadata": {},
   "outputs": [
    {
     "data": {
      "text/plain": [
       "{'bacon': 'pig',\n",
       " 'pulled pork': 'pig',\n",
       " 'pastrami': 'cow',\n",
       " 'corned beef': 'cow',\n",
       " 'honey ham': 'pig',\n",
       " 'nova lox': 'salmon'}"
      ]
     },
     "execution_count": 44,
     "metadata": {},
     "output_type": "execute_result"
    }
   ],
   "source": [
    "meat_to_animal = {\n",
    "  'bacon': 'pig',\n",
    "  'pulled pork': 'pig',\n",
    "  'pastrami': 'cow',\n",
    "  'corned beef': 'cow',\n",
    "  'honey ham': 'pig',\n",
    "  'nova lox': 'salmon'\n",
    "}\n",
    "meat_to_animal"
   ]
  },
  {
   "cell_type": "code",
   "execution_count": 45,
   "metadata": {},
   "outputs": [
    {
     "data": {
      "text/plain": [
       "0          bacon\n",
       "1    pulled pork\n",
       "2          bacon\n",
       "3       pastrami\n",
       "4    corned beef\n",
       "5          bacon\n",
       "6       pastrami\n",
       "7      honey ham\n",
       "8       nova lox\n",
       "Name: food, dtype: object"
      ]
     },
     "execution_count": 45,
     "metadata": {},
     "output_type": "execute_result"
    }
   ],
   "source": [
    "lowercased = data['food'].str.lower()\n",
    "lowercased"
   ]
  },
  {
   "cell_type": "code",
   "execution_count": 46,
   "metadata": {},
   "outputs": [
    {
     "data": {
      "text/html": [
       "<div>\n",
       "<style scoped>\n",
       "    .dataframe tbody tr th:only-of-type {\n",
       "        vertical-align: middle;\n",
       "    }\n",
       "\n",
       "    .dataframe tbody tr th {\n",
       "        vertical-align: top;\n",
       "    }\n",
       "\n",
       "    .dataframe thead th {\n",
       "        text-align: right;\n",
       "    }\n",
       "</style>\n",
       "<table border=\"1\" class=\"dataframe\">\n",
       "  <thead>\n",
       "    <tr style=\"text-align: right;\">\n",
       "      <th></th>\n",
       "      <th>food</th>\n",
       "      <th>ounces</th>\n",
       "      <th>animal</th>\n",
       "    </tr>\n",
       "  </thead>\n",
       "  <tbody>\n",
       "    <tr>\n",
       "      <th>0</th>\n",
       "      <td>bacon</td>\n",
       "      <td>4.0</td>\n",
       "      <td>pig</td>\n",
       "    </tr>\n",
       "    <tr>\n",
       "      <th>1</th>\n",
       "      <td>pulled pork</td>\n",
       "      <td>3.0</td>\n",
       "      <td>pig</td>\n",
       "    </tr>\n",
       "    <tr>\n",
       "      <th>2</th>\n",
       "      <td>bacon</td>\n",
       "      <td>12.0</td>\n",
       "      <td>pig</td>\n",
       "    </tr>\n",
       "    <tr>\n",
       "      <th>3</th>\n",
       "      <td>Pastrami</td>\n",
       "      <td>6.0</td>\n",
       "      <td>cow</td>\n",
       "    </tr>\n",
       "    <tr>\n",
       "      <th>4</th>\n",
       "      <td>corned beef</td>\n",
       "      <td>7.5</td>\n",
       "      <td>cow</td>\n",
       "    </tr>\n",
       "    <tr>\n",
       "      <th>5</th>\n",
       "      <td>Bacon</td>\n",
       "      <td>8.0</td>\n",
       "      <td>pig</td>\n",
       "    </tr>\n",
       "    <tr>\n",
       "      <th>6</th>\n",
       "      <td>pastrami</td>\n",
       "      <td>3.0</td>\n",
       "      <td>cow</td>\n",
       "    </tr>\n",
       "    <tr>\n",
       "      <th>7</th>\n",
       "      <td>honey ham</td>\n",
       "      <td>5.0</td>\n",
       "      <td>pig</td>\n",
       "    </tr>\n",
       "    <tr>\n",
       "      <th>8</th>\n",
       "      <td>nova lox</td>\n",
       "      <td>6.0</td>\n",
       "      <td>salmon</td>\n",
       "    </tr>\n",
       "  </tbody>\n",
       "</table>\n",
       "</div>"
      ],
      "text/plain": [
       "          food  ounces  animal\n",
       "0        bacon     4.0     pig\n",
       "1  pulled pork     3.0     pig\n",
       "2        bacon    12.0     pig\n",
       "3     Pastrami     6.0     cow\n",
       "4  corned beef     7.5     cow\n",
       "5        Bacon     8.0     pig\n",
       "6     pastrami     3.0     cow\n",
       "7    honey ham     5.0     pig\n",
       "8     nova lox     6.0  salmon"
      ]
     },
     "execution_count": 46,
     "metadata": {},
     "output_type": "execute_result"
    }
   ],
   "source": [
    "data['animal'] = lowercased.map(meat_to_animal)\n",
    "data"
   ]
  },
  {
   "cell_type": "code",
   "execution_count": 47,
   "metadata": {},
   "outputs": [
    {
     "data": {
      "text/plain": [
       "0       pig\n",
       "1       pig\n",
       "2       pig\n",
       "3       cow\n",
       "4       cow\n",
       "5       pig\n",
       "6       cow\n",
       "7       pig\n",
       "8    salmon\n",
       "Name: food, dtype: object"
      ]
     },
     "execution_count": 47,
     "metadata": {},
     "output_type": "execute_result"
    }
   ],
   "source": [
    "lowercased.map(meat_to_animal)"
   ]
  },
  {
   "cell_type": "code",
   "execution_count": 48,
   "metadata": {},
   "outputs": [
    {
     "data": {
      "text/plain": [
       "0       1.0\n",
       "1    -999.0\n",
       "2       2.0\n",
       "3    -999.0\n",
       "4   -1000.0\n",
       "5       3.0\n",
       "dtype: float64"
      ]
     },
     "execution_count": 48,
     "metadata": {},
     "output_type": "execute_result"
    }
   ],
   "source": [
    "data = pd.Series([1., -999., 2., -999., -1000., 3.])\n",
    "data"
   ]
  },
  {
   "cell_type": "code",
   "execution_count": 49,
   "metadata": {},
   "outputs": [
    {
     "data": {
      "text/plain": [
       "0       1.0\n",
       "1       NaN\n",
       "2       2.0\n",
       "3       NaN\n",
       "4   -1000.0\n",
       "5       3.0\n",
       "dtype: float64"
      ]
     },
     "execution_count": 49,
     "metadata": {},
     "output_type": "execute_result"
    }
   ],
   "source": [
    "data.replace(-999, np.nan)\n"
   ]
  },
  {
   "cell_type": "code",
   "execution_count": 50,
   "metadata": {},
   "outputs": [
    {
     "data": {
      "text/plain": [
       "0    1.0\n",
       "1    NaN\n",
       "2    2.0\n",
       "3    NaN\n",
       "4    NaN\n",
       "5    3.0\n",
       "dtype: float64"
      ]
     },
     "execution_count": 50,
     "metadata": {},
     "output_type": "execute_result"
    }
   ],
   "source": [
    "data.replace([-999, -1000], np.nan)"
   ]
  },
  {
   "cell_type": "code",
   "execution_count": 51,
   "metadata": {},
   "outputs": [
    {
     "data": {
      "text/plain": [
       "0    1.0\n",
       "1    NaN\n",
       "2    2.0\n",
       "3    NaN\n",
       "4    0.0\n",
       "5    3.0\n",
       "dtype: float64"
      ]
     },
     "execution_count": 51,
     "metadata": {},
     "output_type": "execute_result"
    }
   ],
   "source": [
    "data.replace([-999, -1000], [np.nan, 0])"
   ]
  },
  {
   "cell_type": "code",
   "execution_count": 52,
   "metadata": {},
   "outputs": [
    {
     "data": {
      "text/plain": [
       "0    1.0\n",
       "1    NaN\n",
       "2    2.0\n",
       "3    NaN\n",
       "4    0.0\n",
       "5    3.0\n",
       "dtype: float64"
      ]
     },
     "execution_count": 52,
     "metadata": {},
     "output_type": "execute_result"
    }
   ],
   "source": [
    "data.replace({-999: np.nan, -1000: 0})"
   ]
  },
  {
   "cell_type": "code",
   "execution_count": 53,
   "metadata": {},
   "outputs": [
    {
     "data": {
      "text/html": [
       "<div>\n",
       "<style scoped>\n",
       "    .dataframe tbody tr th:only-of-type {\n",
       "        vertical-align: middle;\n",
       "    }\n",
       "\n",
       "    .dataframe tbody tr th {\n",
       "        vertical-align: top;\n",
       "    }\n",
       "\n",
       "    .dataframe thead th {\n",
       "        text-align: right;\n",
       "    }\n",
       "</style>\n",
       "<table border=\"1\" class=\"dataframe\">\n",
       "  <thead>\n",
       "    <tr style=\"text-align: right;\">\n",
       "      <th></th>\n",
       "      <th>one</th>\n",
       "      <th>two</th>\n",
       "      <th>three</th>\n",
       "      <th>four</th>\n",
       "    </tr>\n",
       "  </thead>\n",
       "  <tbody>\n",
       "    <tr>\n",
       "      <th>Ohio</th>\n",
       "      <td>0</td>\n",
       "      <td>1</td>\n",
       "      <td>2</td>\n",
       "      <td>3</td>\n",
       "    </tr>\n",
       "    <tr>\n",
       "      <th>Colorado</th>\n",
       "      <td>4</td>\n",
       "      <td>5</td>\n",
       "      <td>6</td>\n",
       "      <td>7</td>\n",
       "    </tr>\n",
       "    <tr>\n",
       "      <th>New York</th>\n",
       "      <td>8</td>\n",
       "      <td>9</td>\n",
       "      <td>10</td>\n",
       "      <td>11</td>\n",
       "    </tr>\n",
       "  </tbody>\n",
       "</table>\n",
       "</div>"
      ],
      "text/plain": [
       "          one  two  three  four\n",
       "Ohio        0    1      2     3\n",
       "Colorado    4    5      6     7\n",
       "New York    8    9     10    11"
      ]
     },
     "execution_count": 53,
     "metadata": {},
     "output_type": "execute_result"
    }
   ],
   "source": [
    "data = pd.DataFrame(np.arange(12).reshape((3, 4)),\n",
    "                    index=['Ohio', 'Colorado', 'New York'],\n",
    "                    columns=['one', 'two', 'three', 'four'])\n",
    "data"
   ]
  },
  {
   "cell_type": "code",
   "execution_count": 54,
   "metadata": {},
   "outputs": [
    {
     "data": {
      "text/plain": [
       "Index(['OHIO', 'COLO', 'NEW '], dtype='object')"
      ]
     },
     "execution_count": 54,
     "metadata": {},
     "output_type": "execute_result"
    }
   ],
   "source": [
    "transform = lambda x: x[:4].upper()\n",
    "data.index.map(transform)"
   ]
  },
  {
   "cell_type": "code",
   "execution_count": 55,
   "metadata": {},
   "outputs": [
    {
     "data": {
      "text/plain": [
       "Index(['OHIO', 'COLO', 'NEW '], dtype='object')"
      ]
     },
     "execution_count": 55,
     "metadata": {},
     "output_type": "execute_result"
    }
   ],
   "source": [
    "data.index = data.index.map(transform)\n",
    "data.index"
   ]
  },
  {
   "cell_type": "code",
   "execution_count": 56,
   "metadata": {},
   "outputs": [
    {
     "data": {
      "text/html": [
       "<div>\n",
       "<style scoped>\n",
       "    .dataframe tbody tr th:only-of-type {\n",
       "        vertical-align: middle;\n",
       "    }\n",
       "\n",
       "    .dataframe tbody tr th {\n",
       "        vertical-align: top;\n",
       "    }\n",
       "\n",
       "    .dataframe thead th {\n",
       "        text-align: right;\n",
       "    }\n",
       "</style>\n",
       "<table border=\"1\" class=\"dataframe\">\n",
       "  <thead>\n",
       "    <tr style=\"text-align: right;\">\n",
       "      <th></th>\n",
       "      <th>one</th>\n",
       "      <th>two</th>\n",
       "      <th>three</th>\n",
       "      <th>four</th>\n",
       "    </tr>\n",
       "  </thead>\n",
       "  <tbody>\n",
       "    <tr>\n",
       "      <th>OHIO</th>\n",
       "      <td>0</td>\n",
       "      <td>1</td>\n",
       "      <td>2</td>\n",
       "      <td>3</td>\n",
       "    </tr>\n",
       "    <tr>\n",
       "      <th>COLO</th>\n",
       "      <td>4</td>\n",
       "      <td>5</td>\n",
       "      <td>6</td>\n",
       "      <td>7</td>\n",
       "    </tr>\n",
       "    <tr>\n",
       "      <th>NEW</th>\n",
       "      <td>8</td>\n",
       "      <td>9</td>\n",
       "      <td>10</td>\n",
       "      <td>11</td>\n",
       "    </tr>\n",
       "  </tbody>\n",
       "</table>\n",
       "</div>"
      ],
      "text/plain": [
       "      one  two  three  four\n",
       "OHIO    0    1      2     3\n",
       "COLO    4    5      6     7\n",
       "NEW     8    9     10    11"
      ]
     },
     "execution_count": 56,
     "metadata": {},
     "output_type": "execute_result"
    }
   ],
   "source": [
    "data"
   ]
  },
  {
   "cell_type": "code",
   "execution_count": 57,
   "metadata": {},
   "outputs": [
    {
     "data": {
      "text/html": [
       "<div>\n",
       "<style scoped>\n",
       "    .dataframe tbody tr th:only-of-type {\n",
       "        vertical-align: middle;\n",
       "    }\n",
       "\n",
       "    .dataframe tbody tr th {\n",
       "        vertical-align: top;\n",
       "    }\n",
       "\n",
       "    .dataframe thead th {\n",
       "        text-align: right;\n",
       "    }\n",
       "</style>\n",
       "<table border=\"1\" class=\"dataframe\">\n",
       "  <thead>\n",
       "    <tr style=\"text-align: right;\">\n",
       "      <th></th>\n",
       "      <th>ONE</th>\n",
       "      <th>TWO</th>\n",
       "      <th>THREE</th>\n",
       "      <th>FOUR</th>\n",
       "    </tr>\n",
       "  </thead>\n",
       "  <tbody>\n",
       "    <tr>\n",
       "      <th>Ohio</th>\n",
       "      <td>0</td>\n",
       "      <td>1</td>\n",
       "      <td>2</td>\n",
       "      <td>3</td>\n",
       "    </tr>\n",
       "    <tr>\n",
       "      <th>Colo</th>\n",
       "      <td>4</td>\n",
       "      <td>5</td>\n",
       "      <td>6</td>\n",
       "      <td>7</td>\n",
       "    </tr>\n",
       "    <tr>\n",
       "      <th>New</th>\n",
       "      <td>8</td>\n",
       "      <td>9</td>\n",
       "      <td>10</td>\n",
       "      <td>11</td>\n",
       "    </tr>\n",
       "  </tbody>\n",
       "</table>\n",
       "</div>"
      ],
      "text/plain": [
       "      ONE  TWO  THREE  FOUR\n",
       "Ohio    0    1      2     3\n",
       "Colo    4    5      6     7\n",
       "New     8    9     10    11"
      ]
     },
     "execution_count": 57,
     "metadata": {},
     "output_type": "execute_result"
    }
   ],
   "source": [
    "data.rename(index=str.title, columns=str.upper)"
   ]
  },
  {
   "cell_type": "code",
   "execution_count": 58,
   "metadata": {},
   "outputs": [
    {
     "data": {
      "text/html": [
       "<div>\n",
       "<style scoped>\n",
       "    .dataframe tbody tr th:only-of-type {\n",
       "        vertical-align: middle;\n",
       "    }\n",
       "\n",
       "    .dataframe tbody tr th {\n",
       "        vertical-align: top;\n",
       "    }\n",
       "\n",
       "    .dataframe thead th {\n",
       "        text-align: right;\n",
       "    }\n",
       "</style>\n",
       "<table border=\"1\" class=\"dataframe\">\n",
       "  <thead>\n",
       "    <tr style=\"text-align: right;\">\n",
       "      <th></th>\n",
       "      <th>one</th>\n",
       "      <th>two</th>\n",
       "      <th>peekaboo</th>\n",
       "      <th>four</th>\n",
       "    </tr>\n",
       "  </thead>\n",
       "  <tbody>\n",
       "    <tr>\n",
       "      <th>INDIANA</th>\n",
       "      <td>0</td>\n",
       "      <td>1</td>\n",
       "      <td>2</td>\n",
       "      <td>3</td>\n",
       "    </tr>\n",
       "    <tr>\n",
       "      <th>COLO</th>\n",
       "      <td>4</td>\n",
       "      <td>5</td>\n",
       "      <td>6</td>\n",
       "      <td>7</td>\n",
       "    </tr>\n",
       "    <tr>\n",
       "      <th>NEW</th>\n",
       "      <td>8</td>\n",
       "      <td>9</td>\n",
       "      <td>10</td>\n",
       "      <td>11</td>\n",
       "    </tr>\n",
       "  </tbody>\n",
       "</table>\n",
       "</div>"
      ],
      "text/plain": [
       "         one  two  peekaboo  four\n",
       "INDIANA    0    1         2     3\n",
       "COLO       4    5         6     7\n",
       "NEW        8    9        10    11"
      ]
     },
     "execution_count": 58,
     "metadata": {},
     "output_type": "execute_result"
    }
   ],
   "source": [
    "data.rename(index={'OHIO': 'INDIANA'},\n",
    "            columns={'three': 'peekaboo'})"
   ]
  },
  {
   "cell_type": "code",
   "execution_count": 59,
   "metadata": {},
   "outputs": [
    {
     "data": {
      "text/html": [
       "<div>\n",
       "<style scoped>\n",
       "    .dataframe tbody tr th:only-of-type {\n",
       "        vertical-align: middle;\n",
       "    }\n",
       "\n",
       "    .dataframe tbody tr th {\n",
       "        vertical-align: top;\n",
       "    }\n",
       "\n",
       "    .dataframe thead th {\n",
       "        text-align: right;\n",
       "    }\n",
       "</style>\n",
       "<table border=\"1\" class=\"dataframe\">\n",
       "  <thead>\n",
       "    <tr style=\"text-align: right;\">\n",
       "      <th></th>\n",
       "      <th>one</th>\n",
       "      <th>two</th>\n",
       "      <th>three</th>\n",
       "      <th>four</th>\n",
       "    </tr>\n",
       "  </thead>\n",
       "  <tbody>\n",
       "    <tr>\n",
       "      <th>OHIO</th>\n",
       "      <td>0</td>\n",
       "      <td>1</td>\n",
       "      <td>2</td>\n",
       "      <td>3</td>\n",
       "    </tr>\n",
       "    <tr>\n",
       "      <th>COLO</th>\n",
       "      <td>4</td>\n",
       "      <td>5</td>\n",
       "      <td>6</td>\n",
       "      <td>7</td>\n",
       "    </tr>\n",
       "    <tr>\n",
       "      <th>NEW</th>\n",
       "      <td>8</td>\n",
       "      <td>9</td>\n",
       "      <td>10</td>\n",
       "      <td>11</td>\n",
       "    </tr>\n",
       "  </tbody>\n",
       "</table>\n",
       "</div>"
      ],
      "text/plain": [
       "      one  two  three  four\n",
       "OHIO    0    1      2     3\n",
       "COLO    4    5      6     7\n",
       "NEW     8    9     10    11"
      ]
     },
     "execution_count": 59,
     "metadata": {},
     "output_type": "execute_result"
    }
   ],
   "source": [
    "data"
   ]
  },
  {
   "cell_type": "code",
   "execution_count": 60,
   "metadata": {},
   "outputs": [
    {
     "data": {
      "text/html": [
       "<div>\n",
       "<style scoped>\n",
       "    .dataframe tbody tr th:only-of-type {\n",
       "        vertical-align: middle;\n",
       "    }\n",
       "\n",
       "    .dataframe tbody tr th {\n",
       "        vertical-align: top;\n",
       "    }\n",
       "\n",
       "    .dataframe thead th {\n",
       "        text-align: right;\n",
       "    }\n",
       "</style>\n",
       "<table border=\"1\" class=\"dataframe\">\n",
       "  <thead>\n",
       "    <tr style=\"text-align: right;\">\n",
       "      <th></th>\n",
       "      <th>one</th>\n",
       "      <th>two</th>\n",
       "      <th>three</th>\n",
       "      <th>four</th>\n",
       "    </tr>\n",
       "  </thead>\n",
       "  <tbody>\n",
       "    <tr>\n",
       "      <th>INDIANA</th>\n",
       "      <td>0</td>\n",
       "      <td>1</td>\n",
       "      <td>2</td>\n",
       "      <td>3</td>\n",
       "    </tr>\n",
       "    <tr>\n",
       "      <th>COLO</th>\n",
       "      <td>4</td>\n",
       "      <td>5</td>\n",
       "      <td>6</td>\n",
       "      <td>7</td>\n",
       "    </tr>\n",
       "    <tr>\n",
       "      <th>NEW</th>\n",
       "      <td>8</td>\n",
       "      <td>9</td>\n",
       "      <td>10</td>\n",
       "      <td>11</td>\n",
       "    </tr>\n",
       "  </tbody>\n",
       "</table>\n",
       "</div>"
      ],
      "text/plain": [
       "         one  two  three  four\n",
       "INDIANA    0    1      2     3\n",
       "COLO       4    5      6     7\n",
       "NEW        8    9     10    11"
      ]
     },
     "execution_count": 60,
     "metadata": {},
     "output_type": "execute_result"
    }
   ],
   "source": [
    "data.rename(index={'OHIO': 'INDIANA'}, inplace=True)\n",
    "data"
   ]
  },
  {
   "cell_type": "code",
   "execution_count": 61,
   "metadata": {},
   "outputs": [
    {
     "data": {
      "text/plain": [
       "[(18, 25], (18, 25], (18, 25], (25, 35], (18, 25], ..., (25, 35], (60, 100], (35, 60], (35, 60], (25, 35]]\n",
       "Length: 12\n",
       "Categories (4, interval[int64]): [(18, 25] < (25, 35] < (35, 60] < (60, 100]]"
      ]
     },
     "execution_count": 61,
     "metadata": {},
     "output_type": "execute_result"
    }
   ],
   "source": [
    "ages = [20, 22, 25, 27, 21, 23, 37, 31, 61, 45, 41, 32]\n",
    "bins = [18, 25, 35, 60, 100]\n",
    "cats = pd.cut(ages, bins)\n",
    "cats"
   ]
  },
  {
   "cell_type": "code",
   "execution_count": 62,
   "metadata": {},
   "outputs": [
    {
     "data": {
      "text/plain": [
       "array([0, 0, 0, 1, 0, 0, 2, 1, 3, 2, 2, 1], dtype=int8)"
      ]
     },
     "execution_count": 62,
     "metadata": {},
     "output_type": "execute_result"
    }
   ],
   "source": [
    "cats.codes"
   ]
  },
  {
   "cell_type": "code",
   "execution_count": 63,
   "metadata": {},
   "outputs": [
    {
     "data": {
      "text/plain": [
       "IntervalIndex([(18, 25], (25, 35], (35, 60], (60, 100]]\n",
       "              closed='right',\n",
       "              dtype='interval[int64]')"
      ]
     },
     "execution_count": 63,
     "metadata": {},
     "output_type": "execute_result"
    }
   ],
   "source": [
    "cats.categories"
   ]
  },
  {
   "cell_type": "code",
   "execution_count": 64,
   "metadata": {},
   "outputs": [
    {
     "data": {
      "text/plain": [
       "(18, 25]     5\n",
       "(35, 60]     3\n",
       "(25, 35]     3\n",
       "(60, 100]    1\n",
       "dtype: int64"
      ]
     },
     "execution_count": 64,
     "metadata": {},
     "output_type": "execute_result"
    }
   ],
   "source": [
    "pd.value_counts(cats)"
   ]
  },
  {
   "cell_type": "code",
   "execution_count": 65,
   "metadata": {},
   "outputs": [
    {
     "data": {
      "text/plain": [
       "[[18, 26), [18, 26), [18, 26), [26, 36), [18, 26), ..., [26, 36), [61, 100), [36, 61), [36, 61), [26, 36)]\n",
       "Length: 12\n",
       "Categories (4, interval[int64]): [[18, 26) < [26, 36) < [36, 61) < [61, 100)]"
      ]
     },
     "execution_count": 65,
     "metadata": {},
     "output_type": "execute_result"
    }
   ],
   "source": [
    "pd.cut(ages, [18, 26, 36, 61, 100], right=False)"
   ]
  },
  {
   "cell_type": "code",
   "execution_count": 66,
   "metadata": {},
   "outputs": [
    {
     "data": {
      "text/plain": [
       "[Youth, Youth, Youth, YoungAdult, Youth, ..., YoungAdult, Senior, MiddleAged, MiddleAged, YoungAdult]\n",
       "Length: 12\n",
       "Categories (4, object): [Youth < YoungAdult < MiddleAged < Senior]"
      ]
     },
     "execution_count": 66,
     "metadata": {},
     "output_type": "execute_result"
    }
   ],
   "source": [
    "group_names = ['Youth', 'YoungAdult', 'MiddleAged', 'Senior']\n",
    "cats = pd.cut(ages, bins, labels=group_names)\n",
    "cats"
   ]
  },
  {
   "cell_type": "code",
   "execution_count": 67,
   "metadata": {},
   "outputs": [
    {
     "data": {
      "text/plain": [
       "Youth         5\n",
       "YoungAdult    3\n",
       "MiddleAged    3\n",
       "Senior        1\n",
       "dtype: int64"
      ]
     },
     "execution_count": 67,
     "metadata": {},
     "output_type": "execute_result"
    }
   ],
   "source": [
    "cats.value_counts()"
   ]
  },
  {
   "cell_type": "code",
   "execution_count": 68,
   "metadata": {},
   "outputs": [
    {
     "data": {
      "text/plain": [
       "array([0.68569301, 0.28390605, 0.4755384 , 0.43319142, 0.14628116,\n",
       "       0.76615301, 0.23417688, 0.79266715, 0.66376817, 0.30428435,\n",
       "       0.81917852, 0.77079438, 0.55575066, 0.59955049, 0.39327913,\n",
       "       0.02144902, 0.49863131, 0.98777828, 0.40560664, 0.93940401])"
      ]
     },
     "execution_count": 68,
     "metadata": {},
     "output_type": "execute_result"
    }
   ],
   "source": [
    "data = np.random.rand(20)\n",
    "data"
   ]
  },
  {
   "cell_type": "code",
   "execution_count": 69,
   "metadata": {},
   "outputs": [
    {
     "data": {
      "text/plain": [
       "[(0.5, 0.75], (0.26, 0.5], (0.26, 0.5], (0.26, 0.5], (0.02, 0.26], ..., (0.02, 0.26], (0.26, 0.5], (0.75, 0.99], (0.26, 0.5], (0.75, 0.99]]\n",
       "Length: 20\n",
       "Categories (4, interval[float64]): [(0.02, 0.26] < (0.26, 0.5] < (0.5, 0.75] < (0.75, 0.99]]"
      ]
     },
     "execution_count": 69,
     "metadata": {},
     "output_type": "execute_result"
    }
   ],
   "source": [
    "pd.cut(data, 4, precision=2)"
   ]
  },
  {
   "cell_type": "code",
   "execution_count": 70,
   "metadata": {},
   "outputs": [
    {
     "data": {
      "text/plain": [
       "[(-3.464, -0.644], (0.0412, 0.689], (0.0412, 0.689], (-0.644, 0.0412], (-0.644, 0.0412], ..., (0.689, 3.034], (-0.644, 0.0412], (0.689, 3.034], (0.689, 3.034], (0.689, 3.034]]\n",
       "Length: 1000\n",
       "Categories (4, interval[float64]): [(-3.464, -0.644] < (-0.644, 0.0412] < (0.0412, 0.689] < (0.689, 3.034]]"
      ]
     },
     "execution_count": 70,
     "metadata": {},
     "output_type": "execute_result"
    }
   ],
   "source": [
    "data = np.random.randn(1000)\n",
    "cats = pd.qcut(data,4)\n",
    "cats"
   ]
  },
  {
   "cell_type": "code",
   "execution_count": 71,
   "metadata": {},
   "outputs": [
    {
     "data": {
      "text/plain": [
       "(0.689, 3.034]      250\n",
       "(0.0412, 0.689]     250\n",
       "(-0.644, 0.0412]    250\n",
       "(-3.464, -0.644]    250\n",
       "dtype: int64"
      ]
     },
     "execution_count": 71,
     "metadata": {},
     "output_type": "execute_result"
    }
   ],
   "source": [
    "pd.value_counts(cats)"
   ]
  },
  {
   "cell_type": "code",
   "execution_count": 72,
   "metadata": {},
   "outputs": [
    {
     "data": {
      "text/plain": [
       "[(-3.464, -1.189], (0.0412, 1.3], (0.0412, 1.3], (-1.189, 0.0412], (-1.189, 0.0412], ..., (0.0412, 1.3], (-1.189, 0.0412], (0.0412, 1.3], (1.3, 3.034], (0.0412, 1.3]]\n",
       "Length: 1000\n",
       "Categories (4, interval[float64]): [(-3.464, -1.189] < (-1.189, 0.0412] < (0.0412, 1.3] < (1.3, 3.034]]"
      ]
     },
     "execution_count": 72,
     "metadata": {},
     "output_type": "execute_result"
    }
   ],
   "source": [
    "pd.qcut(data, [0, 0.1, 0.5, 0.9, 1.])"
   ]
  },
  {
   "cell_type": "markdown",
   "metadata": {},
   "source": [
    "## Problems from last week\n",
    "### Joel R.\n",
    "\n",
    "This is an API that might be cool to to use also in the next chapter when we use regular expressions. It can search for lyrics, using the artist/band and song \n",
    "\n",
    "The url is \n",
    "<a href=\"https://api.lyrics.ovh/v1/\"> https://api.lyrics.ovh/v1/ </a>\n",
    "\n",
    "First, we define the parameters of the search (band AND song)\n",
    "\n",
    "```python\n",
    "artist = \"queen\" #try to use full names\n",
    "song = \"bohemian rhapsody\" #with spaces\n",
    "# This is how the url would look:\n",
    "url = 'https://api.lyrics.ovh/v1/' #an API that searches lyrics\n",
    "url= url + artist.lower() + \"/\" + song.lower()\n",
    "```\n",
    "\n",
    "1. How would you interact with the API in python to get the lyrics?"
   ]
  },
  {
   "cell_type": "code",
   "execution_count": 73,
   "metadata": {},
   "outputs": [
    {
     "data": {
      "text/plain": [
       "'https://api.lyrics.ovh/v1/katastro/scoreboard'"
      ]
     },
     "execution_count": 73,
     "metadata": {},
     "output_type": "execute_result"
    }
   ],
   "source": [
    "import requests\n",
    "artist = \"Katastro\"\n",
    "song = \"Scoreboard\"\n",
    "url = 'https://api.lyrics.ovh/v1/'\n",
    "url = url + artist.lower() + '/' + song.lower()\n",
    "url"
   ]
  },
  {
   "cell_type": "code",
   "execution_count": 74,
   "metadata": {},
   "outputs": [],
   "source": [
    "query = requests.get(url)"
   ]
  },
  {
   "cell_type": "markdown",
   "metadata": {},
   "source": [
    "2. What is returned?"
   ]
  },
  {
   "cell_type": "code",
   "execution_count": 75,
   "metadata": {},
   "outputs": [
    {
     "data": {
      "text/plain": [
       "<Response [404]>"
      ]
     },
     "execution_count": 75,
     "metadata": {},
     "output_type": "execute_result"
    }
   ],
   "source": [
    "query # Not on the site"
   ]
  },
  {
   "cell_type": "code",
   "execution_count": 76,
   "metadata": {},
   "outputs": [
    {
     "data": {
      "text/plain": [
       "'https://api.lyrics.ovh/v1/sublime/what i got'"
      ]
     },
     "execution_count": 76,
     "metadata": {},
     "output_type": "execute_result"
    }
   ],
   "source": [
    "artist = \"Sublime\"\n",
    "song = \"What I Got\"\n",
    "url = 'https://api.lyrics.ovh/v1/'\n",
    "url = url + artist.lower() + '/' + song.lower()\n",
    "url"
   ]
  },
  {
   "cell_type": "code",
   "execution_count": 77,
   "metadata": {},
   "outputs": [],
   "source": [
    "query = requests.get(url)"
   ]
  },
  {
   "cell_type": "code",
   "execution_count": 78,
   "metadata": {},
   "outputs": [
    {
     "data": {
      "text/plain": [
       "<Response [200]>"
      ]
     },
     "execution_count": 78,
     "metadata": {},
     "output_type": "execute_result"
    }
   ],
   "source": [
    "query"
   ]
  },
  {
   "cell_type": "markdown",
   "metadata": {},
   "source": [
    "3. what type of object is returned by the request?"
   ]
  },
  {
   "cell_type": "code",
   "execution_count": 79,
   "metadata": {},
   "outputs": [
    {
     "data": {
      "text/plain": [
       "{'lyrics': \"Early in the morning, risin' to the street\\nLight me up that cigarette, and I'll strap shoes on my feet (Dee dee dee dee dee)\\nGot to find the reason, reason things went wrong\\nGot to find a reason why my money's all gone\\n\\nI got a dalmatian, and I can still get high\\nI can play the guitar like a motherfucking riot, uh!\\n(Loo da-doo da-doo doo)\\n(A-loo da-doo doo doo doo doo da-doo doo)\\n\\nWell, life is (too short), so love the one you got\\n'Cause you might get run over or you might get shot\\nNever start no static I just get it off my chest\\nNever had to battle with no bulletproof vest\\n\\nTake a small example, take a ti-di-ti-tip from me\\nTake all of your money give it all to charity\\nLove is what I got , it's within my reach\\nAnd the Sublime style's still straight from Long Beach\\n\\nIt all comes back to you, you're bound to get what you deserve\\nTry and test that, you're bound to get served\\nLove's what I got, don't start a riot\\nYou'll feel it when the dance gets hot\\n\\n'Cause lovin' is what I got, I said remember that\\nLovin' is what I got, and remember that\\nLovin' is what I got, I said remember that\\nLovin' is what I got, I got, I got, I got\\n\\nWhy I don't cry when my dog runs away\\nI don't get angry at the bills I have to pay\\nI don't get angry when my mom smokes pot\\nHits the bottle and goes right to the rock\\n\\nFuckin' and fightin', it's all the same\\nLivin' with Louie Dog's the only way to stay sane\\nLet the lovin', let the lovin' come back to me\\n\\n'Cause lovin' is what I got, I said remember that\\nLovin' is what I got, and remember that\\nLovin' is what I got, I said remember that\\nLovin' is what I got, I got, I got, I got\\n\\nYeah, okay, cool, so we're not that far off. So that's...see, but...yeah, we're done there\"}"
      ]
     },
     "execution_count": 79,
     "metadata": {},
     "output_type": "execute_result"
    }
   ],
   "source": [
    "response = query.json()\n",
    "response"
   ]
  },
  {
   "cell_type": "markdown",
   "metadata": {},
   "source": [
    "4. How can you unpack the lyrics into a string object?"
   ]
  },
  {
   "cell_type": "code",
   "execution_count": 80,
   "metadata": {},
   "outputs": [],
   "source": [
    "lyrics = response['lyrics']"
   ]
  },
  {
   "cell_type": "code",
   "execution_count": 81,
   "metadata": {},
   "outputs": [
    {
     "name": "stdout",
     "output_type": "stream",
     "text": [
      "Early in the morning, risin' to the street\n",
      "Light me up that cigarette, and I'll strap shoes on my feet (Dee dee dee dee dee)\n",
      "Got to find the reason, reason things went wrong\n",
      "Got to find a reason why my money's all gone\n",
      "\n",
      "I got a dalmatian, and I can still get high\n",
      "I can play the guitar like a motherfucking riot, uh!\n",
      "(Loo da-doo da-doo doo)\n",
      "(A-loo da-doo doo doo doo doo da-doo doo)\n",
      "\n",
      "Well, life is (too short), so love the one you got\n",
      "'Cause you might get run over or you might get shot\n",
      "Never start no static I just get it off my chest\n",
      "Never had to battle with no bulletproof vest\n",
      "\n",
      "Take a small example, take a ti-di-ti-tip from me\n",
      "Take all of your money give it all to charity\n",
      "Love is what I got , it's within my reach\n",
      "And the Sublime style's still straight from Long Beach\n",
      "\n",
      "It all comes back to you, you're bound to get what you deserve\n",
      "Try and test that, you're bound to get served\n",
      "Love's what I got, don't start a riot\n",
      "You'll feel it when the dance gets hot\n",
      "\n",
      "'Cause lovin' is what I got, I said remember that\n",
      "Lovin' is what I got, and remember that\n",
      "Lovin' is what I got, I said remember that\n",
      "Lovin' is what I got, I got, I got, I got\n",
      "\n",
      "Why I don't cry when my dog runs away\n",
      "I don't get angry at the bills I have to pay\n",
      "I don't get angry when my mom smokes pot\n",
      "Hits the bottle and goes right to the rock\n",
      "\n",
      "Fuckin' and fightin', it's all the same\n",
      "Livin' with Louie Dog's the only way to stay sane\n",
      "Let the lovin', let the lovin' come back to me\n",
      "\n",
      "'Cause lovin' is what I got, I said remember that\n",
      "Lovin' is what I got, and remember that\n",
      "Lovin' is what I got, I said remember that\n",
      "Lovin' is what I got, I got, I got, I got\n",
      "\n",
      "Yeah, okay, cool, so we're not that far off. So that's...see, but...yeah, we're done there\n"
     ]
    }
   ],
   "source": [
    "print(lyrics)"
   ]
  },
  {
   "cell_type": "markdown",
   "metadata": {},
   "source": [
    "### Min-Yao\n",
    "\n",
    "This question is related to 6.2 Binary Data Formats: Reading Microsoft Excel Files. We are going to look at the list of ballroom dance athletes on World Dancesport Federation. \n",
    "Here is the [link](https://www.worlddancesport.org/Athlete/List)\n",
    "\n",
    "1. Please download all data from the website and make a dataFrame."
   ]
  },
  {
   "cell_type": "code",
   "execution_count": 82,
   "metadata": {},
   "outputs": [
    {
     "name": "stdout",
     "output_type": "stream",
     "text": [
      "(25, 7)\n"
     ]
    },
    {
     "data": {
      "text/html": [
       "<div>\n",
       "<style scoped>\n",
       "    .dataframe tbody tr th:only-of-type {\n",
       "        vertical-align: middle;\n",
       "    }\n",
       "\n",
       "    .dataframe tbody tr th {\n",
       "        vertical-align: top;\n",
       "    }\n",
       "\n",
       "    .dataframe thead th {\n",
       "        text-align: right;\n",
       "    }\n",
       "</style>\n",
       "<table border=\"1\" class=\"dataframe\">\n",
       "  <thead>\n",
       "    <tr style=\"text-align: right;\">\n",
       "      <th></th>\n",
       "      <th>Name</th>\n",
       "      <th>Surname</th>\n",
       "      <th>Country</th>\n",
       "      <th>Category</th>\n",
       "      <th>Status</th>\n",
       "      <th>Min</th>\n",
       "      <th>Unnamed: 6</th>\n",
       "    </tr>\n",
       "  </thead>\n",
       "  <tbody>\n",
       "    <tr>\n",
       "      <th>0</th>\n",
       "      <td>Aliaksandr</td>\n",
       "      <td>Samosiuk</td>\n",
       "      <td>BLR</td>\n",
       "      <td>Adult</td>\n",
       "      <td>Active</td>\n",
       "      <td>10055023</td>\n",
       "      <td>NaN</td>\n",
       "    </tr>\n",
       "    <tr>\n",
       "      <th>1</th>\n",
       "      <td>Roberto</td>\n",
       "      <td>Destri</td>\n",
       "      <td>ITA</td>\n",
       "      <td>Senior IIIb</td>\n",
       "      <td>Active</td>\n",
       "      <td>10003739</td>\n",
       "      <td>NaN</td>\n",
       "    </tr>\n",
       "    <tr>\n",
       "      <th>2</th>\n",
       "      <td>Bernhard</td>\n",
       "      <td>Fuss</td>\n",
       "      <td>GER</td>\n",
       "      <td>Senior IIIa</td>\n",
       "      <td>Active</td>\n",
       "      <td>10003849</td>\n",
       "      <td>NaN</td>\n",
       "    </tr>\n",
       "    <tr>\n",
       "      <th>3</th>\n",
       "      <td>Sonja</td>\n",
       "      <td>Fuss</td>\n",
       "      <td>GER</td>\n",
       "      <td>Senior IIIa</td>\n",
       "      <td>Active</td>\n",
       "      <td>10003850</td>\n",
       "      <td>NaN</td>\n",
       "    </tr>\n",
       "    <tr>\n",
       "      <th>4</th>\n",
       "      <td>Dieter</td>\n",
       "      <td>Keppeler</td>\n",
       "      <td>GER</td>\n",
       "      <td>Senior IVa</td>\n",
       "      <td>Active</td>\n",
       "      <td>10003823</td>\n",
       "      <td>NaN</td>\n",
       "    </tr>\n",
       "    <tr>\n",
       "      <th>5</th>\n",
       "      <td>Manuela</td>\n",
       "      <td>Schraut-Keppeler</td>\n",
       "      <td>GER</td>\n",
       "      <td>Senior IIIb</td>\n",
       "      <td>Active</td>\n",
       "      <td>10003824</td>\n",
       "      <td>NaN</td>\n",
       "    </tr>\n",
       "    <tr>\n",
       "      <th>6</th>\n",
       "      <td>Guido</td>\n",
       "      <td>Schubert</td>\n",
       "      <td>GER</td>\n",
       "      <td>Senior IIIa</td>\n",
       "      <td>Active</td>\n",
       "      <td>10006813</td>\n",
       "      <td>NaN</td>\n",
       "    </tr>\n",
       "    <tr>\n",
       "      <th>7</th>\n",
       "      <td>Birte</td>\n",
       "      <td>Schubert</td>\n",
       "      <td>GER</td>\n",
       "      <td>Senior IIIa</td>\n",
       "      <td>Active</td>\n",
       "      <td>10006814</td>\n",
       "      <td>NaN</td>\n",
       "    </tr>\n",
       "    <tr>\n",
       "      <th>8</th>\n",
       "      <td>Vitam</td>\n",
       "      <td>Kodelja</td>\n",
       "      <td>SLO</td>\n",
       "      <td>Senior IVb</td>\n",
       "      <td>Active</td>\n",
       "      <td>10003561</td>\n",
       "      <td>NaN</td>\n",
       "    </tr>\n",
       "    <tr>\n",
       "      <th>9</th>\n",
       "      <td>Barbara</td>\n",
       "      <td>Kodelja</td>\n",
       "      <td>SLO</td>\n",
       "      <td>Senior IIIa</td>\n",
       "      <td>Active</td>\n",
       "      <td>10003562</td>\n",
       "      <td>NaN</td>\n",
       "    </tr>\n",
       "    <tr>\n",
       "      <th>10</th>\n",
       "      <td>Robert</td>\n",
       "      <td>Dub</td>\n",
       "      <td>AUT</td>\n",
       "      <td>Senior IIIb</td>\n",
       "      <td>Active</td>\n",
       "      <td>10003559</td>\n",
       "      <td>NaN</td>\n",
       "    </tr>\n",
       "    <tr>\n",
       "      <th>11</th>\n",
       "      <td>Michael</td>\n",
       "      <td>Feld</td>\n",
       "      <td>GER</td>\n",
       "      <td>Senior IVa</td>\n",
       "      <td>Active</td>\n",
       "      <td>10003779</td>\n",
       "      <td>NaN</td>\n",
       "    </tr>\n",
       "    <tr>\n",
       "      <th>12</th>\n",
       "      <td>Heide</td>\n",
       "      <td>Glaser</td>\n",
       "      <td>GER</td>\n",
       "      <td>Senior IIIb</td>\n",
       "      <td>Active</td>\n",
       "      <td>10003780</td>\n",
       "      <td>NaN</td>\n",
       "    </tr>\n",
       "    <tr>\n",
       "      <th>13</th>\n",
       "      <td>Alexander</td>\n",
       "      <td>Valko</td>\n",
       "      <td>GER</td>\n",
       "      <td>Senior IIIb</td>\n",
       "      <td>Active</td>\n",
       "      <td>10003575</td>\n",
       "      <td>NaN</td>\n",
       "    </tr>\n",
       "    <tr>\n",
       "      <th>14</th>\n",
       "      <td>Barbara</td>\n",
       "      <td>Valko</td>\n",
       "      <td>GER</td>\n",
       "      <td>Senior IVa</td>\n",
       "      <td>Active</td>\n",
       "      <td>10003576</td>\n",
       "      <td>NaN</td>\n",
       "    </tr>\n",
       "    <tr>\n",
       "      <th>15</th>\n",
       "      <td>Ulrich</td>\n",
       "      <td>Lindecke</td>\n",
       "      <td>GER</td>\n",
       "      <td>Senior IIIa</td>\n",
       "      <td>Active</td>\n",
       "      <td>10003615</td>\n",
       "      <td>NaN</td>\n",
       "    </tr>\n",
       "    <tr>\n",
       "      <th>16</th>\n",
       "      <td>Manuela</td>\n",
       "      <td>Schulze</td>\n",
       "      <td>GER</td>\n",
       "      <td>Senior IIIb</td>\n",
       "      <td>Active</td>\n",
       "      <td>10003616</td>\n",
       "      <td>NaN</td>\n",
       "    </tr>\n",
       "    <tr>\n",
       "      <th>17</th>\n",
       "      <td>Anne</td>\n",
       "      <td>Hinz</td>\n",
       "      <td>GER</td>\n",
       "      <td>Senior IVa</td>\n",
       "      <td>Active</td>\n",
       "      <td>10003834</td>\n",
       "      <td>NaN</td>\n",
       "    </tr>\n",
       "    <tr>\n",
       "      <th>18</th>\n",
       "      <td>Oliver</td>\n",
       "      <td>Luthardt</td>\n",
       "      <td>GER</td>\n",
       "      <td>Senior IIIb</td>\n",
       "      <td>Active</td>\n",
       "      <td>10006825</td>\n",
       "      <td>NaN</td>\n",
       "    </tr>\n",
       "    <tr>\n",
       "      <th>19</th>\n",
       "      <td>Brigitte</td>\n",
       "      <td>Kessel-Doehle</td>\n",
       "      <td>GER</td>\n",
       "      <td>Senior IVb</td>\n",
       "      <td>Active</td>\n",
       "      <td>10006826</td>\n",
       "      <td>NaN</td>\n",
       "    </tr>\n",
       "    <tr>\n",
       "      <th>20</th>\n",
       "      <td>Joerg</td>\n",
       "      <td>Holzhaeuser</td>\n",
       "      <td>GER</td>\n",
       "      <td>Senior IIIb</td>\n",
       "      <td>Active</td>\n",
       "      <td>10006829</td>\n",
       "      <td>NaN</td>\n",
       "    </tr>\n",
       "    <tr>\n",
       "      <th>21</th>\n",
       "      <td>Petra</td>\n",
       "      <td>Holzhaeuser</td>\n",
       "      <td>GER</td>\n",
       "      <td>Senior IIIa</td>\n",
       "      <td>Active</td>\n",
       "      <td>10006830</td>\n",
       "      <td>NaN</td>\n",
       "    </tr>\n",
       "    <tr>\n",
       "      <th>22</th>\n",
       "      <td>Damian</td>\n",
       "      <td>Kukowka</td>\n",
       "      <td>GER</td>\n",
       "      <td>Senior IIIa</td>\n",
       "      <td>Active</td>\n",
       "      <td>10006837</td>\n",
       "      <td>NaN</td>\n",
       "    </tr>\n",
       "    <tr>\n",
       "      <th>23</th>\n",
       "      <td>Bettina</td>\n",
       "      <td>Weimann</td>\n",
       "      <td>GER</td>\n",
       "      <td>Senior IIIb</td>\n",
       "      <td>Active</td>\n",
       "      <td>10006838</td>\n",
       "      <td>NaN</td>\n",
       "    </tr>\n",
       "    <tr>\n",
       "      <th>24</th>\n",
       "      <td>Markus</td>\n",
       "      <td>Maeurer</td>\n",
       "      <td>GER</td>\n",
       "      <td>Senior IIIb</td>\n",
       "      <td>Active</td>\n",
       "      <td>10006835</td>\n",
       "      <td>NaN</td>\n",
       "    </tr>\n",
       "  </tbody>\n",
       "</table>\n",
       "</div>"
      ],
      "text/plain": [
       "          Name           Surname Country     Category  Status       Min  \\\n",
       "0   Aliaksandr          Samosiuk     BLR        Adult  Active  10055023   \n",
       "1      Roberto            Destri     ITA  Senior IIIb  Active  10003739   \n",
       "2     Bernhard              Fuss     GER  Senior IIIa  Active  10003849   \n",
       "3        Sonja              Fuss     GER  Senior IIIa  Active  10003850   \n",
       "4       Dieter          Keppeler     GER   Senior IVa  Active  10003823   \n",
       "5      Manuela  Schraut-Keppeler     GER  Senior IIIb  Active  10003824   \n",
       "6        Guido          Schubert     GER  Senior IIIa  Active  10006813   \n",
       "7        Birte          Schubert     GER  Senior IIIa  Active  10006814   \n",
       "8        Vitam           Kodelja     SLO   Senior IVb  Active  10003561   \n",
       "9      Barbara           Kodelja     SLO  Senior IIIa  Active  10003562   \n",
       "10      Robert               Dub     AUT  Senior IIIb  Active  10003559   \n",
       "11     Michael              Feld     GER   Senior IVa  Active  10003779   \n",
       "12       Heide            Glaser     GER  Senior IIIb  Active  10003780   \n",
       "13   Alexander             Valko     GER  Senior IIIb  Active  10003575   \n",
       "14     Barbara             Valko     GER   Senior IVa  Active  10003576   \n",
       "15      Ulrich          Lindecke     GER  Senior IIIa  Active  10003615   \n",
       "16     Manuela           Schulze     GER  Senior IIIb  Active  10003616   \n",
       "17        Anne              Hinz     GER   Senior IVa  Active  10003834   \n",
       "18      Oliver          Luthardt     GER  Senior IIIb  Active  10006825   \n",
       "19    Brigitte     Kessel-Doehle     GER   Senior IVb  Active  10006826   \n",
       "20       Joerg       Holzhaeuser     GER  Senior IIIb  Active  10006829   \n",
       "21       Petra       Holzhaeuser     GER  Senior IIIa  Active  10006830   \n",
       "22      Damian           Kukowka     GER  Senior IIIa  Active  10006837   \n",
       "23     Bettina           Weimann     GER  Senior IIIb  Active  10006838   \n",
       "24      Markus           Maeurer     GER  Senior IIIb  Active  10006835   \n",
       "\n",
       "    Unnamed: 6  \n",
       "0          NaN  \n",
       "1          NaN  \n",
       "2          NaN  \n",
       "3          NaN  \n",
       "4          NaN  \n",
       "5          NaN  \n",
       "6          NaN  \n",
       "7          NaN  \n",
       "8          NaN  \n",
       "9          NaN  \n",
       "10         NaN  \n",
       "11         NaN  \n",
       "12         NaN  \n",
       "13         NaN  \n",
       "14         NaN  \n",
       "15         NaN  \n",
       "16         NaN  \n",
       "17         NaN  \n",
       "18         NaN  \n",
       "19         NaN  \n",
       "20         NaN  \n",
       "21         NaN  \n",
       "22         NaN  \n",
       "23         NaN  \n",
       "24         NaN  "
      ]
     },
     "execution_count": 82,
     "metadata": {},
     "output_type": "execute_result"
    }
   ],
   "source": [
    "link = 'https://www.worlddancesport.org/Athlete/List'\n",
    "tables = pd.read_html(link)\n",
    "df = tables[0]\n",
    "print(df.shape)\n",
    "df"
   ]
  },
  {
   "cell_type": "markdown",
   "metadata": {},
   "source": [
    "2. Please calculate the number of athletes from each country. Which countries are the top 3 countries have the highest number of athletes in dancesport?"
   ]
  },
  {
   "cell_type": "code",
   "execution_count": 83,
   "metadata": {},
   "outputs": [
    {
     "data": {
      "text/plain": [
       "GER    20\n",
       "SLO     2\n",
       "ITA     1\n",
       "BLR     1\n",
       "AUT     1\n",
       "Name: Country, dtype: int64"
      ]
     },
     "execution_count": 83,
     "metadata": {},
     "output_type": "execute_result"
    }
   ],
   "source": [
    "df['Country'].value_counts()"
   ]
  },
  {
   "cell_type": "markdown",
   "metadata": {},
   "source": [
    "3. Let's focus on the top1 country that you find from question 2. Make a new excel file with only the athletes from this country and please calculate the number of athletes from each age group in this country."
   ]
  },
  {
   "cell_type": "code",
   "execution_count": 84,
   "metadata": {},
   "outputs": [
    {
     "data": {
      "text/html": [
       "<div>\n",
       "<style scoped>\n",
       "    .dataframe tbody tr th:only-of-type {\n",
       "        vertical-align: middle;\n",
       "    }\n",
       "\n",
       "    .dataframe tbody tr th {\n",
       "        vertical-align: top;\n",
       "    }\n",
       "\n",
       "    .dataframe thead th {\n",
       "        text-align: right;\n",
       "    }\n",
       "</style>\n",
       "<table border=\"1\" class=\"dataframe\">\n",
       "  <thead>\n",
       "    <tr style=\"text-align: right;\">\n",
       "      <th></th>\n",
       "      <th>Name</th>\n",
       "      <th>Surname</th>\n",
       "      <th>Country</th>\n",
       "      <th>Category</th>\n",
       "      <th>Status</th>\n",
       "      <th>Min</th>\n",
       "      <th>Unnamed: 6</th>\n",
       "    </tr>\n",
       "  </thead>\n",
       "  <tbody>\n",
       "    <tr>\n",
       "      <th>2</th>\n",
       "      <td>Bernhard</td>\n",
       "      <td>Fuss</td>\n",
       "      <td>GER</td>\n",
       "      <td>Senior IIIa</td>\n",
       "      <td>Active</td>\n",
       "      <td>10003849</td>\n",
       "      <td>NaN</td>\n",
       "    </tr>\n",
       "    <tr>\n",
       "      <th>3</th>\n",
       "      <td>Sonja</td>\n",
       "      <td>Fuss</td>\n",
       "      <td>GER</td>\n",
       "      <td>Senior IIIa</td>\n",
       "      <td>Active</td>\n",
       "      <td>10003850</td>\n",
       "      <td>NaN</td>\n",
       "    </tr>\n",
       "    <tr>\n",
       "      <th>4</th>\n",
       "      <td>Dieter</td>\n",
       "      <td>Keppeler</td>\n",
       "      <td>GER</td>\n",
       "      <td>Senior IVa</td>\n",
       "      <td>Active</td>\n",
       "      <td>10003823</td>\n",
       "      <td>NaN</td>\n",
       "    </tr>\n",
       "    <tr>\n",
       "      <th>5</th>\n",
       "      <td>Manuela</td>\n",
       "      <td>Schraut-Keppeler</td>\n",
       "      <td>GER</td>\n",
       "      <td>Senior IIIb</td>\n",
       "      <td>Active</td>\n",
       "      <td>10003824</td>\n",
       "      <td>NaN</td>\n",
       "    </tr>\n",
       "    <tr>\n",
       "      <th>6</th>\n",
       "      <td>Guido</td>\n",
       "      <td>Schubert</td>\n",
       "      <td>GER</td>\n",
       "      <td>Senior IIIa</td>\n",
       "      <td>Active</td>\n",
       "      <td>10006813</td>\n",
       "      <td>NaN</td>\n",
       "    </tr>\n",
       "    <tr>\n",
       "      <th>7</th>\n",
       "      <td>Birte</td>\n",
       "      <td>Schubert</td>\n",
       "      <td>GER</td>\n",
       "      <td>Senior IIIa</td>\n",
       "      <td>Active</td>\n",
       "      <td>10006814</td>\n",
       "      <td>NaN</td>\n",
       "    </tr>\n",
       "    <tr>\n",
       "      <th>11</th>\n",
       "      <td>Michael</td>\n",
       "      <td>Feld</td>\n",
       "      <td>GER</td>\n",
       "      <td>Senior IVa</td>\n",
       "      <td>Active</td>\n",
       "      <td>10003779</td>\n",
       "      <td>NaN</td>\n",
       "    </tr>\n",
       "    <tr>\n",
       "      <th>12</th>\n",
       "      <td>Heide</td>\n",
       "      <td>Glaser</td>\n",
       "      <td>GER</td>\n",
       "      <td>Senior IIIb</td>\n",
       "      <td>Active</td>\n",
       "      <td>10003780</td>\n",
       "      <td>NaN</td>\n",
       "    </tr>\n",
       "    <tr>\n",
       "      <th>13</th>\n",
       "      <td>Alexander</td>\n",
       "      <td>Valko</td>\n",
       "      <td>GER</td>\n",
       "      <td>Senior IIIb</td>\n",
       "      <td>Active</td>\n",
       "      <td>10003575</td>\n",
       "      <td>NaN</td>\n",
       "    </tr>\n",
       "    <tr>\n",
       "      <th>14</th>\n",
       "      <td>Barbara</td>\n",
       "      <td>Valko</td>\n",
       "      <td>GER</td>\n",
       "      <td>Senior IVa</td>\n",
       "      <td>Active</td>\n",
       "      <td>10003576</td>\n",
       "      <td>NaN</td>\n",
       "    </tr>\n",
       "    <tr>\n",
       "      <th>15</th>\n",
       "      <td>Ulrich</td>\n",
       "      <td>Lindecke</td>\n",
       "      <td>GER</td>\n",
       "      <td>Senior IIIa</td>\n",
       "      <td>Active</td>\n",
       "      <td>10003615</td>\n",
       "      <td>NaN</td>\n",
       "    </tr>\n",
       "    <tr>\n",
       "      <th>16</th>\n",
       "      <td>Manuela</td>\n",
       "      <td>Schulze</td>\n",
       "      <td>GER</td>\n",
       "      <td>Senior IIIb</td>\n",
       "      <td>Active</td>\n",
       "      <td>10003616</td>\n",
       "      <td>NaN</td>\n",
       "    </tr>\n",
       "    <tr>\n",
       "      <th>17</th>\n",
       "      <td>Anne</td>\n",
       "      <td>Hinz</td>\n",
       "      <td>GER</td>\n",
       "      <td>Senior IVa</td>\n",
       "      <td>Active</td>\n",
       "      <td>10003834</td>\n",
       "      <td>NaN</td>\n",
       "    </tr>\n",
       "    <tr>\n",
       "      <th>18</th>\n",
       "      <td>Oliver</td>\n",
       "      <td>Luthardt</td>\n",
       "      <td>GER</td>\n",
       "      <td>Senior IIIb</td>\n",
       "      <td>Active</td>\n",
       "      <td>10006825</td>\n",
       "      <td>NaN</td>\n",
       "    </tr>\n",
       "    <tr>\n",
       "      <th>19</th>\n",
       "      <td>Brigitte</td>\n",
       "      <td>Kessel-Doehle</td>\n",
       "      <td>GER</td>\n",
       "      <td>Senior IVb</td>\n",
       "      <td>Active</td>\n",
       "      <td>10006826</td>\n",
       "      <td>NaN</td>\n",
       "    </tr>\n",
       "    <tr>\n",
       "      <th>20</th>\n",
       "      <td>Joerg</td>\n",
       "      <td>Holzhaeuser</td>\n",
       "      <td>GER</td>\n",
       "      <td>Senior IIIb</td>\n",
       "      <td>Active</td>\n",
       "      <td>10006829</td>\n",
       "      <td>NaN</td>\n",
       "    </tr>\n",
       "    <tr>\n",
       "      <th>21</th>\n",
       "      <td>Petra</td>\n",
       "      <td>Holzhaeuser</td>\n",
       "      <td>GER</td>\n",
       "      <td>Senior IIIa</td>\n",
       "      <td>Active</td>\n",
       "      <td>10006830</td>\n",
       "      <td>NaN</td>\n",
       "    </tr>\n",
       "    <tr>\n",
       "      <th>22</th>\n",
       "      <td>Damian</td>\n",
       "      <td>Kukowka</td>\n",
       "      <td>GER</td>\n",
       "      <td>Senior IIIa</td>\n",
       "      <td>Active</td>\n",
       "      <td>10006837</td>\n",
       "      <td>NaN</td>\n",
       "    </tr>\n",
       "    <tr>\n",
       "      <th>23</th>\n",
       "      <td>Bettina</td>\n",
       "      <td>Weimann</td>\n",
       "      <td>GER</td>\n",
       "      <td>Senior IIIb</td>\n",
       "      <td>Active</td>\n",
       "      <td>10006838</td>\n",
       "      <td>NaN</td>\n",
       "    </tr>\n",
       "    <tr>\n",
       "      <th>24</th>\n",
       "      <td>Markus</td>\n",
       "      <td>Maeurer</td>\n",
       "      <td>GER</td>\n",
       "      <td>Senior IIIb</td>\n",
       "      <td>Active</td>\n",
       "      <td>10006835</td>\n",
       "      <td>NaN</td>\n",
       "    </tr>\n",
       "  </tbody>\n",
       "</table>\n",
       "</div>"
      ],
      "text/plain": [
       "         Name           Surname Country     Category  Status       Min  \\\n",
       "2    Bernhard              Fuss     GER  Senior IIIa  Active  10003849   \n",
       "3       Sonja              Fuss     GER  Senior IIIa  Active  10003850   \n",
       "4      Dieter          Keppeler     GER   Senior IVa  Active  10003823   \n",
       "5     Manuela  Schraut-Keppeler     GER  Senior IIIb  Active  10003824   \n",
       "6       Guido          Schubert     GER  Senior IIIa  Active  10006813   \n",
       "7       Birte          Schubert     GER  Senior IIIa  Active  10006814   \n",
       "11    Michael              Feld     GER   Senior IVa  Active  10003779   \n",
       "12      Heide            Glaser     GER  Senior IIIb  Active  10003780   \n",
       "13  Alexander             Valko     GER  Senior IIIb  Active  10003575   \n",
       "14    Barbara             Valko     GER   Senior IVa  Active  10003576   \n",
       "15     Ulrich          Lindecke     GER  Senior IIIa  Active  10003615   \n",
       "16    Manuela           Schulze     GER  Senior IIIb  Active  10003616   \n",
       "17       Anne              Hinz     GER   Senior IVa  Active  10003834   \n",
       "18     Oliver          Luthardt     GER  Senior IIIb  Active  10006825   \n",
       "19   Brigitte     Kessel-Doehle     GER   Senior IVb  Active  10006826   \n",
       "20      Joerg       Holzhaeuser     GER  Senior IIIb  Active  10006829   \n",
       "21      Petra       Holzhaeuser     GER  Senior IIIa  Active  10006830   \n",
       "22     Damian           Kukowka     GER  Senior IIIa  Active  10006837   \n",
       "23    Bettina           Weimann     GER  Senior IIIb  Active  10006838   \n",
       "24     Markus           Maeurer     GER  Senior IIIb  Active  10006835   \n",
       "\n",
       "    Unnamed: 6  \n",
       "2          NaN  \n",
       "3          NaN  \n",
       "4          NaN  \n",
       "5          NaN  \n",
       "6          NaN  \n",
       "7          NaN  \n",
       "11         NaN  \n",
       "12         NaN  \n",
       "13         NaN  \n",
       "14         NaN  \n",
       "15         NaN  \n",
       "16         NaN  \n",
       "17         NaN  \n",
       "18         NaN  \n",
       "19         NaN  \n",
       "20         NaN  \n",
       "21         NaN  \n",
       "22         NaN  \n",
       "23         NaN  \n",
       "24         NaN  "
      ]
     },
     "execution_count": 84,
     "metadata": {},
     "output_type": "execute_result"
    }
   ],
   "source": [
    "new_df = df[df['Country'] == 'GER']\n",
    "new_df"
   ]
  },
  {
   "cell_type": "code",
   "execution_count": 85,
   "metadata": {},
   "outputs": [],
   "source": [
    "new_df.to_excel('examples/German_Athletes.xlsx')"
   ]
  },
  {
   "cell_type": "code",
   "execution_count": 86,
   "metadata": {},
   "outputs": [
    {
     "data": {
      "text/plain": [
       "Senior IIIb    8\n",
       "Senior IIIa    7\n",
       "Senior IVa     4\n",
       "Senior IVb     1\n",
       "Name: Category, dtype: int64"
      ]
     },
     "execution_count": 86,
     "metadata": {},
     "output_type": "execute_result"
    }
   ],
   "source": [
    "new_df['Category'].value_counts()"
   ]
  },
  {
   "cell_type": "markdown",
   "metadata": {},
   "source": [
    "### Kae\n",
    "\n",
    "I want to bake a cake for my friend's birthday. \n",
    "I found [this](http://www.recipepuppy.com/api/) API with lots of recipes, and I want to find a recipe for a **cake** with **nutella** in it. However, my friend is allergic to eggs, so I can't use any recipes that include eggs.\n",
    "\n",
    "Please find recipes (and their URLs) of cakes that won't make my friend sick!"
   ]
  },
  {
   "cell_type": "code",
   "execution_count": 87,
   "metadata": {},
   "outputs": [
    {
     "data": {
      "text/plain": [
       "<Response [200]>"
      ]
     },
     "execution_count": 87,
     "metadata": {},
     "output_type": "execute_result"
    }
   ],
   "source": [
    "## Details on api found at http://www.recipepuppy.com/about/api/\n",
    "url = 'http://www.recipepuppy.com/api/'\n",
    "parameters = {'i' : 'nutella', 'q' : 'cake'}\n",
    "response = requests.get(url, params = parameters)\n",
    "response"
   ]
  },
  {
   "cell_type": "code",
   "execution_count": 88,
   "metadata": {},
   "outputs": [
    {
     "data": {
      "text/plain": [
       "{'title': 'Recipe Puppy',\n",
       " 'version': 0.1,\n",
       " 'href': 'http://www.recipepuppy.com/',\n",
       " 'results': [{'title': 'Ferrero Rocher Chocolate Cheeese Cake Minis Recipe',\n",
       "   'href': 'http://www.grouprecipes.com/80642/ferrero-rocher-chocolate-cheeese-cake-minis.html',\n",
       "   'ingredients': 'nutella',\n",
       "   'thumbnail': 'http://img.recipepuppy.com/347493.jpg'},\n",
       "  {'title': 'Nutella Bundt Cake Recipe',\n",
       "   'href': 'http://www.grouprecipes.com/77607/nutella-bundt-cake.html',\n",
       "   'ingredients': 'buttermilk, powdered sugar, eggs, hazelnut syrup, nutella',\n",
       "   'thumbnail': ''},\n",
       "  {'title': 'Ultimate Cravings Mini  Cake Recipe',\n",
       "   'href': 'http://www.grouprecipes.com/21753/ultimate-cravings-mini-cake.html',\n",
       "   'ingredients': 'flour, raspberry jam, peanut butter, nutella, brown sugar, chocolate liqueur, syrup',\n",
       "   'thumbnail': 'http://img.recipepuppy.com/395741.jpg'},\n",
       "  {'title': 'Gianduia Mousse Cake Recipe',\n",
       "   'href': 'http://www.grouprecipes.com/31372/gianduia-mousse-cake.html',\n",
       "   'ingredients': 'whipped cream, eggs, butter, nutella, sugar, heavy cream',\n",
       "   'thumbnail': ''},\n",
       "  {'title': 'Cream Cheese and Nutella Filled Pound Cake',\n",
       "   'href': 'http://www.recipezaar.com/Cream-Cheese-and-Nutella-Filled-Pound-Cake-328318',\n",
       "   'ingredients': 'pound cake, cream cheese, nutella, powdered sugar, toffee baking bits',\n",
       "   'thumbnail': 'http://img.recipepuppy.com/330578.jpg'},\n",
       "  {'title': 'Baked Cake Recipe',\n",
       "   'href': 'http://www.grouprecipes.com/25302/baked-cake.html',\n",
       "   'ingredients': 'eggs, nutella, butter, baking powder, salt, vanilla extract, sugar',\n",
       "   'thumbnail': 'http://img.recipepuppy.com/322889.jpg'},\n",
       "  {'title': 'Chocolate Strawberry Pound Cake',\n",
       "   'href': 'http://recipe.aol.com/recipe/chocolate-strawberry-pound-cake/79402',\n",
       "   'ingredients': 'pound cake, nutella, strawberries',\n",
       "   'thumbnail': ''},\n",
       "  {'title': 'Cinnamon Nutella Cake',\n",
       "   'href': 'http://www.recipezaar.com/Cinnamon-Nutella-Cake-58421',\n",
       "   'ingredients': 'baking powder, butter, caster sugar, eggs, cinnamon, hazelnuts, milk, nutella, flour',\n",
       "   'thumbnail': 'http://img.recipepuppy.com/313856.jpg'},\n",
       "  {'title': 'Sky-high Layered Ice Cream Cake',\n",
       "   'href': 'http://www.foodnetwork.com/recipes/saras-secrets/sky-high-layered-ice-cream-cake-recipe/index.html',\n",
       "   'ingredients': 'heavy cream, nutella, chocolate ice cream, strawberries, hazelnuts',\n",
       "   'thumbnail': ''},\n",
       "  {'title': 'Chocolate-glazed Hazelnut Mousse Cake Recipe',\n",
       "   'href': 'http://www.grouprecipes.com/46881/chocolate-glazed-hazelnut-mousse-cake.html',\n",
       "   'ingredients': 'nutella, cocoa powder, cocoa powder, flour, ganache, hazelnuts, heavy cream, mascarpone cheese, mousse, semisweet chocolate, heavy cream, salt, butter, sugar, sugar, unflavored gelatin, water',\n",
       "   'thumbnail': 'http://img.recipepuppy.com/350284.jpg'}]}"
      ]
     },
     "execution_count": 88,
     "metadata": {},
     "output_type": "execute_result"
    }
   ],
   "source": [
    "data = response.json()\n",
    "data"
   ]
  },
  {
   "cell_type": "code",
   "execution_count": 89,
   "metadata": {},
   "outputs": [
    {
     "data": {
      "text/html": [
       "<div>\n",
       "<style scoped>\n",
       "    .dataframe tbody tr th:only-of-type {\n",
       "        vertical-align: middle;\n",
       "    }\n",
       "\n",
       "    .dataframe tbody tr th {\n",
       "        vertical-align: top;\n",
       "    }\n",
       "\n",
       "    .dataframe thead th {\n",
       "        text-align: right;\n",
       "    }\n",
       "</style>\n",
       "<table border=\"1\" class=\"dataframe\">\n",
       "  <thead>\n",
       "    <tr style=\"text-align: right;\">\n",
       "      <th></th>\n",
       "      <th>title</th>\n",
       "      <th>ingredients</th>\n",
       "      <th>href</th>\n",
       "    </tr>\n",
       "  </thead>\n",
       "  <tbody>\n",
       "    <tr>\n",
       "      <th>0</th>\n",
       "      <td>Ferrero Rocher Chocolate Cheeese Cake Minis Re...</td>\n",
       "      <td>nutella</td>\n",
       "      <td>http://www.grouprecipes.com/80642/ferrero-roch...</td>\n",
       "    </tr>\n",
       "    <tr>\n",
       "      <th>1</th>\n",
       "      <td>Nutella Bundt Cake Recipe</td>\n",
       "      <td>buttermilk, powdered sugar, eggs, hazelnut syr...</td>\n",
       "      <td>http://www.grouprecipes.com/77607/nutella-bund...</td>\n",
       "    </tr>\n",
       "    <tr>\n",
       "      <th>2</th>\n",
       "      <td>Ultimate Cravings Mini  Cake Recipe</td>\n",
       "      <td>flour, raspberry jam, peanut butter, nutella, ...</td>\n",
       "      <td>http://www.grouprecipes.com/21753/ultimate-cra...</td>\n",
       "    </tr>\n",
       "    <tr>\n",
       "      <th>3</th>\n",
       "      <td>Gianduia Mousse Cake Recipe</td>\n",
       "      <td>whipped cream, eggs, butter, nutella, sugar, h...</td>\n",
       "      <td>http://www.grouprecipes.com/31372/gianduia-mou...</td>\n",
       "    </tr>\n",
       "    <tr>\n",
       "      <th>4</th>\n",
       "      <td>Cream Cheese and Nutella Filled Pound Cake</td>\n",
       "      <td>pound cake, cream cheese, nutella, powdered su...</td>\n",
       "      <td>http://www.recipezaar.com/Cream-Cheese-and-Nut...</td>\n",
       "    </tr>\n",
       "    <tr>\n",
       "      <th>5</th>\n",
       "      <td>Baked Cake Recipe</td>\n",
       "      <td>eggs, nutella, butter, baking powder, salt, va...</td>\n",
       "      <td>http://www.grouprecipes.com/25302/baked-cake.html</td>\n",
       "    </tr>\n",
       "    <tr>\n",
       "      <th>6</th>\n",
       "      <td>Chocolate Strawberry Pound Cake</td>\n",
       "      <td>pound cake, nutella, strawberries</td>\n",
       "      <td>http://recipe.aol.com/recipe/chocolate-strawbe...</td>\n",
       "    </tr>\n",
       "    <tr>\n",
       "      <th>7</th>\n",
       "      <td>Cinnamon Nutella Cake</td>\n",
       "      <td>baking powder, butter, caster sugar, eggs, cin...</td>\n",
       "      <td>http://www.recipezaar.com/Cinnamon-Nutella-Cak...</td>\n",
       "    </tr>\n",
       "    <tr>\n",
       "      <th>8</th>\n",
       "      <td>Sky-high Layered Ice Cream Cake</td>\n",
       "      <td>heavy cream, nutella, chocolate ice cream, str...</td>\n",
       "      <td>http://www.foodnetwork.com/recipes/saras-secre...</td>\n",
       "    </tr>\n",
       "    <tr>\n",
       "      <th>9</th>\n",
       "      <td>Chocolate-glazed Hazelnut Mousse Cake Recipe</td>\n",
       "      <td>nutella, cocoa powder, cocoa powder, flour, ga...</td>\n",
       "      <td>http://www.grouprecipes.com/46881/chocolate-gl...</td>\n",
       "    </tr>\n",
       "  </tbody>\n",
       "</table>\n",
       "</div>"
      ],
      "text/plain": [
       "                                               title  \\\n",
       "0  Ferrero Rocher Chocolate Cheeese Cake Minis Re...   \n",
       "1                          Nutella Bundt Cake Recipe   \n",
       "2                Ultimate Cravings Mini  Cake Recipe   \n",
       "3                        Gianduia Mousse Cake Recipe   \n",
       "4         Cream Cheese and Nutella Filled Pound Cake   \n",
       "5                                  Baked Cake Recipe   \n",
       "6                    Chocolate Strawberry Pound Cake   \n",
       "7                              Cinnamon Nutella Cake   \n",
       "8                    Sky-high Layered Ice Cream Cake   \n",
       "9       Chocolate-glazed Hazelnut Mousse Cake Recipe   \n",
       "\n",
       "                                         ingredients  \\\n",
       "0                                            nutella   \n",
       "1  buttermilk, powdered sugar, eggs, hazelnut syr...   \n",
       "2  flour, raspberry jam, peanut butter, nutella, ...   \n",
       "3  whipped cream, eggs, butter, nutella, sugar, h...   \n",
       "4  pound cake, cream cheese, nutella, powdered su...   \n",
       "5  eggs, nutella, butter, baking powder, salt, va...   \n",
       "6                  pound cake, nutella, strawberries   \n",
       "7  baking powder, butter, caster sugar, eggs, cin...   \n",
       "8  heavy cream, nutella, chocolate ice cream, str...   \n",
       "9  nutella, cocoa powder, cocoa powder, flour, ga...   \n",
       "\n",
       "                                                href  \n",
       "0  http://www.grouprecipes.com/80642/ferrero-roch...  \n",
       "1  http://www.grouprecipes.com/77607/nutella-bund...  \n",
       "2  http://www.grouprecipes.com/21753/ultimate-cra...  \n",
       "3  http://www.grouprecipes.com/31372/gianduia-mou...  \n",
       "4  http://www.recipezaar.com/Cream-Cheese-and-Nut...  \n",
       "5  http://www.grouprecipes.com/25302/baked-cake.html  \n",
       "6  http://recipe.aol.com/recipe/chocolate-strawbe...  \n",
       "7  http://www.recipezaar.com/Cinnamon-Nutella-Cak...  \n",
       "8  http://www.foodnetwork.com/recipes/saras-secre...  \n",
       "9  http://www.grouprecipes.com/46881/chocolate-gl...  "
      ]
     },
     "execution_count": 89,
     "metadata": {},
     "output_type": "execute_result"
    }
   ],
   "source": [
    "df = pd.DataFrame(data['results'], columns= ['title', 'ingredients', 'href'])\n",
    "df"
   ]
  },
  {
   "cell_type": "code",
   "execution_count": 90,
   "metadata": {},
   "outputs": [
    {
     "data": {
      "text/html": [
       "<div>\n",
       "<style scoped>\n",
       "    .dataframe tbody tr th:only-of-type {\n",
       "        vertical-align: middle;\n",
       "    }\n",
       "\n",
       "    .dataframe tbody tr th {\n",
       "        vertical-align: top;\n",
       "    }\n",
       "\n",
       "    .dataframe thead th {\n",
       "        text-align: right;\n",
       "    }\n",
       "</style>\n",
       "<table border=\"1\" class=\"dataframe\">\n",
       "  <thead>\n",
       "    <tr style=\"text-align: right;\">\n",
       "      <th></th>\n",
       "      <th>title</th>\n",
       "      <th>ingredients</th>\n",
       "      <th>href</th>\n",
       "    </tr>\n",
       "  </thead>\n",
       "  <tbody>\n",
       "    <tr>\n",
       "      <th>0</th>\n",
       "      <td>Ferrero Rocher Chocolate Cheeese Cake Minis Re...</td>\n",
       "      <td>nutella</td>\n",
       "      <td>http://www.grouprecipes.com/80642/ferrero-roch...</td>\n",
       "    </tr>\n",
       "    <tr>\n",
       "      <th>2</th>\n",
       "      <td>Ultimate Cravings Mini  Cake Recipe</td>\n",
       "      <td>flour, raspberry jam, peanut butter, nutella, ...</td>\n",
       "      <td>http://www.grouprecipes.com/21753/ultimate-cra...</td>\n",
       "    </tr>\n",
       "    <tr>\n",
       "      <th>4</th>\n",
       "      <td>Cream Cheese and Nutella Filled Pound Cake</td>\n",
       "      <td>pound cake, cream cheese, nutella, powdered su...</td>\n",
       "      <td>http://www.recipezaar.com/Cream-Cheese-and-Nut...</td>\n",
       "    </tr>\n",
       "    <tr>\n",
       "      <th>5</th>\n",
       "      <td>Baked Cake Recipe</td>\n",
       "      <td>eggs, nutella, butter, baking powder, salt, va...</td>\n",
       "      <td>http://www.grouprecipes.com/25302/baked-cake.html</td>\n",
       "    </tr>\n",
       "    <tr>\n",
       "      <th>6</th>\n",
       "      <td>Chocolate Strawberry Pound Cake</td>\n",
       "      <td>pound cake, nutella, strawberries</td>\n",
       "      <td>http://recipe.aol.com/recipe/chocolate-strawbe...</td>\n",
       "    </tr>\n",
       "    <tr>\n",
       "      <th>8</th>\n",
       "      <td>Sky-high Layered Ice Cream Cake</td>\n",
       "      <td>heavy cream, nutella, chocolate ice cream, str...</td>\n",
       "      <td>http://www.foodnetwork.com/recipes/saras-secre...</td>\n",
       "    </tr>\n",
       "    <tr>\n",
       "      <th>9</th>\n",
       "      <td>Chocolate-glazed Hazelnut Mousse Cake Recipe</td>\n",
       "      <td>nutella, cocoa powder, cocoa powder, flour, ga...</td>\n",
       "      <td>http://www.grouprecipes.com/46881/chocolate-gl...</td>\n",
       "    </tr>\n",
       "  </tbody>\n",
       "</table>\n",
       "</div>"
      ],
      "text/plain": [
       "                                               title  \\\n",
       "0  Ferrero Rocher Chocolate Cheeese Cake Minis Re...   \n",
       "2                Ultimate Cravings Mini  Cake Recipe   \n",
       "4         Cream Cheese and Nutella Filled Pound Cake   \n",
       "5                                  Baked Cake Recipe   \n",
       "6                    Chocolate Strawberry Pound Cake   \n",
       "8                    Sky-high Layered Ice Cream Cake   \n",
       "9       Chocolate-glazed Hazelnut Mousse Cake Recipe   \n",
       "\n",
       "                                         ingredients  \\\n",
       "0                                            nutella   \n",
       "2  flour, raspberry jam, peanut butter, nutella, ...   \n",
       "4  pound cake, cream cheese, nutella, powdered su...   \n",
       "5  eggs, nutella, butter, baking powder, salt, va...   \n",
       "6                  pound cake, nutella, strawberries   \n",
       "8  heavy cream, nutella, chocolate ice cream, str...   \n",
       "9  nutella, cocoa powder, cocoa powder, flour, ga...   \n",
       "\n",
       "                                                href  \n",
       "0  http://www.grouprecipes.com/80642/ferrero-roch...  \n",
       "2  http://www.grouprecipes.com/21753/ultimate-cra...  \n",
       "4  http://www.recipezaar.com/Cream-Cheese-and-Nut...  \n",
       "5  http://www.grouprecipes.com/25302/baked-cake.html  \n",
       "6  http://recipe.aol.com/recipe/chocolate-strawbe...  \n",
       "8  http://www.foodnetwork.com/recipes/saras-secre...  \n",
       "9  http://www.grouprecipes.com/46881/chocolate-gl...  "
      ]
     },
     "execution_count": 90,
     "metadata": {},
     "output_type": "execute_result"
    }
   ],
   "source": [
    "df[df['ingredients'].str.contains(\" egg\")!=True]"
   ]
  },
  {
   "cell_type": "markdown",
   "metadata": {},
   "source": [
    "## Problem for this week\n",
    "Practice with missing data\n",
    "1. Create a DataFrame using\n",
    "```python\n",
    "import pandas as pd\n",
    "import numpy as np\n",
    "df = pd.DataFrame(np.random.randn(10, 10), columns= ['a','b','c','d','e','f','g','h','i','j'])\n",
    "df.iloc[:7, 1:3] = NA\n",
    "df.iloc[4:8, 5:8] = NA\n",
    "df.iloc[:,9] = NA\n",
    "df\n",
    "```"
   ]
  },
  {
   "cell_type": "code",
   "execution_count": 91,
   "metadata": {},
   "outputs": [
    {
     "data": {
      "text/html": [
       "<div>\n",
       "<style scoped>\n",
       "    .dataframe tbody tr th:only-of-type {\n",
       "        vertical-align: middle;\n",
       "    }\n",
       "\n",
       "    .dataframe tbody tr th {\n",
       "        vertical-align: top;\n",
       "    }\n",
       "\n",
       "    .dataframe thead th {\n",
       "        text-align: right;\n",
       "    }\n",
       "</style>\n",
       "<table border=\"1\" class=\"dataframe\">\n",
       "  <thead>\n",
       "    <tr style=\"text-align: right;\">\n",
       "      <th></th>\n",
       "      <th>a</th>\n",
       "      <th>b</th>\n",
       "      <th>c</th>\n",
       "      <th>d</th>\n",
       "      <th>e</th>\n",
       "      <th>f</th>\n",
       "      <th>g</th>\n",
       "      <th>h</th>\n",
       "      <th>i</th>\n",
       "      <th>j</th>\n",
       "    </tr>\n",
       "  </thead>\n",
       "  <tbody>\n",
       "    <tr>\n",
       "      <th>0</th>\n",
       "      <td>-0.485757</td>\n",
       "      <td>NaN</td>\n",
       "      <td>NaN</td>\n",
       "      <td>-1.925222</td>\n",
       "      <td>0.999875</td>\n",
       "      <td>-1.610897</td>\n",
       "      <td>2.829201</td>\n",
       "      <td>-0.369250</td>\n",
       "      <td>-0.194849</td>\n",
       "      <td>NaN</td>\n",
       "    </tr>\n",
       "    <tr>\n",
       "      <th>1</th>\n",
       "      <td>-0.372350</td>\n",
       "      <td>NaN</td>\n",
       "      <td>NaN</td>\n",
       "      <td>-0.653888</td>\n",
       "      <td>0.031172</td>\n",
       "      <td>-0.245609</td>\n",
       "      <td>-0.980438</td>\n",
       "      <td>0.347230</td>\n",
       "      <td>-0.161316</td>\n",
       "      <td>NaN</td>\n",
       "    </tr>\n",
       "    <tr>\n",
       "      <th>2</th>\n",
       "      <td>0.357593</td>\n",
       "      <td>NaN</td>\n",
       "      <td>NaN</td>\n",
       "      <td>-0.581407</td>\n",
       "      <td>0.327089</td>\n",
       "      <td>2.128128</td>\n",
       "      <td>-1.234195</td>\n",
       "      <td>-1.033660</td>\n",
       "      <td>-0.622067</td>\n",
       "      <td>NaN</td>\n",
       "    </tr>\n",
       "    <tr>\n",
       "      <th>3</th>\n",
       "      <td>1.002534</td>\n",
       "      <td>NaN</td>\n",
       "      <td>NaN</td>\n",
       "      <td>-0.606274</td>\n",
       "      <td>-0.427468</td>\n",
       "      <td>0.189180</td>\n",
       "      <td>0.699466</td>\n",
       "      <td>0.836803</td>\n",
       "      <td>1.757403</td>\n",
       "      <td>NaN</td>\n",
       "    </tr>\n",
       "    <tr>\n",
       "      <th>4</th>\n",
       "      <td>1.698762</td>\n",
       "      <td>NaN</td>\n",
       "      <td>NaN</td>\n",
       "      <td>0.226109</td>\n",
       "      <td>0.912496</td>\n",
       "      <td>NaN</td>\n",
       "      <td>NaN</td>\n",
       "      <td>NaN</td>\n",
       "      <td>-0.636272</td>\n",
       "      <td>NaN</td>\n",
       "    </tr>\n",
       "    <tr>\n",
       "      <th>5</th>\n",
       "      <td>1.660935</td>\n",
       "      <td>NaN</td>\n",
       "      <td>NaN</td>\n",
       "      <td>1.346899</td>\n",
       "      <td>0.573859</td>\n",
       "      <td>NaN</td>\n",
       "      <td>NaN</td>\n",
       "      <td>NaN</td>\n",
       "      <td>-0.115911</td>\n",
       "      <td>NaN</td>\n",
       "    </tr>\n",
       "    <tr>\n",
       "      <th>6</th>\n",
       "      <td>-1.367480</td>\n",
       "      <td>NaN</td>\n",
       "      <td>NaN</td>\n",
       "      <td>-0.254199</td>\n",
       "      <td>-0.544449</td>\n",
       "      <td>NaN</td>\n",
       "      <td>NaN</td>\n",
       "      <td>NaN</td>\n",
       "      <td>0.751524</td>\n",
       "      <td>NaN</td>\n",
       "    </tr>\n",
       "    <tr>\n",
       "      <th>7</th>\n",
       "      <td>-0.273865</td>\n",
       "      <td>1.346217</td>\n",
       "      <td>1.067880</td>\n",
       "      <td>-1.002703</td>\n",
       "      <td>0.199670</td>\n",
       "      <td>NaN</td>\n",
       "      <td>NaN</td>\n",
       "      <td>NaN</td>\n",
       "      <td>-0.419357</td>\n",
       "      <td>NaN</td>\n",
       "    </tr>\n",
       "    <tr>\n",
       "      <th>8</th>\n",
       "      <td>-0.213522</td>\n",
       "      <td>1.131751</td>\n",
       "      <td>-1.142564</td>\n",
       "      <td>1.595441</td>\n",
       "      <td>0.570184</td>\n",
       "      <td>0.485335</td>\n",
       "      <td>-1.236071</td>\n",
       "      <td>-0.561821</td>\n",
       "      <td>0.284013</td>\n",
       "      <td>NaN</td>\n",
       "    </tr>\n",
       "    <tr>\n",
       "      <th>9</th>\n",
       "      <td>-0.784597</td>\n",
       "      <td>0.920107</td>\n",
       "      <td>-0.664024</td>\n",
       "      <td>-0.176445</td>\n",
       "      <td>0.292323</td>\n",
       "      <td>0.720189</td>\n",
       "      <td>0.845043</td>\n",
       "      <td>1.673860</td>\n",
       "      <td>-0.291756</td>\n",
       "      <td>NaN</td>\n",
       "    </tr>\n",
       "  </tbody>\n",
       "</table>\n",
       "</div>"
      ],
      "text/plain": [
       "          a         b         c         d         e         f         g  \\\n",
       "0 -0.485757       NaN       NaN -1.925222  0.999875 -1.610897  2.829201   \n",
       "1 -0.372350       NaN       NaN -0.653888  0.031172 -0.245609 -0.980438   \n",
       "2  0.357593       NaN       NaN -0.581407  0.327089  2.128128 -1.234195   \n",
       "3  1.002534       NaN       NaN -0.606274 -0.427468  0.189180  0.699466   \n",
       "4  1.698762       NaN       NaN  0.226109  0.912496       NaN       NaN   \n",
       "5  1.660935       NaN       NaN  1.346899  0.573859       NaN       NaN   \n",
       "6 -1.367480       NaN       NaN -0.254199 -0.544449       NaN       NaN   \n",
       "7 -0.273865  1.346217  1.067880 -1.002703  0.199670       NaN       NaN   \n",
       "8 -0.213522  1.131751 -1.142564  1.595441  0.570184  0.485335 -1.236071   \n",
       "9 -0.784597  0.920107 -0.664024 -0.176445  0.292323  0.720189  0.845043   \n",
       "\n",
       "          h         i   j  \n",
       "0 -0.369250 -0.194849 NaN  \n",
       "1  0.347230 -0.161316 NaN  \n",
       "2 -1.033660 -0.622067 NaN  \n",
       "3  0.836803  1.757403 NaN  \n",
       "4       NaN -0.636272 NaN  \n",
       "5       NaN -0.115911 NaN  \n",
       "6       NaN  0.751524 NaN  \n",
       "7       NaN -0.419357 NaN  \n",
       "8 -0.561821  0.284013 NaN  \n",
       "9  1.673860 -0.291756 NaN  "
      ]
     },
     "execution_count": 91,
     "metadata": {},
     "output_type": "execute_result"
    }
   ],
   "source": [
    "df = pd.DataFrame(np.random.randn(10, 10), columns= ['a','b','c','d','e','f','g','h','i','j'])\n",
    "df.iloc[:7, 1:3] = NA\n",
    "df.iloc[4:8, 5:8] = NA\n",
    "df.iloc[:,9] = NA\n",
    "df"
   ]
  },
  {
   "cell_type": "markdown",
   "metadata": {},
   "source": [
    "2. Remove all rows where at least half the columns have missing data"
   ]
  },
  {
   "cell_type": "code",
   "execution_count": 92,
   "metadata": {
    "scrolled": true
   },
   "outputs": [
    {
     "data": {
      "text/html": [
       "<div>\n",
       "<style scoped>\n",
       "    .dataframe tbody tr th:only-of-type {\n",
       "        vertical-align: middle;\n",
       "    }\n",
       "\n",
       "    .dataframe tbody tr th {\n",
       "        vertical-align: top;\n",
       "    }\n",
       "\n",
       "    .dataframe thead th {\n",
       "        text-align: right;\n",
       "    }\n",
       "</style>\n",
       "<table border=\"1\" class=\"dataframe\">\n",
       "  <thead>\n",
       "    <tr style=\"text-align: right;\">\n",
       "      <th></th>\n",
       "      <th>a</th>\n",
       "      <th>b</th>\n",
       "      <th>c</th>\n",
       "      <th>d</th>\n",
       "      <th>e</th>\n",
       "      <th>f</th>\n",
       "      <th>g</th>\n",
       "      <th>h</th>\n",
       "      <th>i</th>\n",
       "      <th>j</th>\n",
       "    </tr>\n",
       "  </thead>\n",
       "  <tbody>\n",
       "    <tr>\n",
       "      <th>0</th>\n",
       "      <td>-0.485757</td>\n",
       "      <td>NaN</td>\n",
       "      <td>NaN</td>\n",
       "      <td>-1.925222</td>\n",
       "      <td>0.999875</td>\n",
       "      <td>-1.610897</td>\n",
       "      <td>2.829201</td>\n",
       "      <td>-0.369250</td>\n",
       "      <td>-0.194849</td>\n",
       "      <td>NaN</td>\n",
       "    </tr>\n",
       "    <tr>\n",
       "      <th>1</th>\n",
       "      <td>-0.372350</td>\n",
       "      <td>NaN</td>\n",
       "      <td>NaN</td>\n",
       "      <td>-0.653888</td>\n",
       "      <td>0.031172</td>\n",
       "      <td>-0.245609</td>\n",
       "      <td>-0.980438</td>\n",
       "      <td>0.347230</td>\n",
       "      <td>-0.161316</td>\n",
       "      <td>NaN</td>\n",
       "    </tr>\n",
       "    <tr>\n",
       "      <th>2</th>\n",
       "      <td>0.357593</td>\n",
       "      <td>NaN</td>\n",
       "      <td>NaN</td>\n",
       "      <td>-0.581407</td>\n",
       "      <td>0.327089</td>\n",
       "      <td>2.128128</td>\n",
       "      <td>-1.234195</td>\n",
       "      <td>-1.033660</td>\n",
       "      <td>-0.622067</td>\n",
       "      <td>NaN</td>\n",
       "    </tr>\n",
       "    <tr>\n",
       "      <th>3</th>\n",
       "      <td>1.002534</td>\n",
       "      <td>NaN</td>\n",
       "      <td>NaN</td>\n",
       "      <td>-0.606274</td>\n",
       "      <td>-0.427468</td>\n",
       "      <td>0.189180</td>\n",
       "      <td>0.699466</td>\n",
       "      <td>0.836803</td>\n",
       "      <td>1.757403</td>\n",
       "      <td>NaN</td>\n",
       "    </tr>\n",
       "    <tr>\n",
       "      <th>7</th>\n",
       "      <td>-0.273865</td>\n",
       "      <td>1.346217</td>\n",
       "      <td>1.067880</td>\n",
       "      <td>-1.002703</td>\n",
       "      <td>0.199670</td>\n",
       "      <td>NaN</td>\n",
       "      <td>NaN</td>\n",
       "      <td>NaN</td>\n",
       "      <td>-0.419357</td>\n",
       "      <td>NaN</td>\n",
       "    </tr>\n",
       "    <tr>\n",
       "      <th>8</th>\n",
       "      <td>-0.213522</td>\n",
       "      <td>1.131751</td>\n",
       "      <td>-1.142564</td>\n",
       "      <td>1.595441</td>\n",
       "      <td>0.570184</td>\n",
       "      <td>0.485335</td>\n",
       "      <td>-1.236071</td>\n",
       "      <td>-0.561821</td>\n",
       "      <td>0.284013</td>\n",
       "      <td>NaN</td>\n",
       "    </tr>\n",
       "    <tr>\n",
       "      <th>9</th>\n",
       "      <td>-0.784597</td>\n",
       "      <td>0.920107</td>\n",
       "      <td>-0.664024</td>\n",
       "      <td>-0.176445</td>\n",
       "      <td>0.292323</td>\n",
       "      <td>0.720189</td>\n",
       "      <td>0.845043</td>\n",
       "      <td>1.673860</td>\n",
       "      <td>-0.291756</td>\n",
       "      <td>NaN</td>\n",
       "    </tr>\n",
       "  </tbody>\n",
       "</table>\n",
       "</div>"
      ],
      "text/plain": [
       "          a         b         c         d         e         f         g  \\\n",
       "0 -0.485757       NaN       NaN -1.925222  0.999875 -1.610897  2.829201   \n",
       "1 -0.372350       NaN       NaN -0.653888  0.031172 -0.245609 -0.980438   \n",
       "2  0.357593       NaN       NaN -0.581407  0.327089  2.128128 -1.234195   \n",
       "3  1.002534       NaN       NaN -0.606274 -0.427468  0.189180  0.699466   \n",
       "7 -0.273865  1.346217  1.067880 -1.002703  0.199670       NaN       NaN   \n",
       "8 -0.213522  1.131751 -1.142564  1.595441  0.570184  0.485335 -1.236071   \n",
       "9 -0.784597  0.920107 -0.664024 -0.176445  0.292323  0.720189  0.845043   \n",
       "\n",
       "          h         i   j  \n",
       "0 -0.369250 -0.194849 NaN  \n",
       "1  0.347230 -0.161316 NaN  \n",
       "2 -1.033660 -0.622067 NaN  \n",
       "3  0.836803  1.757403 NaN  \n",
       "7       NaN -0.419357 NaN  \n",
       "8 -0.561821  0.284013 NaN  \n",
       "9  1.673860 -0.291756 NaN  "
      ]
     },
     "execution_count": 92,
     "metadata": {},
     "output_type": "execute_result"
    }
   ],
   "source": [
    "df.dropna(thresh = df.shape[0]/2)"
   ]
  },
  {
   "cell_type": "markdown",
   "metadata": {},
   "source": [
    "3. Remove all columns where at least half the rows have missing data"
   ]
  },
  {
   "cell_type": "code",
   "execution_count": 93,
   "metadata": {},
   "outputs": [
    {
     "data": {
      "text/html": [
       "<div>\n",
       "<style scoped>\n",
       "    .dataframe tbody tr th:only-of-type {\n",
       "        vertical-align: middle;\n",
       "    }\n",
       "\n",
       "    .dataframe tbody tr th {\n",
       "        vertical-align: top;\n",
       "    }\n",
       "\n",
       "    .dataframe thead th {\n",
       "        text-align: right;\n",
       "    }\n",
       "</style>\n",
       "<table border=\"1\" class=\"dataframe\">\n",
       "  <thead>\n",
       "    <tr style=\"text-align: right;\">\n",
       "      <th></th>\n",
       "      <th>a</th>\n",
       "      <th>d</th>\n",
       "      <th>e</th>\n",
       "      <th>f</th>\n",
       "      <th>g</th>\n",
       "      <th>h</th>\n",
       "      <th>i</th>\n",
       "    </tr>\n",
       "  </thead>\n",
       "  <tbody>\n",
       "    <tr>\n",
       "      <th>0</th>\n",
       "      <td>-0.485757</td>\n",
       "      <td>-1.925222</td>\n",
       "      <td>0.999875</td>\n",
       "      <td>-1.610897</td>\n",
       "      <td>2.829201</td>\n",
       "      <td>-0.369250</td>\n",
       "      <td>-0.194849</td>\n",
       "    </tr>\n",
       "    <tr>\n",
       "      <th>1</th>\n",
       "      <td>-0.372350</td>\n",
       "      <td>-0.653888</td>\n",
       "      <td>0.031172</td>\n",
       "      <td>-0.245609</td>\n",
       "      <td>-0.980438</td>\n",
       "      <td>0.347230</td>\n",
       "      <td>-0.161316</td>\n",
       "    </tr>\n",
       "    <tr>\n",
       "      <th>2</th>\n",
       "      <td>0.357593</td>\n",
       "      <td>-0.581407</td>\n",
       "      <td>0.327089</td>\n",
       "      <td>2.128128</td>\n",
       "      <td>-1.234195</td>\n",
       "      <td>-1.033660</td>\n",
       "      <td>-0.622067</td>\n",
       "    </tr>\n",
       "    <tr>\n",
       "      <th>3</th>\n",
       "      <td>1.002534</td>\n",
       "      <td>-0.606274</td>\n",
       "      <td>-0.427468</td>\n",
       "      <td>0.189180</td>\n",
       "      <td>0.699466</td>\n",
       "      <td>0.836803</td>\n",
       "      <td>1.757403</td>\n",
       "    </tr>\n",
       "    <tr>\n",
       "      <th>4</th>\n",
       "      <td>1.698762</td>\n",
       "      <td>0.226109</td>\n",
       "      <td>0.912496</td>\n",
       "      <td>NaN</td>\n",
       "      <td>NaN</td>\n",
       "      <td>NaN</td>\n",
       "      <td>-0.636272</td>\n",
       "    </tr>\n",
       "    <tr>\n",
       "      <th>5</th>\n",
       "      <td>1.660935</td>\n",
       "      <td>1.346899</td>\n",
       "      <td>0.573859</td>\n",
       "      <td>NaN</td>\n",
       "      <td>NaN</td>\n",
       "      <td>NaN</td>\n",
       "      <td>-0.115911</td>\n",
       "    </tr>\n",
       "    <tr>\n",
       "      <th>6</th>\n",
       "      <td>-1.367480</td>\n",
       "      <td>-0.254199</td>\n",
       "      <td>-0.544449</td>\n",
       "      <td>NaN</td>\n",
       "      <td>NaN</td>\n",
       "      <td>NaN</td>\n",
       "      <td>0.751524</td>\n",
       "    </tr>\n",
       "    <tr>\n",
       "      <th>7</th>\n",
       "      <td>-0.273865</td>\n",
       "      <td>-1.002703</td>\n",
       "      <td>0.199670</td>\n",
       "      <td>NaN</td>\n",
       "      <td>NaN</td>\n",
       "      <td>NaN</td>\n",
       "      <td>-0.419357</td>\n",
       "    </tr>\n",
       "    <tr>\n",
       "      <th>8</th>\n",
       "      <td>-0.213522</td>\n",
       "      <td>1.595441</td>\n",
       "      <td>0.570184</td>\n",
       "      <td>0.485335</td>\n",
       "      <td>-1.236071</td>\n",
       "      <td>-0.561821</td>\n",
       "      <td>0.284013</td>\n",
       "    </tr>\n",
       "    <tr>\n",
       "      <th>9</th>\n",
       "      <td>-0.784597</td>\n",
       "      <td>-0.176445</td>\n",
       "      <td>0.292323</td>\n",
       "      <td>0.720189</td>\n",
       "      <td>0.845043</td>\n",
       "      <td>1.673860</td>\n",
       "      <td>-0.291756</td>\n",
       "    </tr>\n",
       "  </tbody>\n",
       "</table>\n",
       "</div>"
      ],
      "text/plain": [
       "          a         d         e         f         g         h         i\n",
       "0 -0.485757 -1.925222  0.999875 -1.610897  2.829201 -0.369250 -0.194849\n",
       "1 -0.372350 -0.653888  0.031172 -0.245609 -0.980438  0.347230 -0.161316\n",
       "2  0.357593 -0.581407  0.327089  2.128128 -1.234195 -1.033660 -0.622067\n",
       "3  1.002534 -0.606274 -0.427468  0.189180  0.699466  0.836803  1.757403\n",
       "4  1.698762  0.226109  0.912496       NaN       NaN       NaN -0.636272\n",
       "5  1.660935  1.346899  0.573859       NaN       NaN       NaN -0.115911\n",
       "6 -1.367480 -0.254199 -0.544449       NaN       NaN       NaN  0.751524\n",
       "7 -0.273865 -1.002703  0.199670       NaN       NaN       NaN -0.419357\n",
       "8 -0.213522  1.595441  0.570184  0.485335 -1.236071 -0.561821  0.284013\n",
       "9 -0.784597 -0.176445  0.292323  0.720189  0.845043  1.673860 -0.291756"
      ]
     },
     "execution_count": 93,
     "metadata": {},
     "output_type": "execute_result"
    }
   ],
   "source": [
    "df.dropna(axis = 1, thresh = df.shape[1]/2)"
   ]
  },
  {
   "cell_type": "markdown",
   "metadata": {},
   "source": [
    "4. Combine problems 2 and 3. Does the order matter?"
   ]
  },
  {
   "cell_type": "code",
   "execution_count": 94,
   "metadata": {},
   "outputs": [
    {
     "data": {
      "text/html": [
       "<div>\n",
       "<style scoped>\n",
       "    .dataframe tbody tr th:only-of-type {\n",
       "        vertical-align: middle;\n",
       "    }\n",
       "\n",
       "    .dataframe tbody tr th {\n",
       "        vertical-align: top;\n",
       "    }\n",
       "\n",
       "    .dataframe thead th {\n",
       "        text-align: right;\n",
       "    }\n",
       "</style>\n",
       "<table border=\"1\" class=\"dataframe\">\n",
       "  <thead>\n",
       "    <tr style=\"text-align: right;\">\n",
       "      <th></th>\n",
       "      <th>a</th>\n",
       "      <th>d</th>\n",
       "      <th>e</th>\n",
       "      <th>f</th>\n",
       "      <th>g</th>\n",
       "      <th>h</th>\n",
       "      <th>i</th>\n",
       "    </tr>\n",
       "  </thead>\n",
       "  <tbody>\n",
       "    <tr>\n",
       "      <th>0</th>\n",
       "      <td>-0.485757</td>\n",
       "      <td>-1.925222</td>\n",
       "      <td>0.999875</td>\n",
       "      <td>-1.610897</td>\n",
       "      <td>2.829201</td>\n",
       "      <td>-0.369250</td>\n",
       "      <td>-0.194849</td>\n",
       "    </tr>\n",
       "    <tr>\n",
       "      <th>1</th>\n",
       "      <td>-0.372350</td>\n",
       "      <td>-0.653888</td>\n",
       "      <td>0.031172</td>\n",
       "      <td>-0.245609</td>\n",
       "      <td>-0.980438</td>\n",
       "      <td>0.347230</td>\n",
       "      <td>-0.161316</td>\n",
       "    </tr>\n",
       "    <tr>\n",
       "      <th>2</th>\n",
       "      <td>0.357593</td>\n",
       "      <td>-0.581407</td>\n",
       "      <td>0.327089</td>\n",
       "      <td>2.128128</td>\n",
       "      <td>-1.234195</td>\n",
       "      <td>-1.033660</td>\n",
       "      <td>-0.622067</td>\n",
       "    </tr>\n",
       "    <tr>\n",
       "      <th>3</th>\n",
       "      <td>1.002534</td>\n",
       "      <td>-0.606274</td>\n",
       "      <td>-0.427468</td>\n",
       "      <td>0.189180</td>\n",
       "      <td>0.699466</td>\n",
       "      <td>0.836803</td>\n",
       "      <td>1.757403</td>\n",
       "    </tr>\n",
       "    <tr>\n",
       "      <th>7</th>\n",
       "      <td>-0.273865</td>\n",
       "      <td>-1.002703</td>\n",
       "      <td>0.199670</td>\n",
       "      <td>NaN</td>\n",
       "      <td>NaN</td>\n",
       "      <td>NaN</td>\n",
       "      <td>-0.419357</td>\n",
       "    </tr>\n",
       "    <tr>\n",
       "      <th>8</th>\n",
       "      <td>-0.213522</td>\n",
       "      <td>1.595441</td>\n",
       "      <td>0.570184</td>\n",
       "      <td>0.485335</td>\n",
       "      <td>-1.236071</td>\n",
       "      <td>-0.561821</td>\n",
       "      <td>0.284013</td>\n",
       "    </tr>\n",
       "    <tr>\n",
       "      <th>9</th>\n",
       "      <td>-0.784597</td>\n",
       "      <td>-0.176445</td>\n",
       "      <td>0.292323</td>\n",
       "      <td>0.720189</td>\n",
       "      <td>0.845043</td>\n",
       "      <td>1.673860</td>\n",
       "      <td>-0.291756</td>\n",
       "    </tr>\n",
       "  </tbody>\n",
       "</table>\n",
       "</div>"
      ],
      "text/plain": [
       "          a         d         e         f         g         h         i\n",
       "0 -0.485757 -1.925222  0.999875 -1.610897  2.829201 -0.369250 -0.194849\n",
       "1 -0.372350 -0.653888  0.031172 -0.245609 -0.980438  0.347230 -0.161316\n",
       "2  0.357593 -0.581407  0.327089  2.128128 -1.234195 -1.033660 -0.622067\n",
       "3  1.002534 -0.606274 -0.427468  0.189180  0.699466  0.836803  1.757403\n",
       "7 -0.273865 -1.002703  0.199670       NaN       NaN       NaN -0.419357\n",
       "8 -0.213522  1.595441  0.570184  0.485335 -1.236071 -0.561821  0.284013\n",
       "9 -0.784597 -0.176445  0.292323  0.720189  0.845043  1.673860 -0.291756"
      ]
     },
     "execution_count": 94,
     "metadata": {},
     "output_type": "execute_result"
    }
   ],
   "source": [
    "df.dropna(thresh = df.shape[0]/2).dropna(axis = 1, thresh = df.shape[1]/2)"
   ]
  },
  {
   "cell_type": "code",
   "execution_count": 95,
   "metadata": {
    "scrolled": true
   },
   "outputs": [
    {
     "data": {
      "text/html": [
       "<div>\n",
       "<style scoped>\n",
       "    .dataframe tbody tr th:only-of-type {\n",
       "        vertical-align: middle;\n",
       "    }\n",
       "\n",
       "    .dataframe tbody tr th {\n",
       "        vertical-align: top;\n",
       "    }\n",
       "\n",
       "    .dataframe thead th {\n",
       "        text-align: right;\n",
       "    }\n",
       "</style>\n",
       "<table border=\"1\" class=\"dataframe\">\n",
       "  <thead>\n",
       "    <tr style=\"text-align: right;\">\n",
       "      <th></th>\n",
       "      <th>a</th>\n",
       "      <th>d</th>\n",
       "      <th>e</th>\n",
       "      <th>f</th>\n",
       "      <th>g</th>\n",
       "      <th>h</th>\n",
       "      <th>i</th>\n",
       "    </tr>\n",
       "  </thead>\n",
       "  <tbody>\n",
       "    <tr>\n",
       "      <th>0</th>\n",
       "      <td>-0.485757</td>\n",
       "      <td>-1.925222</td>\n",
       "      <td>0.999875</td>\n",
       "      <td>-1.610897</td>\n",
       "      <td>2.829201</td>\n",
       "      <td>-0.369250</td>\n",
       "      <td>-0.194849</td>\n",
       "    </tr>\n",
       "    <tr>\n",
       "      <th>1</th>\n",
       "      <td>-0.372350</td>\n",
       "      <td>-0.653888</td>\n",
       "      <td>0.031172</td>\n",
       "      <td>-0.245609</td>\n",
       "      <td>-0.980438</td>\n",
       "      <td>0.347230</td>\n",
       "      <td>-0.161316</td>\n",
       "    </tr>\n",
       "    <tr>\n",
       "      <th>2</th>\n",
       "      <td>0.357593</td>\n",
       "      <td>-0.581407</td>\n",
       "      <td>0.327089</td>\n",
       "      <td>2.128128</td>\n",
       "      <td>-1.234195</td>\n",
       "      <td>-1.033660</td>\n",
       "      <td>-0.622067</td>\n",
       "    </tr>\n",
       "    <tr>\n",
       "      <th>3</th>\n",
       "      <td>1.002534</td>\n",
       "      <td>-0.606274</td>\n",
       "      <td>-0.427468</td>\n",
       "      <td>0.189180</td>\n",
       "      <td>0.699466</td>\n",
       "      <td>0.836803</td>\n",
       "      <td>1.757403</td>\n",
       "    </tr>\n",
       "    <tr>\n",
       "      <th>8</th>\n",
       "      <td>-0.213522</td>\n",
       "      <td>1.595441</td>\n",
       "      <td>0.570184</td>\n",
       "      <td>0.485335</td>\n",
       "      <td>-1.236071</td>\n",
       "      <td>-0.561821</td>\n",
       "      <td>0.284013</td>\n",
       "    </tr>\n",
       "    <tr>\n",
       "      <th>9</th>\n",
       "      <td>-0.784597</td>\n",
       "      <td>-0.176445</td>\n",
       "      <td>0.292323</td>\n",
       "      <td>0.720189</td>\n",
       "      <td>0.845043</td>\n",
       "      <td>1.673860</td>\n",
       "      <td>-0.291756</td>\n",
       "    </tr>\n",
       "  </tbody>\n",
       "</table>\n",
       "</div>"
      ],
      "text/plain": [
       "          a         d         e         f         g         h         i\n",
       "0 -0.485757 -1.925222  0.999875 -1.610897  2.829201 -0.369250 -0.194849\n",
       "1 -0.372350 -0.653888  0.031172 -0.245609 -0.980438  0.347230 -0.161316\n",
       "2  0.357593 -0.581407  0.327089  2.128128 -1.234195 -1.033660 -0.622067\n",
       "3  1.002534 -0.606274 -0.427468  0.189180  0.699466  0.836803  1.757403\n",
       "8 -0.213522  1.595441  0.570184  0.485335 -1.236071 -0.561821  0.284013\n",
       "9 -0.784597 -0.176445  0.292323  0.720189  0.845043  1.673860 -0.291756"
      ]
     },
     "execution_count": 95,
     "metadata": {},
     "output_type": "execute_result"
    }
   ],
   "source": [
    "df.dropna(axis = 1, thresh = df.shape[1]/2).dropna(thresh = df.shape[0]/2)"
   ]
  },
  {
   "cell_type": "markdown",
   "metadata": {},
   "source": [
    "5. Remove all rows which have NA in either column 'b' or 'f'"
   ]
  },
  {
   "cell_type": "code",
   "execution_count": 96,
   "metadata": {},
   "outputs": [
    {
     "data": {
      "text/html": [
       "<div>\n",
       "<style scoped>\n",
       "    .dataframe tbody tr th:only-of-type {\n",
       "        vertical-align: middle;\n",
       "    }\n",
       "\n",
       "    .dataframe tbody tr th {\n",
       "        vertical-align: top;\n",
       "    }\n",
       "\n",
       "    .dataframe thead th {\n",
       "        text-align: right;\n",
       "    }\n",
       "</style>\n",
       "<table border=\"1\" class=\"dataframe\">\n",
       "  <thead>\n",
       "    <tr style=\"text-align: right;\">\n",
       "      <th></th>\n",
       "      <th>a</th>\n",
       "      <th>b</th>\n",
       "      <th>c</th>\n",
       "      <th>d</th>\n",
       "      <th>e</th>\n",
       "      <th>f</th>\n",
       "      <th>g</th>\n",
       "      <th>h</th>\n",
       "      <th>i</th>\n",
       "      <th>j</th>\n",
       "    </tr>\n",
       "  </thead>\n",
       "  <tbody>\n",
       "    <tr>\n",
       "      <th>8</th>\n",
       "      <td>-0.213522</td>\n",
       "      <td>1.131751</td>\n",
       "      <td>-1.142564</td>\n",
       "      <td>1.595441</td>\n",
       "      <td>0.570184</td>\n",
       "      <td>0.485335</td>\n",
       "      <td>-1.236071</td>\n",
       "      <td>-0.561821</td>\n",
       "      <td>0.284013</td>\n",
       "      <td>NaN</td>\n",
       "    </tr>\n",
       "    <tr>\n",
       "      <th>9</th>\n",
       "      <td>-0.784597</td>\n",
       "      <td>0.920107</td>\n",
       "      <td>-0.664024</td>\n",
       "      <td>-0.176445</td>\n",
       "      <td>0.292323</td>\n",
       "      <td>0.720189</td>\n",
       "      <td>0.845043</td>\n",
       "      <td>1.673860</td>\n",
       "      <td>-0.291756</td>\n",
       "      <td>NaN</td>\n",
       "    </tr>\n",
       "  </tbody>\n",
       "</table>\n",
       "</div>"
      ],
      "text/plain": [
       "          a         b         c         d         e         f         g  \\\n",
       "8 -0.213522  1.131751 -1.142564  1.595441  0.570184  0.485335 -1.236071   \n",
       "9 -0.784597  0.920107 -0.664024 -0.176445  0.292323  0.720189  0.845043   \n",
       "\n",
       "          h         i   j  \n",
       "8 -0.561821  0.284013 NaN  \n",
       "9  1.673860 -0.291756 NaN  "
      ]
     },
     "execution_count": 96,
     "metadata": {},
     "output_type": "execute_result"
    }
   ],
   "source": [
    "df.dropna(subset=['b','f'])"
   ]
  }
 ],
 "metadata": {
  "kernelspec": {
   "display_name": "Python 3",
   "language": "python",
   "name": "python3"
  },
  "language_info": {
   "codemirror_mode": {
    "name": "ipython",
    "version": 3
   },
   "file_extension": ".py",
   "mimetype": "text/x-python",
   "name": "python",
   "nbconvert_exporter": "python",
   "pygments_lexer": "ipython3",
   "version": "3.7.0"
  }
 },
 "nbformat": 4,
 "nbformat_minor": 2
}
