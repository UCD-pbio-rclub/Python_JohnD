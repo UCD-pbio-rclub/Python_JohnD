{
 "cells": [
  {
   "cell_type": "code",
   "execution_count": 1,
   "metadata": {},
   "outputs": [],
   "source": [
    "import random\n",
    "Seq1 = ''.join(random.choices('ACGT', k = 1000))\n",
    "Seq2 = ''.join(random.choices('ACGT', k = 1000))\n",
    "Seq3 = ''.join(random.choices('ACGT', k = 2000))\n",
    "Seq4 = ''.join(random.choices('ACGT', k = 2000))"
   ]
  },
  {
   "cell_type": "code",
   "execution_count": 2,
   "metadata": {},
   "outputs": [],
   "source": [
    "def hamming_distance(seq1,seq2):\n",
    "    distance = 0\n",
    "    for i in range(len(seq1)):\n",
    "        if seq1[i] != seq2[i]:\n",
    "            distance += 1\n",
    "    return distance\n",
    "def circles(seq1,seq2):\n",
    "    distances=[]\n",
    "    for i in range(len(seq1)):\n",
    "        new = seq2[i:] + seq2[:i]\n",
    "        distances.append(hamming_distance(seq1,new))\n",
    "    return min(distances)"
   ]
  },
  {
   "cell_type": "code",
   "execution_count": 3,
   "metadata": {},
   "outputs": [
    {
     "name": "stdout",
     "output_type": "stream",
     "text": [
      "0.09422111511230469\n",
      "0.41185998916625977\n"
     ]
    }
   ],
   "source": [
    "import time\n",
    "start = time.time()\n",
    "circles(Seq1,Seq2)\n",
    "end = time.time()\n",
    "print(end - start)\n",
    "start = time.time()\n",
    "circles(Seq3,Seq4)\n",
    "end = time.time()\n",
    "print(end - start)"
   ]
  }
 ],
 "metadata": {
  "kernelspec": {
   "display_name": "Python 3",
   "language": "python",
   "name": "python3"
  },
  "language_info": {
   "codemirror_mode": {
    "name": "ipython",
    "version": 3
   },
   "file_extension": ".py",
   "mimetype": "text/x-python",
   "name": "python",
   "nbconvert_exporter": "python",
   "pygments_lexer": "ipython3",
   "version": "3.7.0"
  }
 },
 "nbformat": 4,
 "nbformat_minor": 2
}
