{
 "cells": [
  {
   "cell_type": "code",
   "execution_count": 17,
   "metadata": {},
   "outputs": [
    {
     "name": "stdout",
     "output_type": "stream",
     "text": [
      "(0, 0)\n",
      "(1, 0)\n",
      "(1, 1)\n",
      "(2, 0)\n",
      "(2, 1)\n",
      "(2, 2)\n",
      "(3, 0)\n",
      "(3, 1)\n",
      "(3, 2)\n",
      "(3, 3)\n",
      "\n"
     ]
    }
   ],
   "source": [
    "#Page 47\n",
    "for i in range(4):\n",
    "    for j in range(4):\n",
    "        if j > i:\n",
    "            break\n",
    "        print((i, j))\n",
    "print()"
   ]
  },
  {
   "cell_type": "code",
   "execution_count": 18,
   "metadata": {},
   "outputs": [
    {
     "name": "stdout",
     "output_type": "stream",
     "text": [
      "256\n",
      "384\n",
      "448\n",
      "480\n",
      "496\n",
      "504\n",
      "\n"
     ]
    }
   ],
   "source": [
    "#Page 48\n",
    "x = 256\n",
    "total = 0\n",
    "while x > 0:\n",
    "    if total > 500:\n",
    "        break\n",
    "    total += x\n",
    "    x = x // 2\n",
    "    print(total)\n",
    "print()"
   ]
  },
  {
   "cell_type": "code",
   "execution_count": null,
   "metadata": {},
   "outputs": [],
   "source": [
    "#Page 49\n",
    "seq = [1,2,3,4]\n",
    "for i in range(len(seq)):\n",
    "    print(seq[i])\n",
    "print()\n",
    "\n",
    "sum = 0\n",
    "for i in range(100000):\n",
    "    if i % 3 == 0 or i % 5 == 0:\n",
    "        sum += i\n",
    "print(sum)\n",
    "print()\n",
    "\n",
    "x = 5\n",
    "'Non-negative' if x >= 0 else 'Negative'"
   ]
  },
  {
   "cell_type": "code",
   "execution_count": 1,
   "metadata": {},
   "outputs": [],
   "source": [
    "import random\n",
    "def get_guess():\n",
    "    guess = input(\"Will it be heads or tails? [H/T]: \").lower()\n",
    "    if guess == 'h' or guess == 't':\n",
    "        return guess\n",
    "    else:\n",
    "        print(\"You need to guess 'h' or 't'!\")\n",
    "        get_guess()\n",
    "def flip_coins():\n",
    "    try:\n",
    "        flips = int(input(\"How many coin flips?: \"))\n",
    "    except:\n",
    "        print(\"Not a number\")\n",
    "        flip_coins()\n",
    "    i = 0\n",
    "    correct = 0\n",
    "    while i < flips:\n",
    "        guess = get_guess()\n",
    "        flip = random.random()\n",
    "        flip = 't' if flip < .5 else 'h'\n",
    "        if flip == guess:\n",
    "            correct += 1\n",
    "            print(\"Correct\")\n",
    "        else:\n",
    "            print(\"Wrong\")\n",
    "        i += 1\n",
    "    print('You were right {0} out of {1} guesses!'.format(correct,flips))"
   ]
  },
  {
   "cell_type": "code",
   "execution_count": 2,
   "metadata": {},
   "outputs": [
    {
     "name": "stdout",
     "output_type": "stream",
     "text": [
      "How many coin flips?: 3\n",
      "Will it be heads or tails? [H/T]: h\n",
      "Wrong\n",
      "Will it be heads or tails? [H/T]: y\n",
      "You need to guess 'h' or 't'!\n",
      "Will it be heads or tails? [H/T]: t\n",
      "Wrong\n",
      "Will it be heads or tails? [H/T]: h\n",
      "Correct\n",
      "You were right 1 out of 3 guesses!\n"
     ]
    }
   ],
   "source": [
    "flip_coins()"
   ]
  }
 ],
 "metadata": {
  "kernelspec": {
   "display_name": "Python 3",
   "language": "python",
   "name": "python3"
  },
  "language_info": {
   "codemirror_mode": {
    "name": "ipython",
    "version": 3
   },
   "file_extension": ".py",
   "mimetype": "text/x-python",
   "name": "python",
   "nbconvert_exporter": "python",
   "pygments_lexer": "ipython3",
   "version": "3.7.0"
  }
 },
 "nbformat": 4,
 "nbformat_minor": 2
}
